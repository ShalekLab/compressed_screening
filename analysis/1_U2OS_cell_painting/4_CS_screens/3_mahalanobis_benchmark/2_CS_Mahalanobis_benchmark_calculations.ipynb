{
 "cells": [
  {
   "cell_type": "markdown",
   "metadata": {},
   "source": [
    "# Comp Screening - cell painting compressed (OG316) analysis\n",
    "## FOR COMPLTETE (datalock) cell painting dataset\n",
    "#### _BEM 10-19-2021_\n",
    "\n",
    "### What this does:\n",
    "looks @ the compressed screen data - tries out"
   ]
  },
  {
   "cell_type": "code",
   "execution_count": 1,
   "metadata": {},
   "outputs": [],
   "source": [
    "import os\n",
    "import sys\n",
    "import warnings\n",
    "import random\n",
    "import pandas as pd\n",
    "import numpy as np\n",
    "import scanpy as sc\n",
    "import seaborn as sns\n",
    "import matplotlib.pyplot as plt\n",
    "import anndata\n",
    "import multiprocess as mp\n",
    "from itertools import repeat\n",
    "from scipy.stats import mode\n",
    "from sklearn.metrics import silhouette_score\n",
    "from sklearn.covariance import EmpiricalCovariance\n",
    "from statsmodels.stats.weightstats import ttest_ind\n",
    "from statsmodels.stats.multitest import multipletests\n",
    "\n",
    "pd.set_option('mode.chained_assignment', None)\n",
    "data_path = '../1_Data/'"
   ]
  },
  {
   "cell_type": "markdown",
   "metadata": {},
   "source": [
    "## Define Functions"
   ]
  },
  {
   "cell_type": "markdown",
   "metadata": {},
   "source": [
    "#### Hide annoying prints"
   ]
  },
  {
   "cell_type": "code",
   "execution_count": 3,
   "metadata": {
    "tags": []
   },
   "outputs": [],
   "source": [
    "class HiddenPrints:\n",
    "    \"\"\"\n",
    "    Class to hide unnecessary prints\n",
    "    \"\"\"\n",
    "    \n",
    "    def __enter__(self):\n",
    "        self._original_stdout = sys.stdout\n",
    "        sys.stdout = open(os.devnull, 'w')\n",
    "\n",
    "    def __exit__(self, exc_type, exc_val, exc_tb):\n",
    "        sys.stdout.close()\n",
    "        sys.stdout = self._original_stdout"
   ]
  },
  {
   "cell_type": "markdown",
   "metadata": {},
   "source": [
    "#### Mahalanobis calcs"
   ]
  },
  {
   "cell_type": "code",
   "execution_count": 4,
   "metadata": {
    "tags": []
   },
   "outputs": [],
   "source": [
    "def mahala_dist_CS(adata, use_rep='X', std_cutoff=3, n_sample=10000, assume_centered=False, num_pcs=None):\n",
    "    \"\"\"\n",
    "    Calculates the mahalanobis disance of the pert. avg and provides a standard deviation cutoff based on DMSO null dist\n",
    "    in adata using MCD robust estimator trained on DMSO + avg Pert., stores values as metadata\n",
    "    \"\"\"\n",
    "    \n",
    "    # weight PCs by variance explained\n",
    "    adata.obsm['X_pca_weighted'] = np.multiply(adata.obsm['X_pca'],adata.uns['pca']['variance_ratio'])\n",
    "    adata.obsm['X_pca_harmony_weighted'] = np.multiply(adata.obsm['X_pca_harmony'],adata.uns['pca']['variance_ratio'])\n",
    "    \n",
    "    # select data\n",
    "    adata_DMSO = adata[adata.obs.Metadata_perturbation=='DMSO',:]\n",
    "    adata_pert = adata[~(adata.obs.Metadata_perturbation=='DMSO'),:]\n",
    "    \n",
    "    if use_rep == 'X':\n",
    "        X_DMSO = adata_DMSO.X\n",
    "        X_pert = pd.DataFrame()\n",
    "\n",
    "        for i in list(range(adata_pert.obsm['design_matrix'].shape[1])):\n",
    "            pert = pd.DataFrame(np.multiply(adata_pert.X, adata_pert.obsm['design_matrix'][:,i].astype(int)[:, np.newaxis]))\n",
    "            pert = pert.loc[~(pert==0).all(axis=1)]\n",
    "            pert['Metadata_perturbation'] = adata_pert.uns['design_matrix_perturbations'][i]\n",
    "            pert = pert.set_index('Metadata_perturbation')\n",
    "            X_pert = pd.concat([X_pert, pert])\n",
    "\n",
    "    elif use_rep == 'X_pca':\n",
    "        if num_pcs == None:\n",
    "            print('speficy num_pcs')\n",
    "            return\n",
    "        else:\n",
    "            X_DMSO = adata_DMSO.obsm['X_pca_weighted'][:,0:num_pcs]\n",
    "            X_pert = pd.DataFrame()\n",
    "\n",
    "            for i in list(range(adata_pert.obsm['design_matrix'].shape[1])):\n",
    "                pert = pd.DataFrame(np.multiply(adata_pert.obsm['X_pca_weighted'][:,0:num_pcs], \n",
    "                                                adata_pert.obsm['design_matrix'][:,i].astype(int)[:, np.newaxis]))\n",
    "                pert = pert.loc[~(pert==0).all(axis=1)]\n",
    "                pert['Metadata_perturbation'] = adata_pert.uns['design_matrix_perturbations'][i]\n",
    "                pert = pert.set_index('Metadata_perturbation')\n",
    "                X_pert = pd.concat([X_pert, pert])\n",
    "            \n",
    "    elif use_rep == 'X_pca_harmony':\n",
    "        if num_pcs == None:\n",
    "            print('speficy num_pcs')\n",
    "            return\n",
    "        else:\n",
    "            X_DMSO = adata_DMSO.obsm['X_pca_harmony_weighted'][:,0:num_pcs]\n",
    "            X_pert = pd.DataFrame()\n",
    "\n",
    "            for i in list(range(adata_pert.obsm['design_matrix'].shape[1])):\n",
    "                pert = pd.DataFrame(np.multiply(adata_pert.obsm['X_pca_harmony_weighted'][:,0:num_pcs], \n",
    "                                                adata_pert.obsm['design_matrix'][:,i].astype(int)[:, np.newaxis]))\n",
    "                pert = pert.loc[~(pert==0).all(axis=1)]\n",
    "                pert['Metadata_perturbation'] = adata_pert.uns['design_matrix_perturbations'][i]\n",
    "                pert = pert.set_index('Metadata_perturbation')\n",
    "                X_pert = pd.concat([X_pert, pert])\n",
    "    \n",
    "    else:\n",
    "        print('use_rep is not valid option')\n",
    "        return\n",
    "    \n",
    "    # average by perturbation\n",
    "    X_avg_pert = X_pert.groupby('Metadata_perturbation').mean()\n",
    "\n",
    "    # fit covariance estimator to control + avg. pert. sample\n",
    "    cov = EmpiricalCovariance(assume_centered=assume_centered).fit(X_DMSO)\n",
    "\n",
    "    # calclute perturbation mahalanois distances\n",
    "    if assume_centered:\n",
    "        pert_mahal = np.sqrt(cov.mahalanobis(X_avg_pert))\n",
    "    else:\n",
    "        pert_mahal = np.sqrt(cov.mahalanobis(X_avg_pert-cov.location_))\n",
    "    \n",
    "    # sample DMSO null distribution\n",
    "    n_rep = mode(X_pert.iloc[:,0].groupby('Metadata_perturbation').count()).mode[0]\n",
    "    n_DMSO = len(X_DMSO)\n",
    "    DMSO_null = np.mean(X_DMSO[np.random.randint(0,n_DMSO,size=(n_sample,n_rep))], axis=1)\n",
    "    \n",
    "    #calc DMSO null mahalanobis\n",
    "    if assume_centered:\n",
    "        DMSO_mahal = np.sqrt(cov.mahalanobis(DMSO_null))\n",
    "    else:\n",
    "        DMSO_mahal = np.sqrt(cov.mahalanobis(DMSO_null-cov.location_))\n",
    "    \n",
    "    # empirical stdev cutoff for pert vs. null DMSO\n",
    "    pass_value = (np.std(DMSO_mahal)*std_cutoff)+np.mean(DMSO_mahal)\n",
    "    \n",
    "    # build pert table\n",
    "    mahala_table = pd.DataFrame(pert_mahal, \n",
    "                                index=X_avg_pert.index,\n",
    "                                columns=['mahalanobis'])\n",
    "    mahala_table['signif_mahala'] = (pert_mahal > pass_value)\n",
    "    mahala_table.reset_index(inplace=True)\n",
    "    \n",
    "    # make mahala table for plotting    \n",
    "    dmso_table = pd.DataFrame(np.random.choice(DMSO_mahal, size=n_DMSO*5, replace=False),\n",
    "                              columns=['mahalanobis'])\n",
    "    dmso_table['Metadata_perturbation'] = 'DMSO'\n",
    "    dmso_table['signif_mahala'] = 'DMSO'\n",
    "    \n",
    "    mahala_table = pd.concat([mahala_table, dmso_table])\n",
    "    \n",
    "    return mahala_table    "
   ]
  },
  {
   "cell_type": "markdown",
   "metadata": {},
   "source": [
    "## Analysis"
   ]
  },
  {
   "cell_type": "markdown",
   "metadata": {},
   "source": [
    "### Load in anndata"
   ]
  },
  {
   "cell_type": "code",
   "execution_count": 2,
   "metadata": {},
   "outputs": [],
   "source": [
    "# PCA harmony data\n",
    "OG316 = anndata.read_h5ad(data_path+'09272021_PCH_rd_OG316_table.h5ad')\n",
    "\n",
    "# add metadata for landmarks\n",
    "LM_list = ['DMSO','Doxorubicin','Daunorubicin','Fluvastatin','Ticlopidine',\n",
    "           'Tropicamide','Mycophenolic Acid','Vinblastine Sulfate','Riluzole']\n",
    "\n",
    "LM_df = pd.DataFrame(columns = LM_list)\n",
    "\n",
    "for LM in LM_list:\n",
    "    LM_df[LM] = (OG316.obs.Metadata_perturbation == LM)\n",
    "    LM_df[LM] = OG316.obs.Metadata_perturbation[(OG316.obs.Metadata_perturbation == LM)]\n",
    "\n",
    "    OG316.obs[LM] = LM_df[LM]\n",
    "\n",
    "OG316.obs['landmarks'] = LM_df.astype(str).replace('nan', '').sum(axis=1)\n",
    "OG316.obs.loc[OG316.obs.landmarks == '', 'landmarks'] = np.nan\n",
    "\n",
    "# Add feature descriptors\n",
    "feature_desc = pd.DataFrame(list(OG316.var_names))[0].str.split('_', n=2, expand=True)\n",
    "feature_desc.columns = ['compartment','measure','channel']\n",
    "feature_desc['channel'] = feature_desc.channel.str.split('_', expand=False).str.get(1)\n",
    "\n",
    "OG316.var['compartment'] = feature_desc.compartment.values\n",
    "OG316.var['measure'] = feature_desc.measure.values\n",
    "OG316.var['channel'] = feature_desc.channel.values\n",
    "OG316.var.loc[OG316.var.channel.isna(), 'channel'] = OG316.var.loc[OG316.var.channel.isna(), 'measure']\n",
    "digits = ['0','1','2','3','4', '5', '6', '7', '8', '9']\n",
    "OG316.var.loc[OG316.var.channel.isin(digits), 'channel'] = OG316.var.loc[OG316.var.channel.isin(digits), 'measure']\n",
    "OG316.var.loc[OG316.var.channel == 'Adjacent', 'channel'] = OG316.var.loc[OG316.var.channel == 'Adjacent', 'measure']\n",
    "\n",
    "# filter to only compressed data\n",
    "C316 = OG316[~OG316.obs.Metadata_run.isin(['GT_run2', 'GT_run1_batch1']),:]\n"
   ]
  },
  {
   "cell_type": "code",
   "execution_count": 3,
   "metadata": {},
   "outputs": [
    {
     "name": "stderr",
     "output_type": "stream",
     "text": [
      "Trying to set attribute `.obs` of view, copying.\n"
     ]
    }
   ],
   "source": [
    "# filter to single run & add design matrix\n",
    "\n",
    "r1_4x5r = C316[(C316.obs.Metadata_run=='CS_run1')&\\\n",
    "               (C316.obs.Metadata_perturbation.isin(['random', 'DMSO']))&\\\n",
    "               (C316.obs.Metadata_compression==4)&\\\n",
    "               (C316.obs.Metadata_replicates==5),:]\n",
    "\n",
    "r1_4x5r.obs['design_index']=r1_4x5r.obs.Metadata_Plate.astype(str)+'_'+r1_4x5r.obs.Metadata_Well.astype(str)\n",
    "\n",
    "# load in design matricies\n",
    "run1_design = pd.read_csv(data_path+'CS_run1_PCH_rd_OG316_design_matrix.csv',index_col=0).reset_index().rename(columns={'index':'design_index'})\n",
    "\n",
    "# add design matrix\n",
    "design_mat = pd.DataFrame(r1_4x5r.obs['design_index']).\\\n",
    "             merge(run1_design,how='left',on='design_index').\\\n",
    "             drop(['design_index'],axis=1)\n",
    "\n",
    "r1_4x5r.obsm['design_matrix']=np.array(design_mat)\n",
    "r1_4x5r.uns['design_matrix_perturbations'] = design_mat.columns.values.tolist()\n",
    "\n",
    "# filter to reps\n",
    "plate = list(set(r1_4x5r.obs.loc[r1_4x5r.obs.Metadata_perturbation=='random','Metadata_Plate'].values))\n",
    "\n",
    "r1_4x5r1 = r1_4x5r[(r1_4x5r.obs.Metadata_Plate==plate[0]),:]"
   ]
  },
  {
   "cell_type": "markdown",
   "metadata": {},
   "source": [
    "### Determine num_PCs, neighbors, UMAP"
   ]
  },
  {
   "cell_type": "code",
   "execution_count": 4,
   "metadata": {},
   "outputs": [
    {
     "data": {
      "image/png": "[encoded data removed]",
      "text/plain": [
       "<Figure size 432x288 with 1 Axes>"
      ]
     },
     "metadata": {
      "needs_background": "light"
     },
     "output_type": "display_data"
    },
    {
     "name": "stdout",
     "output_type": "stream",
     "text": [
      "90% of variance explained by 9 PCs\n"
     ]
    }
   ],
   "source": [
    "# recalc PC's for dataset\n",
    "sc.pp.pca(r1_4x5r1)\n",
    "\n",
    "# single plate (no need to batch correct)\n",
    "\n",
    "# get num of PCs to use (up to 90% var explained)\n",
    "sc.pl.pca_variance_ratio(r1_4x5r1, n_pcs = 50, log=False)\n",
    "num_pcs = sum(np.cumsum(r1_4x5r1.uns['pca']['variance_ratio']) < 0.9)+1\n",
    "\n",
    "print('90% of variance explained by '+str(num_pcs)+' PCs')"
   ]
  },
  {
   "cell_type": "markdown",
   "metadata": {},
   "source": [
    "### Determine Signif Pertrubs by Mahalnobis Dist"
   ]
  },
  {
   "cell_type": "code",
   "execution_count": 18,
   "metadata": {},
   "outputs": [],
   "source": [
    "mahala_table = mahala_dist_CS(r1_4x5r1, std_cutoff=8, use_rep='X_pca', num_pcs=num_pcs)"
   ]
  },
  {
   "cell_type": "code",
   "execution_count": 19,
   "metadata": {},
   "outputs": [
    {
     "data": {
      "image/png": "[encoded data removed]",
      "text/plain": [
       "<Figure size 432x288 with 1 Axes>"
      ]
     },
     "metadata": {
      "needs_background": "light"
     },
     "output_type": "display_data"
    }
   ],
   "source": [
    "g = sns.histplot(mahala_table, x='mahalanobis', \n",
    "                 element=\"step\", multiple='layer', stat='density', bins = 40,\n",
    "                 hue=\"signif_mahala\", palette=['grey','orange', 'blue'])\n",
    "\n",
    "g.figure.savefig(\"figures/CS316_r1_4x5r_mahala_sig_plot.pdf\");"
   ]
  },
  {
   "cell_type": "code",
   "execution_count": 20,
   "metadata": {},
   "outputs": [
    {
     "name": "stdout",
     "output_type": "stream",
     "text": [
      "221 significant drugs\n"
     ]
    }
   ],
   "source": [
    "sig_drugs = set(mahala_table.loc[mahala_table.signif_mahala==True,'Metadata_perturbation'].values)\n",
    "\n",
    "print(str(len(sig_drugs))+' significant drugs')\n",
    "\n",
    "pd.DataFrame({'mahala_sig_compounds':list(sig_drugs)}).to_csv('CS316_mahala_sig.csv', index=False)\n",
    "mahala_table.to_csv('CS316_mahala.csv', index=False)\n"
   ]
  },
  {
   "cell_type": "code",
   "execution_count": null,
   "metadata": {},
   "outputs": [],
   "source": []
  }
 ],
 "metadata": {
  "kernelspec": {
   "display_name": "Python 3.7.3 64-bit",
   "language": "python",
   "name": "python3"
  },
  "language_info": {
   "codemirror_mode": {
    "name": "ipython",
    "version": 3
   },
   "file_extension": ".py",
   "mimetype": "text/x-python",
   "name": "python",
   "nbconvert_exporter": "python",
   "pygments_lexer": "ipython3",
   "version": "3.7.3"
  },
  "vscode": {
   "interpreter": {
    "hash": "31f2aee4e71d21fbe5cf8b01ff0e069b9275f58929596ceb00d14d90e3e16cd6"
   }
  }
 },
 "nbformat": 4,
 "nbformat_minor": 4
}
