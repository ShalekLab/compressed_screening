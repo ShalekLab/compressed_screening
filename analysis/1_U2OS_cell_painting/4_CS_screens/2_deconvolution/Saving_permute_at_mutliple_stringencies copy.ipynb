{
 "cells": [
  {
   "cell_type": "code",
   "execution_count": 5,
   "id": "460a6285-646e-43e2-8b07-6ea5fe0629b4",
   "metadata": {},
   "outputs": [],
   "source": [
    "import numpy as np\n",
    "import pandas as pd\n",
    "import glob"
   ]
  },
  {
   "cell_type": "code",
   "execution_count": 11,
   "id": "93e6f30d-db3a-4e1a-bcbf-8e87273f6c9e",
   "metadata": {},
   "outputs": [],
   "source": [
    "model_coef_files = glob.glob(\"decon_out/raw_rd_OG316_raw_decon_out/*random_model_coef.csv\")\n",
    "model_coef_files1 = glob.glob(\"decon_out/raw_rd_OG316_raw_decon_out/*random1_model_coef.csv\")\n",
    "model_coef_files2 = glob.glob(\"decon_out/raw_rd_OG316_raw_decon_out/*random2_model_coef.csv\")\n",
    "model_coef_files = model_coef_files + model_coef_files1 + model_coef_files2\n",
    "\n",
    "for model_coef_file in model_coef_files:\n",
    "    \n",
    "    # Load in the no permute model coefs and the pvals tables\n",
    "    no_permute_model_coef = pd.read_csv(model_coef_file,index_col=0)\n",
    "    pval_table_file = model_coef_file.split(\"model_coef.csv\")[0]+\"pval_table.csv\"\n",
    "    pval_table = pd.read_csv(pval_table_file,index_col=0)\n",
    "    \n",
    "    # Filter on three stringency levels\n",
    "    for threshold in np.arange(0.0,1.01,step=0.01):\n",
    "            permute_model_coef = no_permute_model_coef*(pval_table < threshold)\n",
    "            permute_model_coef.to_csv(model_coef_file.split(\"model_coef.csv\")[0]+\"permute_\"+str(np.round(threshold,4))+\"_model_coef.csv\")\n",
    "    \n",
    "    # threshold = 0.05\n",
    "    # permute_model_coef = no_permute_model_coef*(pval_table < threshold)\n",
    "    # permute_model_coef.to_csv(model_coef_file.split(\"model_coef.csv\")[0]+\"permute_\"+str(threshold)+\"_model_coef.csv\")\n",
    "    \n",
    "    # threshold = 0.01\n",
    "    # permute_model_coef = no_permute_model_coef*(pval_table < threshold)\n",
    "    # permute_model_coef.to_csv(model_coef_file.split(\"model_coef.csv\")[0]+\"permute_\"+str(threshold)+\"_model_coef.csv\")\n",
    "    \n",
    "    # threshold = 0.001\n",
    "    # permute_model_coef = no_permute_model_coef*(pval_table < threshold)\n",
    "    # permute_model_coef.to_csv(model_coef_file.split(\"model_coef.csv\")[0]+\"permute_\"+str(threshold)+\"_model_coef.csv\")"
   ]
  },
  {
   "cell_type": "code",
   "execution_count": 12,
   "id": "a2a11ed0-e26e-4e29-b11f-ef9a1f629b24",
   "metadata": {},
   "outputs": [],
   "source": [
    "model_coef_files = glob.glob(\"decon_out/PCH_rd_OG316_PCH_decon_out/*random_model_coef.csv\")\n",
    "model_coef_files1 = glob.glob(\"decon_out/PCH_rd_OG316_PCH_decon_out/*random1_model_coef.csv\")\n",
    "model_coef_files2 = glob.glob(\"decon_out/PCH_rd_OG316_PCH_decon_out/*random2_model_coef.csv\")\n",
    "model_coef_files = model_coef_files + model_coef_files1 + model_coef_files2\n",
    "\n",
    "for model_coef_file in model_coef_files:\n",
    "    \n",
    "    # Load in the no permute model coefs and the pvals tables\n",
    "    no_permute_model_coef = pd.read_csv(model_coef_file,index_col=0)\n",
    "    pval_table_file = model_coef_file.split(\"model_coef.csv\")[0]+\"pval_table.csv\"\n",
    "    pval_table = pd.read_csv(pval_table_file,index_col=0)\n",
    "    \n",
    "    # Filter on three stringency levels\n",
    "    for threshold in np.arange(0.0,1.01,step=0.01):\n",
    "        permute_model_coef = no_permute_model_coef*(pval_table < threshold)\n",
    "        permute_model_coef.to_csv(model_coef_file.split(\"model_coef.csv\")[0]+\"permute_\"+str(np.round(threshold,4))+\"_model_coef.csv\")\n"
   ]
  },
  {
   "cell_type": "code",
   "execution_count": 13,
   "id": "c844a77f",
   "metadata": {},
   "outputs": [
    {
     "name": "stdout",
     "output_type": "stream",
     "text": [
      "done\n"
     ]
    }
   ],
   "source": [
    "print('done')"
   ]
  },
  {
   "cell_type": "code",
   "execution_count": 10,
   "id": "87af4477",
   "metadata": {},
   "outputs": [
    {
     "data": {
      "text/plain": [
       "array([0.  , 0.01, 0.02, 0.03, 0.04, 0.05, 0.06, 0.07, 0.08, 0.09, 0.1 ,\n",
       "       0.11, 0.12, 0.13, 0.14, 0.15, 0.16, 0.17, 0.18, 0.19, 0.2 , 0.21,\n",
       "       0.22, 0.23, 0.24, 0.25, 0.26, 0.27, 0.28, 0.29, 0.3 , 0.31, 0.32,\n",
       "       0.33, 0.34, 0.35, 0.36, 0.37, 0.38, 0.39, 0.4 , 0.41, 0.42, 0.43,\n",
       "       0.44, 0.45, 0.46, 0.47, 0.48, 0.49, 0.5 , 0.51, 0.52, 0.53, 0.54,\n",
       "       0.55, 0.56, 0.57, 0.58, 0.59, 0.6 , 0.61, 0.62, 0.63, 0.64, 0.65,\n",
       "       0.66, 0.67, 0.68, 0.69, 0.7 , 0.71, 0.72, 0.73, 0.74, 0.75, 0.76,\n",
       "       0.77, 0.78, 0.79, 0.8 , 0.81, 0.82, 0.83, 0.84, 0.85, 0.86, 0.87,\n",
       "       0.88, 0.89, 0.9 , 0.91, 0.92, 0.93, 0.94, 0.95, 0.96, 0.97, 0.98,\n",
       "       0.99, 1.  ])"
      ]
     },
     "execution_count": 10,
     "metadata": {},
     "output_type": "execute_result"
    }
   ],
   "source": [
    "np.arange(0,1.01,step=0.01)"
   ]
  },
  {
   "cell_type": "code",
   "execution_count": null,
   "id": "796dffb1",
   "metadata": {},
   "outputs": [],
   "source": []
  }
 ],
 "metadata": {
  "kernelspec": {
   "display_name": "Python 3.10.6 ('scanpy_env')",
   "language": "python",
   "name": "python3"
  },
  "language_info": {
   "codemirror_mode": {
    "name": "ipython",
    "version": 3
   },
   "file_extension": ".py",
   "mimetype": "text/x-python",
   "name": "python",
   "nbconvert_exporter": "python",
   "pygments_lexer": "ipython3",
   "version": "3.10.6"
  },
  "vscode": {
   "interpreter": {
    "hash": "951104f273996f7bfa89fdbd503ca95d9b243b7715de6ddb3925b5dc1ebd6ab4"
   }
  }
 },
 "nbformat": 4,
 "nbformat_minor": 5
}
