{
 "cells": [
  {
   "cell_type": "code",
   "execution_count": 16,
   "id": "312451f4-8cad-4aad-9ce3-6c39b3a7f0c4",
   "metadata": {},
   "outputs": [],
   "source": [
    "design_files = glob.glob(\"*design_matrix.csv\")\n",
    "for file in design_files:\n",
    "    dm = pd.read_csv(file,index_col=0)\n",
    "    dm['DMSO'] = 1\n",
    "    dm.to_csv(file)"
   ]
  },
  {
   "cell_type": "code",
   "execution_count": null,
   "id": "2104ba75-f6ac-4903-8cb7-023c2389de1b",
   "metadata": {},
   "outputs": [],
   "source": []
  }
 ],
 "metadata": {
  "kernelspec": {
   "display_name": "Python 3.7.3 64-bit",
   "language": "python",
   "name": "python3"
  },
  "language_info": {
   "codemirror_mode": {
    "name": "ipython",
    "version": 3
   },
   "file_extension": ".py",
   "mimetype": "text/x-python",
   "name": "python",
   "nbconvert_exporter": "python",
   "pygments_lexer": "ipython3",
   "version": "3.7.3"
  },
  "vscode": {
   "interpreter": {
    "hash": "31f2aee4e71d21fbe5cf8b01ff0e069b9275f58929596ceb00d14d90e3e16cd6"
   }
  }
 },
 "nbformat": 4,
 "nbformat_minor": 5
}
