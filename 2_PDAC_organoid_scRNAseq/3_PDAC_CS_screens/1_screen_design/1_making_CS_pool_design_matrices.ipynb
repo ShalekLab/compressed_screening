{
 "cells": [
  {
   "cell_type": "markdown",
   "id": "16af7f92",
   "metadata": {},
   "source": [
    "# Making the CS design matrices\n",
    "\n",
    "CK 2021\n",
    "\n",
    "### What this does:\n",
    "Script for making the design matrices for the CS pools\n",
    "    - Initialize drug function makes the pools\n",
    "        - Input the compressed scheme design\n",
    "        - Outputs .npy file containing numpy array of the pool design"
   ]
  },
  {
   "cell_type": "code",
   "execution_count": 1,
   "id": "f4751db0",
   "metadata": {},
   "outputs": [],
   "source": [
    "import math\n",
    "import itertools\n",
    "import multiprocessing as mp\n",
    "\n",
    "import numpy as np\n",
    "import pandas as pd\n",
    "from scipy.spatial import distance\n",
    "from matplotlib import pyplot as plt\n",
    "import scipy.stats as stats\n",
    "from sklearn.decomposition import PCA\n",
    "import random\n",
    "# import networkx as nx\n",
    "from decimal import Decimal\n",
    "import seaborn as sns\n",
    "import pickle\n",
    "from scipy.spatial import distance as dis\n",
    "from scipy.spatial.distance import mahalanobis,cosine\n",
    "from matplotlib import pylab as plt\n",
    "from matplotlib.patches import Patch\n",
    "import os"
   ]
  },
  {
   "cell_type": "code",
   "execution_count": 2,
   "id": "b02ff2de",
   "metadata": {},
   "outputs": [],
   "source": [
    "# Helper function to randomly initialize the state before optimization\n",
    "def initialize_drugs(n_per_pool, n_drugs, n_replicates):\n",
    "    \n",
    "    n_pools = int(math.ceil(n_drugs * n_replicates / n_per_pool))\n",
    "    \n",
    "    # Creating a random order to load the drugs into the pools\n",
    "    drug_sequence = np.repeat(np.arange(n_drugs),n_replicates)\n",
    "    np.random.shuffle(drug_sequence)\n",
    "\n",
    "    # Loading the drugs in\n",
    "    pools = np.zeros((n_pools,n_drugs)) #initial emptry matrix of zeros\n",
    "    for j in range(len(drug_sequence)):\n",
    "        no_drug_in_pool = np.where(pools[:,drug_sequence[j]]==0)[0] # finds indices of pools without drug drug_sequence[j] in them\n",
    "        pool_sums = pools[no_drug_in_pool,:].sum(axis=1)\n",
    "        minimum_rowsum_indices = np.where(pool_sums==pool_sums.min())[0] #of pools with no drug, find all of the most empty pools\n",
    "        possible_pool_indices = no_drug_in_pool[minimum_rowsum_indices] # assign those indices as possible pool locations\n",
    "        pools[np.random.choice(possible_pool_indices),drug_sequence[j]] = 1 # randomly assign drug to one of possible choices\n",
    "    return pools"
   ]
  },
  {
   "cell_type": "markdown",
   "id": "e3b28b39",
   "metadata": {},
   "source": [
    "# Making the PDAC pools"
   ]
  },
  {
   "cell_type": "code",
   "execution_count": 3,
   "id": "11f00b0b",
   "metadata": {},
   "outputs": [],
   "source": [
    "total_num_drugs = 68\n",
    "num_pools = 72\n",
    "num_replicates = 5\n",
    "\n",
    "random1_4x_5r =initialize_drugs((num_replicates*total_num_drugs)/num_pools,total_num_drugs,num_replicates)\n",
    "random2_4x_5r =initialize_drugs((num_replicates*total_num_drugs)/num_pools,total_num_drugs,num_replicates)\n",
    "\n",
    "np.save(\"pools/randomPDAC1/4x_5r_randomPDAC1.npy\",random1_4x_5r)\n",
    "np.save(\"pools/randomPDAC2/4x_5r_randomPDAC2.npy\",random2_4x_5r)"
   ]
  },
  {
   "cell_type": "code",
   "execution_count": null,
   "id": "b07dcb5b",
   "metadata": {},
   "outputs": [],
   "source": []
  }
 ],
 "metadata": {
  "kernelspec": {
   "display_name": "Python 3.7.3 64-bit",
   "language": "python",
   "name": "python3"
  },
  "language_info": {
   "codemirror_mode": {
    "name": "ipython",
    "version": 3
   },
   "file_extension": ".py",
   "mimetype": "text/x-python",
   "name": "python",
   "nbconvert_exporter": "python",
   "pygments_lexer": "ipython3",
   "version": "3.7.3"
  },
  "vscode": {
   "interpreter": {
    "hash": "31f2aee4e71d21fbe5cf8b01ff0e069b9275f58929596ceb00d14d90e3e16cd6"
   }
  }
 },
 "nbformat": 4,
 "nbformat_minor": 5
}
