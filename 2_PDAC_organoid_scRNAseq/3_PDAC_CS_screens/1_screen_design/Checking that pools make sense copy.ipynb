{
 "cells": [
  {
   "cell_type": "code",
   "execution_count": 2,
   "metadata": {},
   "outputs": [],
   "source": [
    "import pandas as pd\n",
    "import numpy as np\n",
    "import pickle"
   ]
  },
  {
   "cell_type": "markdown",
   "metadata": {},
   "source": [
    "# PDAC"
   ]
  },
  {
   "cell_type": "markdown",
   "metadata": {},
   "source": [
    "## Checking that pools make sense"
   ]
  },
  {
   "cell_type": "code",
   "execution_count": 31,
   "metadata": {},
   "outputs": [],
   "source": [
    "plate1 = np.load(\"pools/randomPDAC1/4x_5r_randomPDAC1.npy\")"
   ]
  },
  {
   "cell_type": "code",
   "execution_count": 35,
   "metadata": {},
   "outputs": [
    {
     "data": {
      "text/plain": [
       "(72, 68)"
      ]
     },
     "execution_count": 35,
     "metadata": {},
     "output_type": "execute_result"
    }
   ],
   "source": [
    "plate1.shape"
   ]
  },
  {
   "cell_type": "markdown",
   "metadata": {},
   "source": [
    "All 68 drugs occur 5 times"
   ]
  },
  {
   "cell_type": "code",
   "execution_count": 33,
   "metadata": {},
   "outputs": [
    {
     "data": {
      "text/plain": [
       "array([5., 5., 5., 5., 5., 5., 5., 5., 5., 5., 5., 5., 5., 5., 5., 5., 5.,\n",
       "       5., 5., 5., 5., 5., 5., 5., 5., 5., 5., 5., 5., 5., 5., 5., 5., 5.,\n",
       "       5., 5., 5., 5., 5., 5., 5., 5., 5., 5., 5., 5., 5., 5., 5., 5., 5.,\n",
       "       5., 5., 5., 5., 5., 5., 5., 5., 5., 5., 5., 5., 5., 5., 5., 5., 5.])"
      ]
     },
     "execution_count": 33,
     "metadata": {},
     "output_type": "execute_result"
    }
   ],
   "source": [
    "plate1.sum(0)"
   ]
  },
  {
   "cell_type": "code",
   "execution_count": 36,
   "metadata": {},
   "outputs": [
    {
     "data": {
      "text/plain": [
       "array([5., 5., 5., 4., 4., 5., 5., 5., 5., 5., 5., 5., 5., 4., 5., 5., 4.,\n",
       "       4., 5., 4., 5., 5., 5., 5., 4., 5., 5., 5., 4., 5., 5., 4., 5., 5.,\n",
       "       5., 5., 5., 4., 5., 5., 4., 5., 5., 5., 4., 5., 5., 5., 4., 5., 5.,\n",
       "       4., 4., 4., 5., 5., 5., 4., 5., 5., 4., 4., 5., 5., 5., 5., 5., 5.,\n",
       "       4., 5., 5., 5.])"
      ]
     },
     "execution_count": 36,
     "metadata": {},
     "output_type": "execute_result"
    }
   ],
   "source": [
    "plate1.sum(1)"
   ]
  },
  {
   "cell_type": "markdown",
   "metadata": {},
   "source": [
    "All pools have 4 or 5 drugs"
   ]
  },
  {
   "cell_type": "code",
   "execution_count": 37,
   "metadata": {},
   "outputs": [
    {
     "data": {
      "text/plain": [
       "4.722222222222222"
      ]
     },
     "execution_count": 37,
     "metadata": {},
     "output_type": "execute_result"
    }
   ],
   "source": [
    "np.mean(plate1.sum(1))"
   ]
  },
  {
   "cell_type": "code",
   "execution_count": 38,
   "metadata": {},
   "outputs": [],
   "source": [
    "plate2 = np.load(\"pools/randomPDAC2/4x_5r_randomPDAC2.npy\")"
   ]
  },
  {
   "cell_type": "code",
   "execution_count": 39,
   "metadata": {},
   "outputs": [
    {
     "data": {
      "text/plain": [
       "(72, 68)"
      ]
     },
     "execution_count": 39,
     "metadata": {},
     "output_type": "execute_result"
    }
   ],
   "source": [
    "plate2.shape"
   ]
  },
  {
   "cell_type": "code",
   "execution_count": 40,
   "metadata": {},
   "outputs": [
    {
     "data": {
      "text/plain": [
       "array([5., 5., 5., 5., 5., 5., 5., 5., 5., 5., 5., 5., 5., 5., 5., 5., 5.,\n",
       "       5., 5., 5., 5., 5., 5., 5., 5., 5., 5., 5., 5., 5., 5., 5., 5., 5.,\n",
       "       5., 5., 5., 5., 5., 5., 5., 5., 5., 5., 5., 5., 5., 5., 5., 5., 5.,\n",
       "       5., 5., 5., 5., 5., 5., 5., 5., 5., 5., 5., 5., 5., 5., 5., 5., 5.])"
      ]
     },
     "execution_count": 40,
     "metadata": {},
     "output_type": "execute_result"
    }
   ],
   "source": [
    "plate2.sum(0)"
   ]
  },
  {
   "cell_type": "code",
   "execution_count": 41,
   "metadata": {},
   "outputs": [
    {
     "data": {
      "text/plain": [
       "array([5., 4., 5., 5., 5., 5., 5., 4., 5., 5., 5., 5., 5., 4., 4., 5., 5.,\n",
       "       5., 5., 5., 5., 5., 5., 4., 4., 5., 4., 5., 4., 5., 5., 4., 5., 5.,\n",
       "       4., 4., 5., 5., 4., 5., 5., 5., 5., 5., 5., 5., 5., 5., 4., 5., 5.,\n",
       "       5., 5., 5., 5., 4., 5., 5., 5., 5., 5., 5., 4., 5., 4., 5., 4., 5.,\n",
       "       4., 4., 5., 4.])"
      ]
     },
     "execution_count": 41,
     "metadata": {},
     "output_type": "execute_result"
    }
   ],
   "source": [
    "plate2.sum(1)"
   ]
  },
  {
   "cell_type": "code",
   "execution_count": 42,
   "metadata": {},
   "outputs": [
    {
     "data": {
      "text/plain": [
       "4.722222222222222"
      ]
     },
     "execution_count": 42,
     "metadata": {},
     "output_type": "execute_result"
    }
   ],
   "source": [
    "np.mean(plate2.sum(1))"
   ]
  },
  {
   "cell_type": "code",
   "execution_count": 3,
   "metadata": {},
   "outputs": [],
   "source": [
    "final_name = \"randomPDAC\"\n",
    "picklist = pd.read_csv(\"picklists/\"+final_name+\"_final.csv\",index_col=0)\n",
    "metadata = pd.read_csv(\"metadata/\"+final_name+\"_final.csv\",index_col=0)\n",
    "pool_key = pd.read_csv(\"pool_keys/\"+final_name+\"_final.csv\",index_col=0)\n",
    "with open(\"well_drug_dicts/\"+final_name+'_final.pickle', 'rb') as handle:\n",
    "    well_drug_dict = pickle.load(handle)"
   ]
  },
  {
   "cell_type": "markdown",
   "metadata": {},
   "source": [
    "## Picklist"
   ]
  },
  {
   "cell_type": "code",
   "execution_count": 6,
   "metadata": {},
   "outputs": [
    {
     "name": "stdout",
     "output_type": "stream",
     "text": [
      "Checking number of uses of each ligand\n",
      "[18 18 18 10 10 10 10 10 10 10 10 10 10 10 10 10 10 10 10 10 10 10 10 10\n",
      " 10 10 10 10 10 10 10 10 10 10 10 10 10 10 10 10 10 10 10 10 10 10 10 10\n",
      " 10 10 10 10 10 10 10 10 10 10 10 10 10 10 10 10 10 10 10 10]\n",
      "Should be using 2(96-12) = 168 destination wells in the picklist\n",
      "168\n",
      "68 source wells in the picklist\n",
      "68\n",
      "check that everything goes to the correct plate\n",
      "['randomPDAC']\n"
     ]
    }
   ],
   "source": [
    "print(\"Checking number of uses of each ligand\")\n",
    "print(picklist['compound_name'].value_counts().values)\n",
    "print(\"Should be using 2(96-12) = 168 destination wells in the picklist\")\n",
    "print(len(np.unique(picklist['destination_well'])))\n",
    "print(\"68 source wells in the picklist\")\n",
    "print(len(np.unique(picklist['source_well'])))\n",
    "print('check that everything goes to the correct plate')\n",
    "print(np.unique(picklist['destination_plate']))"
   ]
  },
  {
   "cell_type": "markdown",
   "metadata": {},
   "source": [
    "most things get used 10 times (two compressed of 5 reps), 3 positive controls get another 4x2=8 for 18 total"
   ]
  },
  {
   "cell_type": "markdown",
   "metadata": {},
   "source": [
    "## Metadata"
   ]
  },
  {
   "cell_type": "code",
   "execution_count": 26,
   "metadata": {},
   "outputs": [
    {
     "data": {
      "text/html": [
       "<div>\n",
       "<style scoped>\n",
       "    .dataframe tbody tr th:only-of-type {\n",
       "        vertical-align: middle;\n",
       "    }\n",
       "\n",
       "    .dataframe tbody tr th {\n",
       "        vertical-align: top;\n",
       "    }\n",
       "\n",
       "    .dataframe thead th {\n",
       "        text-align: right;\n",
       "    }\n",
       "</style>\n",
       "<table border=\"1\" class=\"dataframe\">\n",
       "  <thead>\n",
       "    <tr style=\"text-align: right;\">\n",
       "      <th></th>\n",
       "      <th>Metadata_Well</th>\n",
       "      <th>Metadata_perturbation</th>\n",
       "      <th>Metadata_compression</th>\n",
       "      <th>Metadata_replicates</th>\n",
       "      <th>quadrant</th>\n",
       "    </tr>\n",
       "  </thead>\n",
       "  <tbody>\n",
       "    <tr>\n",
       "      <th>80</th>\n",
       "      <td>K19</td>\n",
       "      <td>TNF</td>\n",
       "      <td>4</td>\n",
       "      <td>5</td>\n",
       "      <td>1</td>\n",
       "    </tr>\n",
       "    <tr>\n",
       "      <th>81</th>\n",
       "      <td>M07</td>\n",
       "      <td>TNF</td>\n",
       "      <td>4</td>\n",
       "      <td>5</td>\n",
       "      <td>1</td>\n",
       "    </tr>\n",
       "    <tr>\n",
       "      <th>82</th>\n",
       "      <td>M13</td>\n",
       "      <td>TNF</td>\n",
       "      <td>4</td>\n",
       "      <td>5</td>\n",
       "      <td>1</td>\n",
       "    </tr>\n",
       "    <tr>\n",
       "      <th>83</th>\n",
       "      <td>A21</td>\n",
       "      <td>TNF</td>\n",
       "      <td>4</td>\n",
       "      <td>5</td>\n",
       "      <td>1</td>\n",
       "    </tr>\n",
       "    <tr>\n",
       "      <th>80</th>\n",
       "      <td>M10</td>\n",
       "      <td>TNF</td>\n",
       "      <td>4</td>\n",
       "      <td>5</td>\n",
       "      <td>2</td>\n",
       "    </tr>\n",
       "    <tr>\n",
       "      <th>81</th>\n",
       "      <td>G02</td>\n",
       "      <td>TNF</td>\n",
       "      <td>4</td>\n",
       "      <td>5</td>\n",
       "      <td>2</td>\n",
       "    </tr>\n",
       "    <tr>\n",
       "      <th>82</th>\n",
       "      <td>G24</td>\n",
       "      <td>TNF</td>\n",
       "      <td>4</td>\n",
       "      <td>5</td>\n",
       "      <td>2</td>\n",
       "    </tr>\n",
       "    <tr>\n",
       "      <th>83</th>\n",
       "      <td>M06</td>\n",
       "      <td>TNF</td>\n",
       "      <td>4</td>\n",
       "      <td>5</td>\n",
       "      <td>2</td>\n",
       "    </tr>\n",
       "  </tbody>\n",
       "</table>\n",
       "</div>"
      ],
      "text/plain": [
       "   Metadata_Well Metadata_perturbation  Metadata_compression  \\\n",
       "80           K19                   TNF                     4   \n",
       "81           M07                   TNF                     4   \n",
       "82           M13                   TNF                     4   \n",
       "83           A21                   TNF                     4   \n",
       "80           M10                   TNF                     4   \n",
       "81           G02                   TNF                     4   \n",
       "82           G24                   TNF                     4   \n",
       "83           M06                   TNF                     4   \n",
       "\n",
       "    Metadata_replicates  quadrant  \n",
       "80                    5         1  \n",
       "81                    5         1  \n",
       "82                    5         1  \n",
       "83                    5         1  \n",
       "80                    5         2  \n",
       "81                    5         2  \n",
       "82                    5         2  \n",
       "83                    5         2  "
      ]
     },
     "execution_count": 26,
     "metadata": {},
     "output_type": "execute_result"
    }
   ],
   "source": [
    "metadata.loc[metadata.Metadata_perturbation==\"TNF\"]"
   ]
  },
  {
   "cell_type": "code",
   "execution_count": 27,
   "metadata": {},
   "outputs": [
    {
     "data": {
      "text/html": [
       "<div>\n",
       "<style scoped>\n",
       "    .dataframe tbody tr th:only-of-type {\n",
       "        vertical-align: middle;\n",
       "    }\n",
       "\n",
       "    .dataframe tbody tr th {\n",
       "        vertical-align: top;\n",
       "    }\n",
       "\n",
       "    .dataframe thead th {\n",
       "        text-align: right;\n",
       "    }\n",
       "</style>\n",
       "<table border=\"1\" class=\"dataframe\">\n",
       "  <thead>\n",
       "    <tr style=\"text-align: right;\">\n",
       "      <th></th>\n",
       "      <th>Metadata_Well</th>\n",
       "      <th>Metadata_perturbation</th>\n",
       "      <th>Metadata_compression</th>\n",
       "      <th>Metadata_replicates</th>\n",
       "      <th>quadrant</th>\n",
       "    </tr>\n",
       "  </thead>\n",
       "  <tbody>\n",
       "    <tr>\n",
       "      <th>72</th>\n",
       "      <td>M23</td>\n",
       "      <td>TGFB1</td>\n",
       "      <td>4</td>\n",
       "      <td>5</td>\n",
       "      <td>1</td>\n",
       "    </tr>\n",
       "    <tr>\n",
       "      <th>73</th>\n",
       "      <td>A15</td>\n",
       "      <td>TGFB1</td>\n",
       "      <td>4</td>\n",
       "      <td>5</td>\n",
       "      <td>1</td>\n",
       "    </tr>\n",
       "    <tr>\n",
       "      <th>74</th>\n",
       "      <td>O07</td>\n",
       "      <td>TGFB1</td>\n",
       "      <td>4</td>\n",
       "      <td>5</td>\n",
       "      <td>1</td>\n",
       "    </tr>\n",
       "    <tr>\n",
       "      <th>75</th>\n",
       "      <td>I01</td>\n",
       "      <td>TGFB1</td>\n",
       "      <td>4</td>\n",
       "      <td>5</td>\n",
       "      <td>1</td>\n",
       "    </tr>\n",
       "    <tr>\n",
       "      <th>72</th>\n",
       "      <td>K10</td>\n",
       "      <td>TGFB1</td>\n",
       "      <td>4</td>\n",
       "      <td>5</td>\n",
       "      <td>2</td>\n",
       "    </tr>\n",
       "    <tr>\n",
       "      <th>73</th>\n",
       "      <td>A02</td>\n",
       "      <td>TGFB1</td>\n",
       "      <td>4</td>\n",
       "      <td>5</td>\n",
       "      <td>2</td>\n",
       "    </tr>\n",
       "    <tr>\n",
       "      <th>74</th>\n",
       "      <td>G18</td>\n",
       "      <td>TGFB1</td>\n",
       "      <td>4</td>\n",
       "      <td>5</td>\n",
       "      <td>2</td>\n",
       "    </tr>\n",
       "    <tr>\n",
       "      <th>75</th>\n",
       "      <td>K08</td>\n",
       "      <td>TGFB1</td>\n",
       "      <td>4</td>\n",
       "      <td>5</td>\n",
       "      <td>2</td>\n",
       "    </tr>\n",
       "  </tbody>\n",
       "</table>\n",
       "</div>"
      ],
      "text/plain": [
       "   Metadata_Well Metadata_perturbation  Metadata_compression  \\\n",
       "72           M23                 TGFB1                     4   \n",
       "73           A15                 TGFB1                     4   \n",
       "74           O07                 TGFB1                     4   \n",
       "75           I01                 TGFB1                     4   \n",
       "72           K10                 TGFB1                     4   \n",
       "73           A02                 TGFB1                     4   \n",
       "74           G18                 TGFB1                     4   \n",
       "75           K08                 TGFB1                     4   \n",
       "\n",
       "    Metadata_replicates  quadrant  \n",
       "72                    5         1  \n",
       "73                    5         1  \n",
       "74                    5         1  \n",
       "75                    5         1  \n",
       "72                    5         2  \n",
       "73                    5         2  \n",
       "74                    5         2  \n",
       "75                    5         2  "
      ]
     },
     "execution_count": 27,
     "metadata": {},
     "output_type": "execute_result"
    }
   ],
   "source": [
    "metadata.loc[metadata.Metadata_perturbation==\"TGFB1\"]"
   ]
  },
  {
   "cell_type": "code",
   "execution_count": 25,
   "metadata": {},
   "outputs": [
    {
     "data": {
      "text/html": [
       "<div>\n",
       "<style scoped>\n",
       "    .dataframe tbody tr th:only-of-type {\n",
       "        vertical-align: middle;\n",
       "    }\n",
       "\n",
       "    .dataframe tbody tr th {\n",
       "        vertical-align: top;\n",
       "    }\n",
       "\n",
       "    .dataframe thead th {\n",
       "        text-align: right;\n",
       "    }\n",
       "</style>\n",
       "<table border=\"1\" class=\"dataframe\">\n",
       "  <thead>\n",
       "    <tr style=\"text-align: right;\">\n",
       "      <th></th>\n",
       "      <th>Metadata_Well</th>\n",
       "      <th>Metadata_perturbation</th>\n",
       "      <th>Metadata_compression</th>\n",
       "      <th>Metadata_replicates</th>\n",
       "      <th>quadrant</th>\n",
       "    </tr>\n",
       "  </thead>\n",
       "  <tbody>\n",
       "    <tr>\n",
       "      <th>76</th>\n",
       "      <td>G21</td>\n",
       "      <td>IFNG</td>\n",
       "      <td>4</td>\n",
       "      <td>5</td>\n",
       "      <td>1</td>\n",
       "    </tr>\n",
       "    <tr>\n",
       "      <th>77</th>\n",
       "      <td>C15</td>\n",
       "      <td>IFNG</td>\n",
       "      <td>4</td>\n",
       "      <td>5</td>\n",
       "      <td>1</td>\n",
       "    </tr>\n",
       "    <tr>\n",
       "      <th>78</th>\n",
       "      <td>C19</td>\n",
       "      <td>IFNG</td>\n",
       "      <td>4</td>\n",
       "      <td>5</td>\n",
       "      <td>1</td>\n",
       "    </tr>\n",
       "    <tr>\n",
       "      <th>79</th>\n",
       "      <td>A23</td>\n",
       "      <td>IFNG</td>\n",
       "      <td>4</td>\n",
       "      <td>5</td>\n",
       "      <td>1</td>\n",
       "    </tr>\n",
       "    <tr>\n",
       "      <th>76</th>\n",
       "      <td>C10</td>\n",
       "      <td>IFNG</td>\n",
       "      <td>4</td>\n",
       "      <td>5</td>\n",
       "      <td>2</td>\n",
       "    </tr>\n",
       "    <tr>\n",
       "      <th>77</th>\n",
       "      <td>K24</td>\n",
       "      <td>IFNG</td>\n",
       "      <td>4</td>\n",
       "      <td>5</td>\n",
       "      <td>2</td>\n",
       "    </tr>\n",
       "    <tr>\n",
       "      <th>78</th>\n",
       "      <td>A12</td>\n",
       "      <td>IFNG</td>\n",
       "      <td>4</td>\n",
       "      <td>5</td>\n",
       "      <td>2</td>\n",
       "    </tr>\n",
       "    <tr>\n",
       "      <th>79</th>\n",
       "      <td>C24</td>\n",
       "      <td>IFNG</td>\n",
       "      <td>4</td>\n",
       "      <td>5</td>\n",
       "      <td>2</td>\n",
       "    </tr>\n",
       "  </tbody>\n",
       "</table>\n",
       "</div>"
      ],
      "text/plain": [
       "   Metadata_Well Metadata_perturbation  Metadata_compression  \\\n",
       "76           G21                  IFNG                     4   \n",
       "77           C15                  IFNG                     4   \n",
       "78           C19                  IFNG                     4   \n",
       "79           A23                  IFNG                     4   \n",
       "76           C10                  IFNG                     4   \n",
       "77           K24                  IFNG                     4   \n",
       "78           A12                  IFNG                     4   \n",
       "79           C24                  IFNG                     4   \n",
       "\n",
       "    Metadata_replicates  quadrant  \n",
       "76                    5         1  \n",
       "77                    5         1  \n",
       "78                    5         1  \n",
       "79                    5         1  \n",
       "76                    5         2  \n",
       "77                    5         2  \n",
       "78                    5         2  \n",
       "79                    5         2  "
      ]
     },
     "execution_count": 25,
     "metadata": {},
     "output_type": "execute_result"
    }
   ],
   "source": [
    "metadata.loc[metadata.Metadata_perturbation==\"IFNG\"]"
   ]
  },
  {
   "cell_type": "code",
   "execution_count": 13,
   "metadata": {},
   "outputs": [
    {
     "data": {
      "text/html": [
       "<div>\n",
       "<style scoped>\n",
       "    .dataframe tbody tr th:only-of-type {\n",
       "        vertical-align: middle;\n",
       "    }\n",
       "\n",
       "    .dataframe tbody tr th {\n",
       "        vertical-align: top;\n",
       "    }\n",
       "\n",
       "    .dataframe thead th {\n",
       "        text-align: right;\n",
       "    }\n",
       "</style>\n",
       "<table border=\"1\" class=\"dataframe\">\n",
       "  <thead>\n",
       "    <tr style=\"text-align: right;\">\n",
       "      <th></th>\n",
       "      <th>Metadata_Well</th>\n",
       "      <th>Metadata_perturbation</th>\n",
       "      <th>Metadata_compression</th>\n",
       "      <th>Metadata_replicates</th>\n",
       "      <th>quadrant</th>\n",
       "    </tr>\n",
       "  </thead>\n",
       "  <tbody>\n",
       "    <tr>\n",
       "      <th>84</th>\n",
       "      <td>M19</td>\n",
       "      <td>media</td>\n",
       "      <td>4</td>\n",
       "      <td>5</td>\n",
       "      <td>1</td>\n",
       "    </tr>\n",
       "    <tr>\n",
       "      <th>85</th>\n",
       "      <td>K13</td>\n",
       "      <td>media</td>\n",
       "      <td>4</td>\n",
       "      <td>5</td>\n",
       "      <td>1</td>\n",
       "    </tr>\n",
       "    <tr>\n",
       "      <th>86</th>\n",
       "      <td>E23</td>\n",
       "      <td>media</td>\n",
       "      <td>4</td>\n",
       "      <td>5</td>\n",
       "      <td>1</td>\n",
       "    </tr>\n",
       "    <tr>\n",
       "      <th>87</th>\n",
       "      <td>A07</td>\n",
       "      <td>media</td>\n",
       "      <td>4</td>\n",
       "      <td>5</td>\n",
       "      <td>1</td>\n",
       "    </tr>\n",
       "    <tr>\n",
       "      <th>88</th>\n",
       "      <td>I17</td>\n",
       "      <td>media</td>\n",
       "      <td>4</td>\n",
       "      <td>5</td>\n",
       "      <td>1</td>\n",
       "    </tr>\n",
       "    <tr>\n",
       "      <th>89</th>\n",
       "      <td>O05</td>\n",
       "      <td>media</td>\n",
       "      <td>4</td>\n",
       "      <td>5</td>\n",
       "      <td>1</td>\n",
       "    </tr>\n",
       "    <tr>\n",
       "      <th>90</th>\n",
       "      <td>E15</td>\n",
       "      <td>media</td>\n",
       "      <td>4</td>\n",
       "      <td>5</td>\n",
       "      <td>1</td>\n",
       "    </tr>\n",
       "    <tr>\n",
       "      <th>91</th>\n",
       "      <td>I15</td>\n",
       "      <td>media</td>\n",
       "      <td>4</td>\n",
       "      <td>5</td>\n",
       "      <td>1</td>\n",
       "    </tr>\n",
       "    <tr>\n",
       "      <th>92</th>\n",
       "      <td>E17</td>\n",
       "      <td>media</td>\n",
       "      <td>4</td>\n",
       "      <td>5</td>\n",
       "      <td>1</td>\n",
       "    </tr>\n",
       "    <tr>\n",
       "      <th>93</th>\n",
       "      <td>A11</td>\n",
       "      <td>media</td>\n",
       "      <td>4</td>\n",
       "      <td>5</td>\n",
       "      <td>1</td>\n",
       "    </tr>\n",
       "    <tr>\n",
       "      <th>94</th>\n",
       "      <td>O11</td>\n",
       "      <td>media</td>\n",
       "      <td>4</td>\n",
       "      <td>5</td>\n",
       "      <td>1</td>\n",
       "    </tr>\n",
       "    <tr>\n",
       "      <th>95</th>\n",
       "      <td>M11</td>\n",
       "      <td>media</td>\n",
       "      <td>4</td>\n",
       "      <td>5</td>\n",
       "      <td>1</td>\n",
       "    </tr>\n",
       "    <tr>\n",
       "      <th>84</th>\n",
       "      <td>E12</td>\n",
       "      <td>media</td>\n",
       "      <td>4</td>\n",
       "      <td>5</td>\n",
       "      <td>2</td>\n",
       "    </tr>\n",
       "    <tr>\n",
       "      <th>85</th>\n",
       "      <td>M20</td>\n",
       "      <td>media</td>\n",
       "      <td>4</td>\n",
       "      <td>5</td>\n",
       "      <td>2</td>\n",
       "    </tr>\n",
       "    <tr>\n",
       "      <th>86</th>\n",
       "      <td>C12</td>\n",
       "      <td>media</td>\n",
       "      <td>4</td>\n",
       "      <td>5</td>\n",
       "      <td>2</td>\n",
       "    </tr>\n",
       "    <tr>\n",
       "      <th>87</th>\n",
       "      <td>G14</td>\n",
       "      <td>media</td>\n",
       "      <td>4</td>\n",
       "      <td>5</td>\n",
       "      <td>2</td>\n",
       "    </tr>\n",
       "    <tr>\n",
       "      <th>88</th>\n",
       "      <td>E20</td>\n",
       "      <td>media</td>\n",
       "      <td>4</td>\n",
       "      <td>5</td>\n",
       "      <td>2</td>\n",
       "    </tr>\n",
       "    <tr>\n",
       "      <th>89</th>\n",
       "      <td>O24</td>\n",
       "      <td>media</td>\n",
       "      <td>4</td>\n",
       "      <td>5</td>\n",
       "      <td>2</td>\n",
       "    </tr>\n",
       "    <tr>\n",
       "      <th>90</th>\n",
       "      <td>C02</td>\n",
       "      <td>media</td>\n",
       "      <td>4</td>\n",
       "      <td>5</td>\n",
       "      <td>2</td>\n",
       "    </tr>\n",
       "    <tr>\n",
       "      <th>91</th>\n",
       "      <td>A20</td>\n",
       "      <td>media</td>\n",
       "      <td>4</td>\n",
       "      <td>5</td>\n",
       "      <td>2</td>\n",
       "    </tr>\n",
       "    <tr>\n",
       "      <th>92</th>\n",
       "      <td>K22</td>\n",
       "      <td>media</td>\n",
       "      <td>4</td>\n",
       "      <td>5</td>\n",
       "      <td>2</td>\n",
       "    </tr>\n",
       "    <tr>\n",
       "      <th>93</th>\n",
       "      <td>A04</td>\n",
       "      <td>media</td>\n",
       "      <td>4</td>\n",
       "      <td>5</td>\n",
       "      <td>2</td>\n",
       "    </tr>\n",
       "    <tr>\n",
       "      <th>94</th>\n",
       "      <td>G04</td>\n",
       "      <td>media</td>\n",
       "      <td>4</td>\n",
       "      <td>5</td>\n",
       "      <td>2</td>\n",
       "    </tr>\n",
       "    <tr>\n",
       "      <th>95</th>\n",
       "      <td>A08</td>\n",
       "      <td>media</td>\n",
       "      <td>4</td>\n",
       "      <td>5</td>\n",
       "      <td>2</td>\n",
       "    </tr>\n",
       "  </tbody>\n",
       "</table>\n",
       "</div>"
      ],
      "text/plain": [
       "   Metadata_Well Metadata_perturbation  Metadata_compression  \\\n",
       "84           M19                 media                     4   \n",
       "85           K13                 media                     4   \n",
       "86           E23                 media                     4   \n",
       "87           A07                 media                     4   \n",
       "88           I17                 media                     4   \n",
       "89           O05                 media                     4   \n",
       "90           E15                 media                     4   \n",
       "91           I15                 media                     4   \n",
       "92           E17                 media                     4   \n",
       "93           A11                 media                     4   \n",
       "94           O11                 media                     4   \n",
       "95           M11                 media                     4   \n",
       "84           E12                 media                     4   \n",
       "85           M20                 media                     4   \n",
       "86           C12                 media                     4   \n",
       "87           G14                 media                     4   \n",
       "88           E20                 media                     4   \n",
       "89           O24                 media                     4   \n",
       "90           C02                 media                     4   \n",
       "91           A20                 media                     4   \n",
       "92           K22                 media                     4   \n",
       "93           A04                 media                     4   \n",
       "94           G04                 media                     4   \n",
       "95           A08                 media                     4   \n",
       "\n",
       "    Metadata_replicates  quadrant  \n",
       "84                    5         1  \n",
       "85                    5         1  \n",
       "86                    5         1  \n",
       "87                    5         1  \n",
       "88                    5         1  \n",
       "89                    5         1  \n",
       "90                    5         1  \n",
       "91                    5         1  \n",
       "92                    5         1  \n",
       "93                    5         1  \n",
       "94                    5         1  \n",
       "95                    5         1  \n",
       "84                    5         2  \n",
       "85                    5         2  \n",
       "86                    5         2  \n",
       "87                    5         2  \n",
       "88                    5         2  \n",
       "89                    5         2  \n",
       "90                    5         2  \n",
       "91                    5         2  \n",
       "92                    5         2  \n",
       "93                    5         2  \n",
       "94                    5         2  \n",
       "95                    5         2  "
      ]
     },
     "execution_count": 13,
     "metadata": {},
     "output_type": "execute_result"
    }
   ],
   "source": [
    "metadata.loc[metadata.Metadata_perturbation==\"media\"]"
   ]
  },
  {
   "cell_type": "code",
   "execution_count": 9,
   "metadata": {},
   "outputs": [
    {
     "name": "stdout",
     "output_type": "stream",
     "text": [
      "random2    72\n",
      "random1    72\n",
      "media      24\n",
      "TGFB1       8\n",
      "IFNG        8\n",
      "TNF         8\n",
      "Name: Metadata_perturbation, dtype: int64\n"
     ]
    }
   ],
   "source": [
    "print(metadata['Metadata_perturbation'].value_counts())"
   ]
  },
  {
   "cell_type": "markdown",
   "metadata": {},
   "source": [
    "## Well drug dictionary"
   ]
  },
  {
   "cell_type": "code",
   "execution_count": null,
   "metadata": {},
   "outputs": [],
   "source": []
  },
  {
   "cell_type": "code",
   "execution_count": 23,
   "metadata": {},
   "outputs": [
    {
     "name": "stdout",
     "output_type": "stream",
     "text": [
      "[0 0 0 0 0 0 0 0 0 0 0 0 1 1 1 1 1 1 1 1 1 1 1 1 4 4 4 4 4 4 4 4 4 4 4 4 4\n",
      " 4 4 4 4 4 4 4 5 5 5 5 5 5 5 5 5 5 5 5 5 5 5 5 5 5 5 5 5 5 5 5 5 5 5 5 5 5\n",
      " 5 5 5 5 5 5 5 5 5 5 5 5 5 5 5 5 5 5 5 5 5 5]\n"
     ]
    }
   ],
   "source": [
    "q = well_drug_dict['quadrant1']\n",
    "lens = []\n",
    "for pool in q:\n",
    "    lens.append(len(q[pool]))\n",
    "lens = np.array(lens)\n",
    "print(np.sort(lens))\n"
   ]
  },
  {
   "cell_type": "code",
   "execution_count": 24,
   "metadata": {},
   "outputs": [
    {
     "data": {
      "text/plain": [
       "{'M1': ['BMP4', 'LPA', 'LGALS9', 'IL33', 'CXCL12'],\n",
       " 'M21': ['IFNG', 'CD40LG', 'BDNF', 'IL1B', 'SPP1'],\n",
       " 'E1': ['TSLP', 'TGFB3', 'IL33', 'IFNA2', 'CSF1'],\n",
       " 'E9': ['RARRES2', 'FGF10', 'ADIPOQ', 'PF4'],\n",
       " 'K7': ['beta-NGF', 'TRAIL', 'THBS1', 'IL7', 'IL33'],\n",
       " 'O1': ['PDGF-AA', 'IL4', 'IL17A', 'FASLG', 'IL13'],\n",
       " 'I7': ['IL33', 'IL15', 'INHBB', 'IL7'],\n",
       " 'G23': ['HGF', 'CCL3', 'BDNF', 'IL1B', 'NOGGIN'],\n",
       " 'O19': ['TNF', 'IL6', 'FGF1', 'EPO', 'ADIPOQ'],\n",
       " 'K23': ['IFNA2', 'APP', 'APOA1', 'EPO'],\n",
       " 'G17': ['THBS1', 'NAMPT', 'IL1A', 'BMP4'],\n",
       " 'C5': ['APP', 'APOE', 'BDNF', 'IL15', 'TGFB1'],\n",
       " 'A13': ['RSPO3', 'RARRES2', 'IL33', 'FASLG'],\n",
       " 'M15': ['THBS1', 'IFNA2', 'GDF15', 'EGF', 'FN1'],\n",
       " 'K3': ['RANKL', 'NRG1', 'FN1', 'CSF2', 'APOE'],\n",
       " 'I21': ['INHBB', 'IL10', 'IGF1', 'C5'],\n",
       " 'O3': ['IGF1', 'TGFB1', 'OSM', 'NRG1', 'IL22'],\n",
       " 'C11': ['OSM', 'IL22', 'GDF15', 'FGF10', 'BMP4'],\n",
       " 'M5': ['VEGFA', 'RSPO3', 'IL4', 'CD40LG'],\n",
       " 'A17': ['RARRES2', 'IFNG', 'FGF13', 'BDNF', 'TNF'],\n",
       " 'A5': ['HGF', 'FGF10', 'RSPO3', 'RANKL', 'IL1B'],\n",
       " 'G13': ['IL7', 'FGF7', 'CADM1', 'TGFB1', 'WNT7A'],\n",
       " 'I9': ['SPP1', 'SEMA4D', 'FGF7', 'CCL11'],\n",
       " 'G3': ['IL6', 'IL22', 'FGF10', 'CCL11', 'IL10'],\n",
       " 'E21': ['FN1', 'FASLG', 'BMP4', 'APP', 'ADIPOQ'],\n",
       " 'G5': ['TRAIL', 'SERPING1', 'IL1A', 'APOA1', 'FGF2'],\n",
       " 'K5': ['CCL5', 'CCL3', 'SERPING1', 'NOGGIN', 'IL17A'],\n",
       " 'M7': ['TNF'],\n",
       " 'K19': ['TNF'],\n",
       " 'A23': ['IFNG'],\n",
       " 'C19': ['IFNG'],\n",
       " 'C15': ['IFNG'],\n",
       " 'G21': ['IFNG'],\n",
       " 'I1': ['TGFB1'],\n",
       " 'O7': ['TGFB1'],\n",
       " 'A15': ['TGFB1'],\n",
       " 'I13': ['NOGGIN', 'NAMPT', 'FGF7', 'FGF2', 'CXCL12'],\n",
       " 'M23': ['TGFB1'],\n",
       " 'O15': ['CADM1', 'CCL11', 'CSF2', 'PF4'],\n",
       " 'C9': ['TRAIL', 'SEMA4D', 'PF4', 'FGF13', 'CSF1'],\n",
       " 'E19': ['TNF', 'SPP1', 'NOGGIN', 'EPO', 'FGF7'],\n",
       " 'K1': ['PF4', 'LGALS9', 'IL13', 'IFNG'],\n",
       " 'C13': ['CCL3', 'WNT7A', 'TRAIL', 'IL1A'],\n",
       " 'G15': ['TGFB1', 'FGF10', 'FGF1', 'EGF', 'CADM1'],\n",
       " 'I11': ['beta-NGF', 'WNT7A', 'VEGFA', 'LGALS9', 'FN1'],\n",
       " 'K11': ['TSLP', 'IL17A', 'GDF15', 'FGF1', 'ADIPOQ'],\n",
       " 'O9': ['RARRES2', 'NAMPT', 'LPA', 'IL13', 'HGF'],\n",
       " 'G7': ['RANKL', 'IL1A', 'GDF15', 'FASLG', 'CXCL12'],\n",
       " 'A19': ['WNT3A', 'NRG1', 'CSF2', 'CSF1', 'CCL2'],\n",
       " 'I23': ['C5', 'CCL2', 'WNT3A', 'CCL5'],\n",
       " 'O23': ['WNT3A', 'OSM', 'CCL5', 'CCL3', 'APOA1'],\n",
       " 'K17': ['TSLP', 'RANKL', 'IL10', 'FASLG', 'APOA1'],\n",
       " 'G1': ['PLG1', 'PDGF-AA', 'IL6', 'EGF'],\n",
       " 'M3': ['WNT7A', 'INHBB', 'IL17A', 'CXCL12'],\n",
       " 'E3': ['VEGFA', 'CADM1', 'APOE', 'APOA1', 'SEMA4D'],\n",
       " 'A3': ['NOGGIN', 'LPA', 'IL15', 'IFNA2', 'APOE'],\n",
       " 'M17': ['IFNA2', 'LGALS9', 'LPA', 'PLG1', 'VEGFA'],\n",
       " 'O21': ['IL7', 'PLG1', 'IL4', 'IFNG', 'CSF1'],\n",
       " 'C21': ['TGFB3', 'LGALS9', 'HGF', 'EGF'],\n",
       " 'G19': ['IL6', 'IL22', 'IGF1', 'CD40LG', 'C5'],\n",
       " 'A1': ['BMP4', 'CCL11', 'IL4', 'CCL2'],\n",
       " 'E5': ['IGF1', 'CCL5', 'CCL2', 'AREG', 'IL15'],\n",
       " 'C1': ['WNT7A', 'WNT3A', 'TSLP', 'FGF2', 'APP'],\n",
       " 'O13': ['SEMA4D', 'IL13', 'HGF', 'GDF15', 'RANKL'],\n",
       " 'C7': ['TNF', 'IL7', 'IL1B', 'FGF13', 'EGF'],\n",
       " 'O17': ['EPO', 'FGF7', 'LPA', 'VEGFA', 'PDGF-AA'],\n",
       " 'E13': ['SERPING1', 'OSM', 'FGF1', 'CSF2'],\n",
       " 'K21': ['THBS1', 'CXCL12', 'CSF2', 'CCL2', 'BDNF'],\n",
       " 'E11': ['TGFB3', 'SPP1', 'SEMA4D', 'PDGF-AA', 'AREG'],\n",
       " 'G11': ['PDGF-AA', 'IL22', 'IL17A', 'AREG'],\n",
       " 'I5': ['SPP1', 'PLG1', 'NAMPT', 'IL10', 'EPO'],\n",
       " 'E7': ['beta-NGF', 'IL1B', 'CCL3', 'CADM1', 'THBS1'],\n",
       " 'I3': ['PF4', 'IL13', 'FGF2', 'CSF1', 'CCL11'],\n",
       " 'C3': ['TNF', 'TGFB3', 'OSM', 'NRG1', 'NAMPT'],\n",
       " 'C17': ['RSPO3', 'NRG1', 'IL4', 'TGFB3', 'WNT3A'],\n",
       " 'I19': ['RSPO3', 'INHBB', 'FN1', 'CD40LG', 'APP'],\n",
       " 'G9': ['PLG1', 'IFNG', 'C5', 'AREG', 'IL1A'],\n",
       " 'C23': ['RARRES2', 'FGF2', 'CCL5', 'APOE'],\n",
       " 'A9': ['ADIPOQ', 'CD40LG', 'beta-NGF', 'IL15', 'FGF13'],\n",
       " 'K9': ['IL6', 'IGF1', 'FGF13', 'FGF1', 'C5'],\n",
       " 'M9': ['beta-NGF', 'TSLP', 'TRAIL', 'SERPING1', 'IL10'],\n",
       " 'K15': ['TGFB1', 'SERPING1', 'INHBB', 'AREG'],\n",
       " 'M13': ['TNF'],\n",
       " 'A21': ['TNF'],\n",
       " 'M19': [],\n",
       " 'K13': [],\n",
       " 'E23': [],\n",
       " 'A7': [],\n",
       " 'I17': [],\n",
       " 'O5': [],\n",
       " 'E15': [],\n",
       " 'I15': [],\n",
       " 'E17': [],\n",
       " 'A11': [],\n",
       " 'O11': [],\n",
       " 'M11': []}"
      ]
     },
     "execution_count": 24,
     "metadata": {},
     "output_type": "execute_result"
    }
   ],
   "source": [
    "q"
   ]
  },
  {
   "cell_type": "code",
   "execution_count": 29,
   "metadata": {},
   "outputs": [
    {
     "name": "stdout",
     "output_type": "stream",
     "text": [
      "12\n",
      "12\n",
      "72\n"
     ]
    }
   ],
   "source": [
    "print(sum(lens==0))\n",
    "print(sum(lens==1))\n",
    "print(sum(lens==4)+sum(lens==5))"
   ]
  },
  {
   "cell_type": "code",
   "execution_count": 20,
   "metadata": {},
   "outputs": [
    {
     "name": "stdout",
     "output_type": "stream",
     "text": [
      "[0 0 0 0 0 0 0 0 0 0 0 0 1 1 1 1 1 1 1 1 1 1 1 1 4 4 4 4 4 4 4 4 4 4 4 4 4\n",
      " 4 4 4 4 4 4 4 5 5 5 5 5 5 5 5 5 5 5 5 5 5 5 5 5 5 5 5 5 5 5 5 5 5 5 5 5 5\n",
      " 5 5 5 5 5 5 5 5 5 5 5 5 5 5 5 5 5 5 5 5 5 5]\n"
     ]
    }
   ],
   "source": [
    "q = well_drug_dict['quadrant2']\n",
    "lens = []\n",
    "for pool in q:\n",
    "    lens.append(len(q[pool]))\n",
    "lens = np.array(lens)\n",
    "print(np.sort(lens))"
   ]
  },
  {
   "cell_type": "code",
   "execution_count": 30,
   "metadata": {},
   "outputs": [
    {
     "name": "stdout",
     "output_type": "stream",
     "text": [
      "12\n",
      "12\n",
      "72\n"
     ]
    }
   ],
   "source": [
    "print(sum(lens==0))\n",
    "print(sum(lens==1))\n",
    "print(sum(lens==4)+sum(lens==5))"
   ]
  },
  {
   "cell_type": "code",
   "execution_count": null,
   "metadata": {},
   "outputs": [],
   "source": []
  },
  {
   "cell_type": "code",
   "execution_count": null,
   "metadata": {},
   "outputs": [],
   "source": []
  }
 ],
 "metadata": {
  "kernelspec": {
   "display_name": "Python 3",
   "language": "python",
   "name": "python3"
  },
  "language_info": {
   "codemirror_mode": {
    "name": "ipython",
    "version": 3
   },
   "file_extension": ".py",
   "mimetype": "text/x-python",
   "name": "python",
   "nbconvert_exporter": "python",
   "pygments_lexer": "ipython3",
   "version": "3.7.3"
  }
 },
 "nbformat": 4,
 "nbformat_minor": 5
}
