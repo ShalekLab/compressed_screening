{
 "cells": [
  {
   "cell_type": "code",
   "execution_count": 1,
   "id": "5ed2d436-7bd4-45d4-ae90-6156ac1691a2",
   "metadata": {},
   "outputs": [],
   "source": [
    "import pandas as pd\n",
    "import numpy as np\n",
    "import pickle\n",
    "import seaborn as sns\n",
    "import string"
   ]
  },
  {
   "cell_type": "code",
   "execution_count": 2,
   "id": "34f21d30-c5a4-47b6-99b7-6b5e72946434",
   "metadata": {},
   "outputs": [],
   "source": [
    "with open('well_drug_dicts/randomPDAC_exceptions_removed_plate1.pickle', 'rb') as handle:\n",
    "    plate1_well_drug_dict = pickle.load(handle)\n",
    "with open('well_drug_dicts/randomPDAC_exceptions_removed_plate2.pickle', 'rb') as handle:\n",
    "    plate2_well_drug_dict = pickle.load(handle)"
   ]
  },
  {
   "cell_type": "code",
   "execution_count": 3,
   "id": "77cfd3fb-ade6-4228-bc24-59e6c835a80b",
   "metadata": {},
   "outputs": [],
   "source": [
    "sample_perturbation_dicts = {}\n",
    "sample_perturbation_dicts['plate1'] = plate1_well_drug_dict\n",
    "sample_perturbation_dicts['plate2'] = plate2_well_drug_dict"
   ]
  },
  {
   "cell_type": "markdown",
   "id": "288ae7c3-5072-4d8d-8ac6-f483afaa1142",
   "metadata": {},
   "source": [
    "need to sort by the well"
   ]
  },
  {
   "cell_type": "code",
   "execution_count": 7,
   "id": "e4fc1506-a8b1-4c1e-a703-75349c62077d",
   "metadata": {},
   "outputs": [
    {
     "data": {
      "text/plain": [
       "96"
      ]
     },
     "execution_count": 7,
     "metadata": {},
     "output_type": "execute_result"
    }
   ],
   "source": [
    "len(plate1_well_drug_dict)"
   ]
  },
  {
   "cell_type": "code",
   "execution_count": 8,
   "id": "f48714cd-742f-4399-9e5c-c08a91754ef2",
   "metadata": {},
   "outputs": [
    {
     "data": {
      "text/plain": [
       "96"
      ]
     },
     "execution_count": 8,
     "metadata": {},
     "output_type": "execute_result"
    }
   ],
   "source": [
    "len(plate2_well_drug_dict)"
   ]
  },
  {
   "cell_type": "code",
   "execution_count": 18,
   "id": "29c91eec-fdf0-4987-ba19-2e4b6afdb827",
   "metadata": {},
   "outputs": [],
   "source": [
    "perturbations = []\n",
    "for plate in sample_perturbation_dicts:\n",
    "    for well in sample_perturbation_dicts[plate]:\n",
    "        new_perturbations = sample_perturbation_dicts[plate][well]\n",
    "        for new_perturbation in new_perturbations:\n",
    "            if new_perturbation not in perturbations:\n",
    "                perturbations.append(new_perturbation)\n",
    "\n",
    "\n",
    "# assigning the drug names in the design matrix\n",
    "for plate in sample_perturbation_dicts:\n",
    "    # initializing the design matrix\n",
    "    design_matrix = pd.DataFrame(data = np.zeros((len(sample_perturbation_dicts[plate]),len(perturbations))),\n",
    "                            index = list(sample_perturbation_dicts[plate].keys()),\n",
    "                            columns=perturbations)\n",
    "    \n",
    "    for well in sample_perturbation_dicts[plate]:\n",
    "        design_matrix.loc[well,sample_perturbation_dicts[plate][well]] = 1\n",
    "    # design_matrix['Metadata_well'] = list(sample_perturbation_dicts[plate].keys())\n",
    "    design_matrix.to_csv(\"design_matrices/\"+plate+\".csv\")"
   ]
  },
  {
   "cell_type": "code",
   "execution_count": 32,
   "id": "e75a16c7-d853-4bc3-bf7c-92da4f19af36",
   "metadata": {},
   "outputs": [],
   "source": [
    "design_matrix = pd.read_csv(\"design_matrices/plate1.csv\")"
   ]
  },
  {
   "cell_type": "code",
   "execution_count": 37,
   "id": "1c364315-010f-4c1a-8826-27cdd9926e92",
   "metadata": {},
   "outputs": [
    {
     "data": {
      "text/plain": [
       "IFNG    1\n",
       "Name: 30, dtype: object"
      ]
     },
     "execution_count": 37,
     "metadata": {},
     "output_type": "execute_result"
    }
   ],
   "source": [
    "i=30\n",
    "design_matrix.iloc[i,:].loc[design_matrix.iloc[i,:]==1]"
   ]
  },
  {
   "cell_type": "code",
   "execution_count": 35,
   "id": "afa25c1b-e16f-422e-b76e-021b3b9759da",
   "metadata": {},
   "outputs": [
    {
     "data": {
      "text/plain": [
       "{'G1': ['BMP4', 'LGALS9', 'IL33', 'CXCL12'],\n",
       " 'G11': ['IFNG', 'CD40LG', 'BDNF', 'IL1B', 'SPP1'],\n",
       " 'C1': ['TSLP', 'TGFB3', 'IL33', 'IFNA2', 'CSF1'],\n",
       " 'C5': ['RARRES2', 'FGF10', 'ADIPOQ', 'PF4'],\n",
       " 'F4': ['beta-NGF', 'TRAIL', 'THBS1', 'IL7', 'IL33'],\n",
       " 'H1': ['PDGF-AA', 'IL4', 'IL17A', 'FASLG', 'IL13'],\n",
       " 'E4': ['IL33', 'IL15', 'INHBB', 'IL7'],\n",
       " 'D12': ['HGF', 'CCL3', 'BDNF', 'IL1B', 'NOGGIN'],\n",
       " 'H10': ['TNF', 'IL6', 'FGF1', 'EPO', 'ADIPOQ'],\n",
       " 'F12': ['IFNA2', 'APP', 'APOA1', 'EPO'],\n",
       " 'D9': ['THBS1', 'NAMPT', 'IL1A', 'BMP4'],\n",
       " 'B3': ['APP', 'APOE', 'BDNF', 'IL15', 'TGFB1'],\n",
       " 'A7': ['RSPO3', 'RARRES2', 'IL33', 'FASLG'],\n",
       " 'G8': ['THBS1', 'IFNA2', 'GDF15', 'EGF', 'FN1'],\n",
       " 'F2': ['NRG1', 'FN1', 'CSF2', 'APOE'],\n",
       " 'E11': ['INHBB', 'IL10', 'IGF1', 'C5'],\n",
       " 'H2': ['IGF1', 'TGFB1', 'OSM', 'NRG1', 'IL22'],\n",
       " 'B6': ['OSM', 'IL22', 'GDF15', 'FGF10', 'BMP4'],\n",
       " 'G3': ['VEGFA', 'RSPO3', 'IL4', 'CD40LG'],\n",
       " 'A9': ['RARRES2', 'IFNG', 'FGF13', 'BDNF', 'TNF'],\n",
       " 'A3': ['HGF', 'FGF10', 'RSPO3', 'RANKL', 'IL1B'],\n",
       " 'D7': ['IL7', 'FGF7', 'CADM1', 'TGFB1', 'WNT7A'],\n",
       " 'E5': ['SPP1', 'SEMA4D', 'FGF7', 'CCL11'],\n",
       " 'D2': ['IL6', 'IL22', 'FGF10', 'CCL11', 'IL10'],\n",
       " 'C11': ['FN1', 'FASLG', 'BMP4', 'APP', 'ADIPOQ'],\n",
       " 'D3': ['TRAIL', 'SERPING1', 'IL1A', 'APOA1', 'FGF2'],\n",
       " 'F3': ['CCL5', 'CCL3', 'SERPING1', 'NOGGIN', 'IL17A'],\n",
       " 'G4': ['TNF'],\n",
       " 'F10': ['TNF'],\n",
       " 'A12': ['IFNG'],\n",
       " 'B10': ['IFNG'],\n",
       " 'B8': ['IFNG'],\n",
       " 'D11': ['IFNG'],\n",
       " 'E1': ['TGFB1'],\n",
       " 'H4': ['TGFB1'],\n",
       " 'A8': ['TGFB1'],\n",
       " 'E7': ['NOGGIN', 'NAMPT', 'FGF7', 'FGF2', 'CXCL12'],\n",
       " 'G12': ['TGFB1'],\n",
       " 'H8': ['CADM1', 'CCL11', 'CSF2', 'PF4'],\n",
       " 'B5': ['TRAIL', 'SEMA4D', 'PF4', 'FGF13', 'CSF1'],\n",
       " 'C10': ['TNF', 'SPP1', 'NOGGIN', 'EPO', 'FGF7'],\n",
       " 'F1': ['PF4', 'LGALS9', 'IL13', 'IFNG'],\n",
       " 'B7': ['CCL3', 'WNT7A', 'TRAIL', 'IL1A'],\n",
       " 'D8': ['TGFB1', 'FGF10', 'FGF1', 'EGF', 'CADM1'],\n",
       " 'E6': ['beta-NGF', 'WNT7A', 'VEGFA', 'LGALS9', 'FN1'],\n",
       " 'F6': ['TSLP', 'IL17A', 'GDF15', 'FGF1', 'ADIPOQ'],\n",
       " 'H5': ['RARRES2', 'NAMPT', 'LPA', 'IL13', 'HGF'],\n",
       " 'D4': ['IL1A', 'GDF15', 'FASLG', 'CXCL12'],\n",
       " 'A10': ['WNT3A', 'NRG1', 'CSF2', 'CSF1', 'CCL2'],\n",
       " 'E12': ['C5', 'CCL2', 'WNT3A', 'CCL5'],\n",
       " 'H12': ['WNT3A', 'OSM', 'CCL5', 'CCL3', 'APOA1'],\n",
       " 'F9': ['TSLP', 'IL10', 'FASLG', 'APOA1'],\n",
       " 'D1': ['PLG1', 'PDGF-AA', 'IL6', 'EGF'],\n",
       " 'G2': ['WNT7A', 'INHBB', 'IL17A', 'CXCL12'],\n",
       " 'C2': ['VEGFA', 'CADM1', 'APOE', 'APOA1', 'SEMA4D'],\n",
       " 'A2': ['NOGGIN', 'LPA', 'IL15', 'IFNA2', 'APOE'],\n",
       " 'G9': ['IFNA2', 'LGALS9', 'LPA', 'PLG1', 'VEGFA'],\n",
       " 'H11': ['IL7', 'PLG1', 'IL4', 'IFNG', 'CSF1'],\n",
       " 'B11': ['TGFB3', 'LGALS9', 'HGF', 'EGF'],\n",
       " 'D10': ['IL6', 'IL22', 'IGF1', 'CD40LG', 'C5'],\n",
       " 'A1': ['BMP4', 'CCL11', 'IL4', 'CCL2'],\n",
       " 'C3': ['IGF1', 'CCL5', 'CCL2', 'AREG', 'IL15'],\n",
       " 'B1': ['WNT7A', 'WNT3A', 'TSLP', 'FGF2', 'APP'],\n",
       " 'H7': ['SEMA4D', 'IL13', 'HGF', 'GDF15'],\n",
       " 'B4': ['TNF', 'IL7', 'IL1B', 'FGF13', 'EGF'],\n",
       " 'H9': ['EPO', 'FGF7', 'LPA', 'VEGFA', 'PDGF-AA'],\n",
       " 'C7': ['SERPING1', 'OSM', 'FGF1', 'CSF2'],\n",
       " 'F11': ['THBS1', 'CXCL12', 'CSF2', 'CCL2', 'BDNF'],\n",
       " 'C6': ['TGFB3', 'SPP1', 'SEMA4D', 'PDGF-AA', 'AREG'],\n",
       " 'D6': ['PDGF-AA', 'IL22', 'IL17A', 'AREG'],\n",
       " 'E3': ['SPP1', 'PLG1', 'NAMPT', 'IL10', 'EPO'],\n",
       " 'C4': ['beta-NGF', 'IL1B', 'CCL3', 'CADM1', 'THBS1'],\n",
       " 'E2': ['PF4', 'IL13', 'FGF2', 'CSF1', 'CCL11'],\n",
       " 'B2': ['TNF', 'TGFB3', 'OSM', 'NRG1', 'NAMPT'],\n",
       " 'B9': ['RSPO3', 'NRG1', 'IL4', 'TGFB3', 'WNT3A'],\n",
       " 'E10': ['RSPO3', 'INHBB', 'FN1', 'CD40LG', 'APP'],\n",
       " 'D5': ['PLG1', 'IFNG', 'C5', 'AREG', 'IL1A'],\n",
       " 'B12': ['RARRES2', 'FGF2', 'CCL5', 'APOE'],\n",
       " 'A5': ['ADIPOQ', 'CD40LG', 'beta-NGF', 'IL15', 'FGF13'],\n",
       " 'F5': ['IL6', 'IGF1', 'FGF13', 'FGF1', 'C5'],\n",
       " 'G5': ['beta-NGF', 'TSLP', 'TRAIL', 'SERPING1', 'IL10'],\n",
       " 'F8': ['TGFB1', 'SERPING1', 'INHBB', 'AREG'],\n",
       " 'G7': ['TNF'],\n",
       " 'A11': ['TNF'],\n",
       " 'G10': [],\n",
       " 'F7': [],\n",
       " 'C12': [],\n",
       " 'A4': [],\n",
       " 'E9': [],\n",
       " 'H3': [],\n",
       " 'C8': [],\n",
       " 'E8': [],\n",
       " 'C9': [],\n",
       " 'A6': [],\n",
       " 'H6': [],\n",
       " 'G6': []}"
      ]
     },
     "execution_count": 35,
     "metadata": {},
     "output_type": "execute_result"
    }
   ],
   "source": [
    "sample_perturbation_dicts['plate1']"
   ]
  },
  {
   "cell_type": "code",
   "execution_count": null,
   "id": "adae1511-12f9-4625-8020-fc3766edcc57",
   "metadata": {},
   "outputs": [],
   "source": []
  }
 ],
 "metadata": {
  "kernelspec": {
   "display_name": "Python 3 (ipykernel)",
   "language": "python",
   "name": "python3"
  },
  "language_info": {
   "codemirror_mode": {
    "name": "ipython",
    "version": 3
   },
   "file_extension": ".py",
   "mimetype": "text/x-python",
   "name": "python",
   "nbconvert_exporter": "python",
   "pygments_lexer": "ipython3",
   "version": "3.7.12"
  }
 },
 "nbformat": 4,
 "nbformat_minor": 5
}
