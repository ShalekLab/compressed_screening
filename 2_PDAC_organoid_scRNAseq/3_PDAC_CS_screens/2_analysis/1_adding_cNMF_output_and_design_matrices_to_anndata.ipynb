{
 "cells": [
  {
   "cell_type": "markdown",
   "metadata": {},
   "source": [
    "# Loading cNMF output and CS design matrices into anndata\n",
    "## FOR Q1Q2 (plate 1+2) post QC & hash demultiplex, cNMF prep\n",
    "#### _BEM 08-15-2022_\n",
    "\n",
    "\n",
    "### What this does:\n",
    "- Input data:\n",
    "    - Adata files with Q1Q2 (plate 1+2) post QC & hash demultiplex scRNA-seq dataset\n",
    "    - cNMF gene spectra scores, module usage, and highly variable genes from running cNMF wdl file\n",
    "    - Design matrices indicating which drugs went into which wells in the compressed screens\n",
    "- Loads in all inputs into anndata file\n",
    "- Identifies cNMF modules that are highly variable across cells"
   ]
  },
  {
   "cell_type": "code",
   "execution_count": 1,
   "metadata": {},
   "outputs": [],
   "source": [
    "import os\n",
    "import sys\n",
    "import warnings\n",
    "import random\n",
    "import itertools\n",
    "import pandas as pd\n",
    "import numpy as np\n",
    "import scanpy as sc\n",
    "import seaborn as sns\n",
    "from kneed import KneeLocator\n",
    "\n",
    "from scipy.io import mmread\n",
    "import scipy.sparse as sp\n",
    "import matplotlib.pyplot as plt\n",
    "from IPython.display import Image\n",
    "from cnmf import cNMF\n",
    "\n",
    "sc.settings.verbosity = 3           # verbosity: errors (0), warnings (1), info (2), hints (3)"
   ]
  },
  {
   "cell_type": "markdown",
   "metadata": {},
   "source": [
    "## Prep anndata"
   ]
  },
  {
   "cell_type": "markdown",
   "metadata": {},
   "source": [
    "#### metadata helper"
   ]
  },
  {
   "cell_type": "code",
   "execution_count": 19,
   "metadata": {},
   "outputs": [],
   "source": [
    "def add_design_matrix(adata, plate_design_path):\n",
    "    # Load design matrix\n",
    "    plate1_design = pd.read_csv(plate_design_path,index_col=0)\n",
    "    plate1_design = plate1_design.rename(columns={'TNF':'TNFa', 'TGFB1':'TGFbeta1'})\n",
    "\n",
    "    # Add Metadata_perturbation to anndata: based on design matrix\n",
    "    Metadata_perturbation = ['random']*len(plate1_design.index)\n",
    "    Controls = (np.sum(plate1_design, axis = 1) == 0)\n",
    "    Landmarks = (np.sum(plate1_design, axis = 1) == 1)\n",
    "\n",
    "    # Build list of perturbations\n",
    "    for i in list(range(len(Metadata_perturbation))):\n",
    "        if Controls[i]:\n",
    "            Metadata_perturbation[i] = 'Control'\n",
    "        elif Landmarks[i]:\n",
    "            Metadata_perturbation[i] = plate1_design.columns[plate1_design.iloc[i,:] == 1][0]\n",
    "\n",
    "    # Add well as index\n",
    "    Metadata_perturbation = pd.DataFrame(Metadata_perturbation, \n",
    "                                         columns = ['Metadata_perturbation'], \n",
    "                                         index = plate1_design.index).reset_index()\n",
    "\n",
    "    # Map back to anndata\n",
    "    Metadata_perturbation = pd.DataFrame(adata.obs['sample_well']).rename(columns={'sample_well':'index'}).\\\n",
    "                            merge(Metadata_perturbation,how='left',on='index').\\\n",
    "                            drop(['index'],axis=1)\n",
    "\n",
    "    adata.obs['Metadata_perturbation'] = Metadata_perturbation.Metadata_perturbation.values\n",
    "\n",
    "    # add metadata for landmarks\n",
    "    LM_list = list(set(adata.obs.Metadata_perturbation.values)-set(['random']))\n",
    "\n",
    "    LM_df = pd.DataFrame(columns = LM_list)\n",
    "\n",
    "    for LM in LM_list:\n",
    "        LM_df[LM] = (adata.obs.Metadata_perturbation == LM)\n",
    "        LM_df[LM] = adata.obs.Metadata_perturbation[(adata.obs.Metadata_perturbation == LM)]\n",
    "\n",
    "        adata.obs[LM] = LM_df[LM]\n",
    "\n",
    "    adata.obs['landmarks'] = LM_df.astype(str).replace('nan', '').sum(axis=1)\n",
    "    adata.obs.loc[adata.obs.landmarks == '', 'landmarks'] = np.nan\n",
    "\n",
    "    # Add Design matrix to anndata\n",
    "    plate1_design = plate1_design.reset_index()\n",
    "    adata.obs['index'] = adata.obs['sample_well']\n",
    "\n",
    "    design_mat = pd.DataFrame(adata.obs['index']).\\\n",
    "                 merge(plate1_design,how='left',on='index').\\\n",
    "                 drop(['index'],axis=1)\n",
    "\n",
    "    adata.obsm['design_matrix']=np.array(design_mat)\n",
    "    adata.uns['design_matrix_perturbations'] = design_mat.columns.values.tolist()\n",
    "    adata.obs = adata.obs.drop(columns=['index'])\n",
    "    \n",
    "    return(adata)\n",
    "\n"
   ]
  },
  {
   "cell_type": "markdown",
   "metadata": {},
   "source": [
    "#### cell # plotting"
   ]
  },
  {
   "cell_type": "code",
   "execution_count": 20,
   "metadata": {},
   "outputs": [],
   "source": [
    "def cell_num_plot(adata, fig_name):\n",
    "    \n",
    "    # Make table of cells by perturbations\n",
    "    cell_num_pert = pd.DataFrame(adata.obsm['design_matrix_with_media'], \n",
    "                                 columns = adata.uns['design_matrix_perturbations_with_media'], \n",
    "                                 index = adata.obs.index)\n",
    "\n",
    "    cell_num_pert.loc[:,'media'] = (cell_num_pert.iloc[:,:-1].sum(axis=1)==0)*1\n",
    "\n",
    "    # Review cell # per perturbation\n",
    "    p_cell_num_pert = plot_cell_num_pert(cell_num_pert, fig_name)\n",
    "\n",
    "    summary_cell_num = pd.DataFrame(cell_num_pert.sum(axis=0),columns = ['cell_#']).sort_values(by='cell_#')\n",
    "    \n",
    "    print('3 highest perturbations:')\n",
    "    print(summary_cell_num.iloc[-4:-1,:])\n",
    "    print('3 lowest perturbations:')\n",
    "    print(summary_cell_num.iloc[:3,:])\n",
    "    \n",
    "    return(summary_cell_num)\n"
   ]
  },
  {
   "cell_type": "code",
   "execution_count": 21,
   "metadata": {},
   "outputs": [],
   "source": [
    "def cell_num_downsample_plot(plot_cell_num_pert, fig_name):\n",
    "    \n",
    "    g = sns.histplot(plot_cell_num_pert, x='cell_#', legend = True,\n",
    "                 element=\"step\", multiple='layer', stat='density', bins = 20,\n",
    "                 hue=\"type\", palette=['grey', 'red'])\n",
    "\n",
    "    g.figure.savefig('figures/'+fig_name+'.pdf');\n",
    "\n",
    "        \n",
    "def plot_cell_num_pert(cell_num_pert, fig_name):\n",
    "    \n",
    "    plot_cell_num_pert = pd.DataFrame(cell_num_pert.sum(axis=0),\n",
    "                                  columns = ['cell_#'])\n",
    "    plot_cell_num_pert['type'] = 'perturbation'\n",
    "    plot_cell_num_pert.iloc[-1,1] = 'media'\n",
    "    \n",
    "    cell_num_downsample_plot(plot_cell_num_pert, fig_name)\n",
    "    \n",
    "    return(plot_cell_num_pert)"
   ]
  },
  {
   "cell_type": "markdown",
   "metadata": {},
   "source": [
    "### Paths to files"
   ]
  },
  {
   "cell_type": "code",
   "execution_count": 22,
   "metadata": {},
   "outputs": [
    {
     "name": "stdout",
     "output_type": "stream",
     "text": [
      "scanpy==1.9.1 anndata==0.8.0 umap==0.4.6 numpy==1.23.2 scipy==1.9.0 pandas==1.4.1 scikit-learn==1.1.2 statsmodels==0.12.1 python-igraph==0.8.3 leidenalg==0.8.2\n"
     ]
    }
   ],
   "source": [
    "sc.logging.print_header()"
   ]
  },
  {
   "cell_type": "code",
   "execution_count": 23,
   "metadata": {},
   "outputs": [],
   "source": [
    "h5ad_path = '../../../PDAC_CS_data_lock/PDAC_sept1_data_lock/1_Preprocess/'\n",
    "\n",
    "plate1_input = h5ad_path + \"PDAC_CS_SSwl_q1_demulti_g500_BEM_20220901.h5ad\"\n",
    "plate2_input = h5ad_path + \"PDAC_CS_SSwl_q2_demulti_g500_BEM_20220901.h5ad\""
   ]
  },
  {
   "cell_type": "markdown",
   "metadata": {},
   "source": [
    "### Plate 1"
   ]
  },
  {
   "cell_type": "code",
   "execution_count": 43,
   "metadata": {},
   "outputs": [
    {
     "name": "stdout",
     "output_type": "stream",
     "text": [
      "data shape: (5662, 15970)\n"
     ]
    }
   ],
   "source": [
    "# Load plate 1 (Q1) star solo - QC/preprocess/demulti in seurat\n",
    "adata = sc.read(plate1_input)\n",
    "del adata.raw\n",
    "adata.var.index = adata.var._index\n",
    "adata.var.index.rename(name='index', inplace=True)\n",
    "del adata.var['_index']\n",
    "\n",
    "# Clean up metadata\\\n",
    "metadata_to_drop = ['orig.ident', 'array', 'nCount_HTO', 'nFeature_HTO', 'plate_row', \n",
    "                    'HTO_maxID', 'HTO_secondID', 'HTO_margin', 'HTO_classification',\n",
    "                    'HTO_classification.global', 'hash.ID', 'plate_column']\n",
    "\n",
    "adata.obs = adata.obs.drop(metadata_to_drop, axis=1)\n",
    "\n",
    "print(\"data shape:\", adata.shape)\n",
    "\n",
    "# Add design matrix\n",
    "adata = add_design_matrix(adata, plate_design_path = '../1_Data/design_matrices/plate1.csv')\n",
    "\n",
    "adata.obsm['design_matrix_with_media'] = np.hstack([adata.obsm['design_matrix'],\n",
    "                                                    np.repeat(1,adata.obsm['design_matrix'].shape[0]).reshape(adata.obsm['design_matrix'].shape[0],1)])\n",
    "adata.uns['design_matrix_perturbations_with_media'] = np.hstack([adata.uns['design_matrix_perturbations'],\n",
    "                                                                 [\"media\"]])\n",
    "\n",
    "plate1 = adata"
   ]
  },
  {
   "cell_type": "code",
   "execution_count": 44,
   "metadata": {},
   "outputs": [
    {
     "name": "stdout",
     "output_type": "stream",
     "text": [
      "3 highest perturbations:\n",
      "      cell_#\n",
      "AREG   434.0\n",
      "IL1A   459.0\n",
      "FGF2   478.0\n",
      "3 lowest perturbations:\n",
      "       cell_#\n",
      "RANKL    99.0\n",
      "IFNA2   119.0\n",
      "LPA     124.0\n"
     ]
    },
    {
     "name": "stderr",
     "output_type": "stream",
     "text": [
      "/Users/bemead/anaconda3/envs/comp_screening/lib/python3.8/site-packages/anndata/_core/anndata.py:859: FutureWarning: X.dtype being converted to np.float32 from float64. In the next version of anndata (0.9) conversion will not be automatic. Pass dtype explicitly to avoid this warning. Pass `AnnData(X, dtype=X.dtype, ...)` to get the future behavour.\n",
      "  self._set_dim_df(value, \"obs\")\n"
     ]
    },
    {
     "data": {
      "image/png": "[encoded data removed]",
      "text/plain": [
       "<Figure size 432x288 with 1 Axes>"
      ]
     },
     "metadata": {
      "needs_background": "light"
     },
     "output_type": "display_data"
    }
   ],
   "source": [
    "# plot cell # perturbations in pools dataset \n",
    "adata_pools = adata[adata.obs.Metadata_perturbation.isin(['Control','random'])]\n",
    "# Clean up metadata\n",
    "adata_pools.obs = adata_pools.obs.drop(['TNFa','TGFbeta1','IFNG'], axis=1)\n",
    "\n",
    "p1_summary = cell_num_plot(adata_pools, fig_name=\"plate1_pools\")"
   ]
  },
  {
   "cell_type": "markdown",
   "metadata": {},
   "source": [
    "### Plate 2"
   ]
  },
  {
   "cell_type": "code",
   "execution_count": 40,
   "metadata": {},
   "outputs": [
    {
     "name": "stdout",
     "output_type": "stream",
     "text": [
      "data shape: (10881, 16633)\n"
     ]
    }
   ],
   "source": [
    "# Load plate 2 (Q2) star solo - QC/preprocess/demulti in seurat\n",
    "adata = sc.read(plate2_input)\n",
    "del adata.raw\n",
    "adata.var.index = adata.var._index\n",
    "adata.var.index.rename(name='index', inplace=True)\n",
    "del adata.var['_index']\n",
    "\n",
    "# Clean up metadata\\\n",
    "metadata_to_drop = ['orig.ident', 'array', 'nCount_HTO', 'nFeature_HTO', 'plate_row', \n",
    "                    'HTO_maxID', 'HTO_secondID', 'HTO_margin', 'HTO_classification',\n",
    "                    'HTO_classification.global', 'hash.ID', 'plate_column']\n",
    "\n",
    "adata.obs = adata.obs.drop(metadata_to_drop, axis=1)\n",
    "\n",
    "print(\"data shape:\", adata.shape)\n",
    "\n",
    "# Add design matrix\n",
    "adata = add_design_matrix(adata, plate_design_path = '../1_Data/design_matrices/plate2.csv')\n",
    "\n",
    "adata.obsm['design_matrix_with_media'] = np.hstack([adata.obsm['design_matrix'],\n",
    "                                                    np.repeat(1,adata.obsm['design_matrix'].shape[0]).reshape(adata.obsm['design_matrix'].shape[0],1)])\n",
    "adata.uns['design_matrix_perturbations_with_media'] = np.hstack([adata.uns['design_matrix_perturbations'],\n",
    "                                                                 [\"media\"]])\n",
    "\n",
    "plate2 = adata"
   ]
  },
  {
   "cell_type": "code",
   "execution_count": 42,
   "metadata": {},
   "outputs": [
    {
     "name": "stderr",
     "output_type": "stream",
     "text": [
      "/Users/bemead/anaconda3/envs/comp_screening/lib/python3.8/site-packages/anndata/_core/anndata.py:859: FutureWarning: X.dtype being converted to np.float32 from float64. In the next version of anndata (0.9) conversion will not be automatic. Pass dtype explicitly to avoid this warning. Pass `AnnData(X, dtype=X.dtype, ...)` to get the future behavour.\n",
      "  self._set_dim_df(value, \"obs\")\n"
     ]
    },
    {
     "name": "stdout",
     "output_type": "stream",
     "text": [
      "3 highest perturbations:\n",
      "         cell_#\n",
      "EPO       878.0\n",
      "RARRES2   892.0\n",
      "IL15      959.0\n",
      "3 lowest perturbations:\n",
      "       cell_#\n",
      "RANKL   150.0\n",
      "IL17A   214.0\n",
      "LPA     243.0\n"
     ]
    },
    {
     "data": {
      "image/png": "[encoded data removed]",
      "text/plain": [
       "<Figure size 432x288 with 1 Axes>"
      ]
     },
     "metadata": {
      "needs_background": "light"
     },
     "output_type": "display_data"
    }
   ],
   "source": [
    "# plot cell # perturbations in pools dataset \n",
    "adata_pools = adata[adata.obs.Metadata_perturbation.isin(['Control','random'])]\n",
    "# Clean up metadata\n",
    "adata_pools.obs = adata_pools.obs.drop(['TNFa','TGFbeta1','IFNG'], axis=1)\n",
    "\n",
    "p2_summary = cell_num_plot(adata_pools, fig_name=\"plate2_pools\")"
   ]
  },
  {
   "cell_type": "markdown",
   "metadata": {},
   "source": [
    "### Merge plates"
   ]
  },
  {
   "cell_type": "code",
   "execution_count": 27,
   "metadata": {},
   "outputs": [
    {
     "name": "stdout",
     "output_type": "stream",
     "text": [
      "extracting highly variable genes\n"
     ]
    },
    {
     "name": "stderr",
     "output_type": "stream",
     "text": [
      "/Users/bemead/anaconda3/envs/comp_screening/lib/python3.8/site-packages/anndata/_core/anndata.py:1785: FutureWarning: X.dtype being converted to np.float32 from float64. In the next version of anndata (0.9) conversion will not be automatic. Pass dtype explicitly to avoid this warning. Pass `AnnData(X, dtype=X.dtype, ...)` to get the future behavour.\n",
      "  [AnnData(sparse.csr_matrix(a.shape), obs=a.obs) for a in all_adatas],\n"
     ]
    },
    {
     "name": "stdout",
     "output_type": "stream",
     "text": [
      "--> added\n",
      "    'highly_variable', boolean vector (adata.var)\n",
      "    'highly_variable_rank', float vector (adata.var)\n",
      "    'highly_variable_nbatches', int vector (adata.var)\n",
      "    'highly_variable_intersection', boolean vector (adata.var)\n",
      "    'means', float vector (adata.var)\n",
      "    'variances', float vector (adata.var)\n",
      "    'residual_variances', float vector (adata.var)\n"
     ]
    }
   ],
   "source": [
    "# make a combined plate\n",
    "\n",
    "# merge anndatas for plates 1+2\n",
    "var_names = plate1.var_names.intersection(plate2.var_names)\n",
    "plate1 = plate1[:, var_names]\n",
    "plate2 = plate2[:, var_names]\n",
    "\n",
    "adata_concat = plate1.concatenate(plate2, batch_categories=['plate1', 'plate2'])\n",
    "\n",
    "adata_concat.uns['design_matrix_perturbations'] = plate1.uns['design_matrix_perturbations']\n",
    "\n",
    "# Select variable genes - combined\n",
    "sc.experimental.pp.highly_variable_genes(adata_concat, flavor=\"pearson_residuals\", n_top_genes=3000)\n",
    "\n",
    "# save variable genes to file\n",
    "plate12concat_hvg = adata_concat.var['highly_variable'][adata_concat.var['highly_variable']].index.values\n",
    "\n",
    "file=open('h5ad_files/plate1_2_concat_hvg.txt','w')\n",
    "for gene in plate12concat_hvg:\n",
    "    file.writelines(gene+'\\n')\n",
    "file.close()\n",
    "\n",
    "# Save adata\n",
    "adata_concat.write('h5ad_files/plate1_2_concat_adata.h5ad')"
   ]
  },
  {
   "cell_type": "code",
   "execution_count": 61,
   "metadata": {},
   "outputs": [],
   "source": [
    "p1_2_summary = p1_summary.merge(p2_summary, left_index=True, right_index=True, suffixes= ['_plate1','_plate2'])\n",
    "\n",
    "p1_lowest = set(p1_2_summary.iloc[:-1,:].sort_values(by='cell_#_plate1').index[0:10])\n",
    "p2_lowest = set(p1_2_summary.iloc[:-1,:].sort_values(by='cell_#_plate2').index[0:10])\n",
    "both_lowest = p1_lowest.intersection(p2_lowest)\n",
    "\n",
    "p1_highest = set(p1_2_summary.iloc[:-1,:].sort_values(by='cell_#_plate1').index[-10:])\n",
    "p2_highest = set(p1_2_summary.iloc[:-1,:].sort_values(by='cell_#_plate2').index[-10:])\n",
    "both_highest = p1_highest.intersection(p2_highest)"
   ]
  },
  {
   "cell_type": "code",
   "execution_count": 80,
   "metadata": {},
   "outputs": [],
   "source": [
    "p1_2_summary['perturbation'] = 'perturbations'\n",
    "p1_2_summary.iloc[-1,2] = 'media'\n",
    "\n"
   ]
  },
  {
   "cell_type": "code",
   "execution_count": 107,
   "metadata": {},
   "outputs": [
    {
     "data": {
      "image/png": "[encoded data removed]",
      "text/plain": [
       "<Figure size 432x288 with 1 Axes>"
      ]
     },
     "metadata": {
      "needs_background": "light"
     },
     "output_type": "display_data"
    }
   ],
   "source": [
    "g = sns.scatterplot(data=p1_2_summary, x=\"cell_#_plate1\", y=\"cell_#_plate2\",\n",
    "                    hue = 'perturbation', palette = ['grey', 'red'])\n",
    "\n",
    "# Annotate label point \n",
    "for pert in list(both_highest)+list(both_lowest):\n",
    "    x = p1_2_summary.loc[pert,'cell_#_plate1']\n",
    "    y = p1_2_summary.loc[pert,'cell_#_plate2']\n",
    "    \n",
    "    g.text(x + 10, y + 10 , pert, fontsize=8)\n",
    "    \n",
    "g.figure.savefig('figures/plate1+2_pool_cell_#.pdf');"
   ]
  },
  {
   "cell_type": "markdown",
   "metadata": {},
   "source": [
    "## Ingest + finish cNMF"
   ]
  },
  {
   "cell_type": "markdown",
   "metadata": {},
   "source": [
    "### Functions"
   ]
  },
  {
   "cell_type": "code",
   "execution_count": 3,
   "metadata": {},
   "outputs": [],
   "source": [
    "# Find knee\n",
    "\n",
    "def get_knee_list(module_usage, S):\n",
    "    \"\"\"\n",
    "    module_usage: pd.Series\n",
    "    \"\"\"\n",
    "    \n",
    "    y = module_usage.values\n",
    "    x=range(1, len(y)+1)\n",
    "    kn = KneeLocator(x, y, S=S, online=False, curve='convex', direction='decreasing')\n",
    "    knee_val = kn.knee\n",
    "        \n",
    "    return(module_usage.index.values[0:knee_val])"
   ]
  },
  {
   "cell_type": "code",
   "execution_count": 4,
   "metadata": {},
   "outputs": [],
   "source": [
    "def find_top_GEP(k,density_threshold,path_to_cnmf,cnmf_run,mod_prefix,knee_sens = 3):\n",
    "\n",
    "    ## Load the Z-scored GEPs which reflect how enriched a gene is in each GEP relative to all of the others\n",
    "    gene_scores = pd.read_csv(path_to_cnmf+'/'+cnmf_run+'.spectra.k_'+k+'.dt_'+density_threshold+'.consensus.txt',\n",
    "                              sep='\\t', index_col=0).T.add_prefix(mod_prefix)\n",
    "    \n",
    "    ## Obtain the top genes (knee method) for each GEP in sorted order, \n",
    "    ## and combine them into a single dataframe\n",
    "    top_genes = []\n",
    "    for gep in gene_scores.columns:\n",
    "        gene_list = list(get_knee_list(gene_scores.loc[:,gep].sort_values(ascending=False),S=knee_sens))        \n",
    "        top_genes.append(gene_list)\n",
    "\n",
    "    top_genes = pd.DataFrame(top_genes, index=gene_scores.columns).T\n",
    "    \n",
    "    ## Load in the cell usage scores for the modules\n",
    "    usage = pd.read_csv(path_to_cnmf+'/'+cnmf_run+'.usages.k_'+k+\".dt_\"+density_threshold+'.consensus.txt' ,\n",
    "                        sep='\\t', index_col=0).add_prefix(mod_prefix)\n",
    "    \n",
    "    # Normalize\n",
    "    usage = usage.div(usage.sum(axis=1), axis=0)\n",
    "    \n",
    "    return(gene_scores, top_genes, usage)"
   ]
  },
  {
   "cell_type": "code",
   "execution_count": 5,
   "metadata": {},
   "outputs": [],
   "source": [
    "def filtered_usages(usages, new_module_dict):\n",
    "    \n",
    "    filtered_usages = usages.loc[:,usages.columns.isin(list(new_module_dict.keys()))]\n",
    "    filtered_usages = filtered_usages.rename(columns = new_module_dict)\n",
    "    filtered_usages.columns = ['Module_%s' % i for i in filtered_usages.columns]\n",
    "    \n",
    "    return(filtered_usages)\n",
    "    "
   ]
  },
  {
   "cell_type": "markdown",
   "metadata": {},
   "source": [
    "### Plate 1 + Plate 2 - single cNMF run"
   ]
  },
  {
   "cell_type": "code",
   "execution_count": 6,
   "metadata": {},
   "outputs": [],
   "source": [
    "knee_sens = 2\n",
    "\n",
    "output_directory = 'cnmf_output/plate1_2_concat/'\n",
    "run_name = 'cnmf_run'\n",
    "\n",
    "p1_gene_scores, p1_top_genes, p1_usages = find_top_GEP(k='26',\n",
    "                                                      density_threshold='0_07',\n",
    "                                                      path_to_cnmf=output_directory,\n",
    "                                                      cnmf_run=run_name,\n",
    "                                                      mod_prefix='Module_',\n",
    "                                                      knee_sens = knee_sens)"
   ]
  },
  {
   "cell_type": "code",
   "execution_count": 35,
   "metadata": {},
   "outputs": [],
   "source": [
    "file_name = \"k_26_combined_knee_2\"\n",
    "\n",
    "p1_top_genes.to_csv(\"figures/p1_2_\"+file_name+\"_top_genes.csv\", index=False)\n",
    "p1_usages.to_csv(\"figures/p1_2_\"+file_name+\"_normd_usages.csv\")\n",
    "p1_gene_scores.to_csv(\"figures/p1_2_\"+file_name+\"_gene_scores.csv\")"
   ]
  }
 ],
 "metadata": {
  "kernelspec": {
   "display_name": "Python 3.7.3 64-bit",
   "language": "python",
   "name": "python3"
  },
  "language_info": {
   "codemirror_mode": {
    "name": "ipython",
    "version": 3
   },
   "file_extension": ".py",
   "mimetype": "text/x-python",
   "name": "python",
   "nbconvert_exporter": "python",
   "pygments_lexer": "ipython3",
   "version": "3.7.3"
  },
  "vscode": {
   "interpreter": {
    "hash": "31f2aee4e71d21fbe5cf8b01ff0e069b9275f58929596ceb00d14d90e3e16cd6"
   }
  }
 },
 "nbformat": 4,
 "nbformat_minor": 4
}
