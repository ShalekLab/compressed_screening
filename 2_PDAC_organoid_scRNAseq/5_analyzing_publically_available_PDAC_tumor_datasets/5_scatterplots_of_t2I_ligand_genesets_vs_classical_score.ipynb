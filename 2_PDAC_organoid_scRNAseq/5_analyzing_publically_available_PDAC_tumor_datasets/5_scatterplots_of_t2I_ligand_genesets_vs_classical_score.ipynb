{
 "cells": [
  {
   "cell_type": "markdown",
   "metadata": {},
   "source": [
    "# Plotting type 2 immunity (t2I) gene set expression vs Moffit et al classical score in TCGA and Raghavan datasets\n",
    "\n",
    "CK 2022\n",
    "\n",
    "### What this does:\n",
    "- Loads in metadata csvs of TCGA and Raghavan datasets with module scores\n",
    "- Makes scatterplots"
   ]
  },
  {
   "cell_type": "code",
   "execution_count": null,
   "metadata": {},
   "outputs": [],
   "source": [
    "library(tidyverse)\n",
    "library(ggrepel)library(tidyverse)\n",
    "library(ggrepel)"
   ]
  },
  {
   "cell_type": "code",
   "execution_count": null,
   "metadata": {},
   "outputs": [],
   "source": [
    "tgca = read.csv(\"../../../CK/tgca_paad_analysis/tgca_paad_meta_data.csv\")\n",
    "print(cor(tgca$wound.healing_1,tgca$mClassical1))\n",
    "print(cor(tgca$liu_il41,tgca$mClassical1))\n",
    "print(cor(tgca$biocarta_il41,tgca$mClassical1))\n",
    "print(cor(tgca$reactome_il41,tgca$mClassical1))\n",
    "\n",
    "pdf(\"~/Dropbox (MIT)/Compressed Screening/FIGURES & TABLES/FIGURES/Fig4/raghavan_comparison_figs/tgca_mClassical_vs_wh.pdf\",\n",
    "    width=1.35,height=1.35)\n",
    "ggplot(tgca,aes(x=mClassical1,y=wound.healing_1)) + geom_point(size=0.125) + theme_classic() +\n",
    "  geom_smooth(method=\"lm\",se=F) + \n",
    "  theme(axis.text = element_text(size=6),axis.title = element_text(size=8))\n",
    "dev.off()\n",
    "\n",
    "pdf(\"~/Dropbox (MIT)/Compressed Screening/FIGURES & TABLES/FIGURES/Fig4/raghavan_comparison_figs/tgca_mClassical_vs_ilu_il4.pdf\",\n",
    "    width=1.35,height=1.35)\n",
    "ggplot(tgca,aes(x=mClassical1,y=liu_il41)) + geom_point(size=0.125) + theme_classic() +\n",
    "  geom_smooth(method=\"lm\",se=F) + \n",
    "  theme(axis.text = element_text(size=6),axis.title = element_text(size=8))\n",
    "dev.off()\n",
    "\n",
    "pdf(\"~/Dropbox (MIT)/Compressed Screening/FIGURES & TABLES/FIGURES/Fig4/raghavan_comparison_figs/tgca_mClassical_vs_biocarta_il4.pdf\",\n",
    "    width=1.35,height=1.35)\n",
    "ggplot(tgca,aes(x=mClassical1,y=biocarta_il41)) + geom_point(size=0.125) + theme_classic() +\n",
    "  geom_smooth(method=\"lm\",se=F) + \n",
    "  theme(axis.text = element_text(size=6),axis.title = element_text(size=8))\n",
    "dev.off()\n",
    "\n",
    "pdf(\"~/Dropbox (MIT)/Compressed Screening/FIGURES & TABLES/FIGURES/Fig4/raghavan_comparison_figs/tgca_mClassical_vs_reactome_il4.pdf\",\n",
    "    width=1.35,height=1.35)\n",
    "ggplot(tgca,aes(x=mClassical1,y=reactome_il41)) + geom_point(size=0.125) + theme_classic() +\n",
    "  geom_smooth(method=\"lm\",se=F) + \n",
    "  theme(axis.text = element_text(size=6),axis.title = element_text(size=8))\n",
    "dev.off()"
   ]
  },
  {
   "cell_type": "code",
   "execution_count": null,
   "metadata": {},
   "outputs": [],
   "source": [
    "raghavaan = read.csv(\"raghavan_single_cell_metadata.csv\")\n",
    "print(cor(raghavaan$wound.healing,raghavaan$mClassical))\n",
    "print(cor(raghavaan$liu_il4,raghavaan$mClassical))\n",
    "print(cor(raghavaan$biocarta_il4,raghavaan$mClassical))\n",
    "print(cor(raghavaan$reactome_il4,raghavaan$mClassical))\n",
    "\n",
    "pdf(\"~/Dropbox (MIT)/Compressed Screening/FIGURES & TABLES/FIGURES/Fig4/raghavan_comparison_figs/mClassical_vs_wh.pdf\",\n",
    "    width=1.35,height=1.35)\n",
    "ggplot(raghavaan,aes(x=mClassical,y=wound.healing)) + geom_point(size=0.125,alpha=0.1) + theme_classic() +\n",
    "  geom_smooth(method=\"lm\",se=F) + \n",
    "  theme(axis.text = element_text(size=6),axis.title = element_text(size=8))\n",
    "dev.off()\n",
    "\n",
    "pdf(\"~/Dropbox (MIT)/Compressed Screening/FIGURES & TABLES/FIGURES/Fig4/raghavan_comparison_figs/mClassical_vs_ilu_il4.pdf\",\n",
    "    width=1.35,height=1.35)\n",
    "ggplot(raghavaan,aes(x=mClassical,y=liu_il4)) + geom_point(size=0.125,alpha=0.1) + theme_classic() +\n",
    "  geom_smooth(method=\"lm\",se=F) + \n",
    "  theme(axis.text = element_text(size=6),axis.title = element_text(size=8))\n",
    "dev.off()\n",
    "\n",
    "pdf(\"~/Dropbox (MIT)/Compressed Screening/FIGURES & TABLES/FIGURES/Fig4/raghavan_comparison_figs/mClassical_vs_biocarta_il4.pdf\",\n",
    "    width=1.35,height=1.35)\n",
    "ggplot(raghavaan,aes(x=mClassical,y=biocarta_il4)) + geom_point(size=0.125,alpha=0.1) + theme_classic() +\n",
    "  geom_smooth(method=\"lm\",se=F) + \n",
    "  theme(axis.text = element_text(size=6),axis.title = element_text(size=8))\n",
    "dev.off()\n",
    "\n",
    "pdf(\"~/Dropbox (MIT)/Compressed Screening/FIGURES & TABLES/FIGURES/Fig4/raghavan_comparison_figs/mClassical_vs_reactome_il4.pdf\",\n",
    "    width=1.35,height=1.35)\n",
    "ggplot(raghavaan,aes(x=mClassical,y=reactome_il4)) + geom_point(size=0.125,alpha=0.1) + theme_classic() +\n",
    "  geom_smooth(method=\"lm\",se=F) + \n",
    "  theme(axis.text = element_text(size=6),axis.title = element_text(size=8))\n",
    "dev.off()"
   ]
  },
  {
   "cell_type": "code",
   "execution_count": null,
   "metadata": {},
   "outputs": [],
   "source": []
  }
 ],
 "metadata": {
  "kernelspec": {
   "display_name": "Python 3.7.3 64-bit",
   "language": "python",
   "name": "python3"
  },
  "language_info": {
   "name": "python",
   "version": "3.7.3"
  },
  "orig_nbformat": 4,
  "vscode": {
   "interpreter": {
    "hash": "31f2aee4e71d21fbe5cf8b01ff0e069b9275f58929596ceb00d14d90e3e16cd6"
   }
  }
 },
 "nbformat": 4,
 "nbformat_minor": 2
}
