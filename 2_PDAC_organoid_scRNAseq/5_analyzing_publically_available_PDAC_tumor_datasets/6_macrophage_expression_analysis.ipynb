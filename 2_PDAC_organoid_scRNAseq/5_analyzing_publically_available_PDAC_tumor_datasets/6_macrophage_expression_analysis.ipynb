{
 "cells": [
  {
   "cell_type": "markdown",
   "id": "1ce2a2a3",
   "metadata": {},
   "source": [
    "# Analyzing gene expression in macrophages in Raghavan et al dataset\n",
    "\n",
    "CK 2022\n",
    "\n",
    "### What this does\n",
    "- Loads in non malignant cells from Raghavan et al and subsets down to macrophages\n",
    "- Runs differential expression analysis between macrophage subtypes\n",
    "- Plots IL4I1 expression across macrophage subtypes"
   ]
  },
  {
   "cell_type": "code",
   "execution_count": 1,
   "id": "f3b1e9a3-de06-4ee7-beac-535f52deddd0",
   "metadata": {},
   "outputs": [],
   "source": [
    "import pandas as pd \n",
    "import numpy as np\n",
    "import scanpy as sc\n",
    "import seaborn as sns\n",
    "\n",
    "import matplotlib\n",
    "import matplotlib.pyplot as plt\n",
    "matplotlib.rcParams['pdf.fonttype'] = 42\n",
    "plt.rcParams[\"font.family\"] = \"Helvetica\""
   ]
  },
  {
   "cell_type": "markdown",
   "id": "ec465646",
   "metadata": {},
   "source": [
    "Loading in the macrophages from Raghavan et al"
   ]
  },
  {
   "cell_type": "code",
   "execution_count": 3,
   "id": "94838fbc-0c14-42ab-9c2f-fb337fca8cfb",
   "metadata": {},
   "outputs": [],
   "source": [
    "non_malignant_online = sc.read(\"../../../../Ivy/PDAC_in_vivo_validation_final/data/pdac_biopsy_allCells_preprocessed.h5ad\")\n",
    "non_malignant_meta = pd.read_csv(\"/Users/connerkummerlowe/Downloads/non_malignantCells_metadata_210305.csv\",index_col=0)\n",
    "\n",
    "temp = non_malignant_online\n",
    "temp.obs.index = np.array([\"_\".join(x.split(\"_\")[1:]) for x in temp.obs.index.values])\n",
    "meta_temp = non_malignant_meta\n",
    "meta_temp.index = np.array([\"_\".join(x.split(\"_\")[1:]) for x in meta_temp.index.values])\n",
    "\n",
    "spp1_indices = meta_temp.loc[meta_temp['cell.types.complex']== \"SPP1_mono\"].index.values\n",
    "fcn1_indices = meta_temp.loc[meta_temp['cell.types.complex']== \"FCN1_mono\"].index.values\n",
    "c1qc_indices = meta_temp.loc[meta_temp['cell.types.complex']== \"C1QC_mono\"].index.values\n",
    "\n",
    "all_macrophages = np.hstack([spp1_indices,fcn1_indices,c1qc_indices])\n",
    "macrophages = temp[np.isin(temp.obs.index.values,all_macrophages),:]\n",
    "\n",
    "macrophages.obs['subtype'] = ''\n",
    "macrophages.obs['subtype'].loc[np.isin(macrophages.obs.index.values,spp1_indices)] = \"SPP1\"\n",
    "macrophages.obs['subtype'].loc[np.isin(macrophages.obs.index.values,fcn1_indices)] = \"FCN1\"\n",
    "macrophages.obs['subtype'].loc[np.isin(macrophages.obs.index.values,c1qc_indices)] = \"C1QC\""
   ]
  },
  {
   "cell_type": "markdown",
   "id": "58863264",
   "metadata": {},
   "source": [
    "Differential expression analysis"
   ]
  },
  {
   "cell_type": "code",
   "execution_count": null,
   "id": "918fd4c7",
   "metadata": {},
   "outputs": [],
   "source": [
    "sc.tl.rank_genes_groups(macrophages, 'subtype', method='wilcoxon')\n",
    "sc.pl.rank_genes_groups(macrophages, n_genes=25, sharey=False)\n",
    "\n",
    "c1qc_DE_genes  = sc.get.rank_genes_groups_df(macrophages, group=\"C1QC\")\n",
    "fcn1_DE_genes  = sc.get.rank_genes_groups_df(macrophages, group=\"FCN1\")\n",
    "spp1_DE_genes  = sc.get.rank_genes_groups_df(macrophages, group=\"SPP1\")"
   ]
  },
  {
   "cell_type": "code",
   "execution_count": 63,
   "id": "d6224fcd-bbf8-4fba-a86f-39544b0a34d7",
   "metadata": {},
   "outputs": [],
   "source": [
    "import re\n",
    "il_genes = list(filter(lambda x: re.search(r'^IL', x), macrophages.var.index.values))"
   ]
  },
  {
   "cell_type": "code",
   "execution_count": 51,
   "id": "e50fe442-9626-49b6-84a4-4184a4c30aa3",
   "metadata": {},
   "outputs": [
    {
     "data": {
      "image/png": "[encoded data removed]",
      "text/plain": [
       "<Figure size 694.08x180 with 4 Axes>"
      ]
     },
     "metadata": {
      "needs_background": "light"
     },
     "output_type": "display_data"
    }
   ],
   "source": [
    "sc.pl.dotplot(macrophages,var_names=il_genes,groupby=\"subtype\")"
   ]
  },
  {
   "cell_type": "code",
   "execution_count": 55,
   "id": "0b36d68a-1828-4a03-b216-d77f8b70b5b2",
   "metadata": {},
   "outputs": [
    {
     "data": {
      "text/html": [
       "<div>\n",
       "<style scoped>\n",
       "    .dataframe tbody tr th:only-of-type {\n",
       "        vertical-align: middle;\n",
       "    }\n",
       "\n",
       "    .dataframe tbody tr th {\n",
       "        vertical-align: top;\n",
       "    }\n",
       "\n",
       "    .dataframe thead th {\n",
       "        text-align: right;\n",
       "    }\n",
       "</style>\n",
       "<table border=\"1\" class=\"dataframe\">\n",
       "  <thead>\n",
       "    <tr style=\"text-align: right;\">\n",
       "      <th></th>\n",
       "      <th>scores</th>\n",
       "      <th>names</th>\n",
       "      <th>logfoldchanges</th>\n",
       "      <th>pvals</th>\n",
       "      <th>pvals_adj</th>\n",
       "    </tr>\n",
       "  </thead>\n",
       "  <tbody>\n",
       "    <tr>\n",
       "      <th>32</th>\n",
       "      <td>17.463860</td>\n",
       "      <td>IL4I1</td>\n",
       "      <td>2.076467</td>\n",
       "      <td>2.700424e-68</td>\n",
       "      <td>8.461327e-66</td>\n",
       "    </tr>\n",
       "    <tr>\n",
       "      <th>167</th>\n",
       "      <td>10.340821</td>\n",
       "      <td>IL1RN</td>\n",
       "      <td>1.621286</td>\n",
       "      <td>4.605715e-25</td>\n",
       "      <td>2.606311e-23</td>\n",
       "    </tr>\n",
       "    <tr>\n",
       "      <th>791</th>\n",
       "      <td>4.473975</td>\n",
       "      <td>IL3RA</td>\n",
       "      <td>1.723013</td>\n",
       "      <td>7.677859e-06</td>\n",
       "      <td>9.345998e-05</td>\n",
       "    </tr>\n",
       "    <tr>\n",
       "      <th>1717</th>\n",
       "      <td>2.818334</td>\n",
       "      <td>IL7R</td>\n",
       "      <td>0.411548</td>\n",
       "      <td>4.827351e-03</td>\n",
       "      <td>3.008426e-02</td>\n",
       "    </tr>\n",
       "    <tr>\n",
       "      <th>5008</th>\n",
       "      <td>0.867838</td>\n",
       "      <td>IL17RB</td>\n",
       "      <td>2.888971</td>\n",
       "      <td>3.854829e-01</td>\n",
       "      <td>9.165865e-01</td>\n",
       "    </tr>\n",
       "    <tr>\n",
       "      <th>5191</th>\n",
       "      <td>0.803769</td>\n",
       "      <td>IL1R1</td>\n",
       "      <td>0.094954</td>\n",
       "      <td>4.215302e-01</td>\n",
       "      <td>9.676151e-01</td>\n",
       "    </tr>\n",
       "    <tr>\n",
       "      <th>6827</th>\n",
       "      <td>0.394679</td>\n",
       "      <td>IL1R2</td>\n",
       "      <td>-0.074245</td>\n",
       "      <td>6.930795e-01</td>\n",
       "      <td>1.000000e+00</td>\n",
       "    </tr>\n",
       "    <tr>\n",
       "      <th>7361</th>\n",
       "      <td>0.292910</td>\n",
       "      <td>IL18R1</td>\n",
       "      <td>0.715755</td>\n",
       "      <td>7.695908e-01</td>\n",
       "      <td>1.000000e+00</td>\n",
       "    </tr>\n",
       "    <tr>\n",
       "      <th>7806</th>\n",
       "      <td>0.225662</td>\n",
       "      <td>IL2RB</td>\n",
       "      <td>0.168788</td>\n",
       "      <td>8.214646e-01</td>\n",
       "      <td>1.000000e+00</td>\n",
       "    </tr>\n",
       "    <tr>\n",
       "      <th>10373</th>\n",
       "      <td>0.021108</td>\n",
       "      <td>IL1RL1</td>\n",
       "      <td>0.573965</td>\n",
       "      <td>9.831593e-01</td>\n",
       "      <td>1.000000e+00</td>\n",
       "    </tr>\n",
       "    <tr>\n",
       "      <th>10523</th>\n",
       "      <td>0.012009</td>\n",
       "      <td>IL18RAP</td>\n",
       "      <td>-0.588867</td>\n",
       "      <td>9.904187e-01</td>\n",
       "      <td>1.000000e+00</td>\n",
       "    </tr>\n",
       "    <tr>\n",
       "      <th>11614</th>\n",
       "      <td>-0.025979</td>\n",
       "      <td>IL12RB2</td>\n",
       "      <td>-0.246831</td>\n",
       "      <td>9.792738e-01</td>\n",
       "      <td>1.000000e+00</td>\n",
       "    </tr>\n",
       "    <tr>\n",
       "      <th>12174</th>\n",
       "      <td>-0.045024</td>\n",
       "      <td>IL32</td>\n",
       "      <td>-0.305870</td>\n",
       "      <td>9.640881e-01</td>\n",
       "      <td>1.000000e+00</td>\n",
       "    </tr>\n",
       "    <tr>\n",
       "      <th>12316</th>\n",
       "      <td>-0.047950</td>\n",
       "      <td>IL23R</td>\n",
       "      <td>-19.717974</td>\n",
       "      <td>9.617560e-01</td>\n",
       "      <td>1.000000e+00</td>\n",
       "    </tr>\n",
       "    <tr>\n",
       "      <th>13276</th>\n",
       "      <td>-0.140755</td>\n",
       "      <td>IL31RA</td>\n",
       "      <td>-0.645869</td>\n",
       "      <td>8.880633e-01</td>\n",
       "      <td>1.000000e+00</td>\n",
       "    </tr>\n",
       "    <tr>\n",
       "      <th>13974</th>\n",
       "      <td>-0.335296</td>\n",
       "      <td>IL33</td>\n",
       "      <td>-3.629008</td>\n",
       "      <td>7.374020e-01</td>\n",
       "      <td>1.000000e+00</td>\n",
       "    </tr>\n",
       "    <tr>\n",
       "      <th>15445</th>\n",
       "      <td>-1.695490</td>\n",
       "      <td>IL10</td>\n",
       "      <td>-0.976378</td>\n",
       "      <td>8.998260e-02</td>\n",
       "      <td>3.333711e-01</td>\n",
       "    </tr>\n",
       "    <tr>\n",
       "      <th>15860</th>\n",
       "      <td>-2.626162</td>\n",
       "      <td>IL8</td>\n",
       "      <td>-0.254973</td>\n",
       "      <td>8.635377e-03</td>\n",
       "      <td>4.981608e-02</td>\n",
       "    </tr>\n",
       "    <tr>\n",
       "      <th>16056</th>\n",
       "      <td>-3.261065</td>\n",
       "      <td>IL1A</td>\n",
       "      <td>-2.531530</td>\n",
       "      <td>1.109944e-03</td>\n",
       "      <td>8.482500e-03</td>\n",
       "    </tr>\n",
       "    <tr>\n",
       "      <th>16415</th>\n",
       "      <td>-5.001308</td>\n",
       "      <td>IL2RA</td>\n",
       "      <td>-1.947128</td>\n",
       "      <td>5.694254e-07</td>\n",
       "      <td>8.356182e-06</td>\n",
       "    </tr>\n",
       "    <tr>\n",
       "      <th>16626</th>\n",
       "      <td>-7.227750</td>\n",
       "      <td>IL16</td>\n",
       "      <td>-1.014578</td>\n",
       "      <td>4.910600e-13</td>\n",
       "      <td>1.342284e-11</td>\n",
       "    </tr>\n",
       "    <tr>\n",
       "      <th>16864</th>\n",
       "      <td>-13.886560</td>\n",
       "      <td>IL1B</td>\n",
       "      <td>-2.306533</td>\n",
       "      <td>7.641791e-44</td>\n",
       "      <td>9.649187e-42</td>\n",
       "    </tr>\n",
       "  </tbody>\n",
       "</table>\n",
       "</div>"
      ],
      "text/plain": [
       "          scores    names  logfoldchanges         pvals     pvals_adj\n",
       "32     17.463860    IL4I1        2.076467  2.700424e-68  8.461327e-66\n",
       "167    10.340821    IL1RN        1.621286  4.605715e-25  2.606311e-23\n",
       "791     4.473975    IL3RA        1.723013  7.677859e-06  9.345998e-05\n",
       "1717    2.818334     IL7R        0.411548  4.827351e-03  3.008426e-02\n",
       "5008    0.867838   IL17RB        2.888971  3.854829e-01  9.165865e-01\n",
       "5191    0.803769    IL1R1        0.094954  4.215302e-01  9.676151e-01\n",
       "6827    0.394679    IL1R2       -0.074245  6.930795e-01  1.000000e+00\n",
       "7361    0.292910   IL18R1        0.715755  7.695908e-01  1.000000e+00\n",
       "7806    0.225662    IL2RB        0.168788  8.214646e-01  1.000000e+00\n",
       "10373   0.021108   IL1RL1        0.573965  9.831593e-01  1.000000e+00\n",
       "10523   0.012009  IL18RAP       -0.588867  9.904187e-01  1.000000e+00\n",
       "11614  -0.025979  IL12RB2       -0.246831  9.792738e-01  1.000000e+00\n",
       "12174  -0.045024     IL32       -0.305870  9.640881e-01  1.000000e+00\n",
       "12316  -0.047950    IL23R      -19.717974  9.617560e-01  1.000000e+00\n",
       "13276  -0.140755   IL31RA       -0.645869  8.880633e-01  1.000000e+00\n",
       "13974  -0.335296     IL33       -3.629008  7.374020e-01  1.000000e+00\n",
       "15445  -1.695490     IL10       -0.976378  8.998260e-02  3.333711e-01\n",
       "15860  -2.626162      IL8       -0.254973  8.635377e-03  4.981608e-02\n",
       "16056  -3.261065     IL1A       -2.531530  1.109944e-03  8.482500e-03\n",
       "16415  -5.001308    IL2RA       -1.947128  5.694254e-07  8.356182e-06\n",
       "16626  -7.227750     IL16       -1.014578  4.910600e-13  1.342284e-11\n",
       "16864 -13.886560     IL1B       -2.306533  7.641791e-44  9.649187e-42"
      ]
     },
     "execution_count": 55,
     "metadata": {},
     "output_type": "execute_result"
    }
   ],
   "source": [
    "spp1_DE_genes.loc[np.isin(spp1_DE_genes.names.values,il_genes),:]"
   ]
  },
  {
   "cell_type": "markdown",
   "id": "2a5c324e",
   "metadata": {},
   "source": [
    "Plotting IL4I expression"
   ]
  },
  {
   "cell_type": "code",
   "execution_count": 224,
   "id": "2e0b73a7-cfd0-445f-932c-21b8db8ea767",
   "metadata": {},
   "outputs": [
    {
     "name": "stdout",
     "output_type": "stream",
     "text": [
      "WARNING: saving figure to file figures/violin_il4I1_expression_by_macrophage.pdf\n"
     ]
    },
    {
     "name": "stderr",
     "output_type": "stream",
     "text": [
      "/opt/miniconda3/envs/drug_opt/lib/python3.7/site-packages/seaborn/_decorators.py:43: FutureWarning: Pass the following variable as a keyword arg: x. From version 0.12, the only valid positional argument will be `data`, and passing other arguments without an explicit keyword will result in an error or misinterpretation.\n",
      "  FutureWarning\n",
      "/opt/miniconda3/envs/drug_opt/lib/python3.7/site-packages/seaborn/_decorators.py:43: FutureWarning: Pass the following variable as a keyword arg: x. From version 0.12, the only valid positional argument will be `data`, and passing other arguments without an explicit keyword will result in an error or misinterpretation.\n",
      "  FutureWarning\n"
     ]
    },
    {
     "data": {
      "image/png": "[encoded data removed]",
      "text/plain": [
       "<Figure size 538.128x288 with 1 Axes>"
      ]
     },
     "metadata": {
      "needs_background": "light"
     },
     "output_type": "display_data"
    }
   ],
   "source": [
    "sc.pl.violin(macrophages,'IL4I1',groupby=\"subtype\",save=\"_il4I1_expression_by_macrophage.pdf\")"
   ]
  }
 ],
 "metadata": {
  "kernelspec": {
   "display_name": "Python 3.7.3 64-bit",
   "language": "python",
   "name": "python3"
  },
  "language_info": {
   "codemirror_mode": {
    "name": "ipython",
    "version": 3
   },
   "file_extension": ".py",
   "mimetype": "text/x-python",
   "name": "python",
   "nbconvert_exporter": "python",
   "pygments_lexer": "ipython3",
   "version": "3.7.3"
  },
  "vscode": {
   "interpreter": {
    "hash": "31f2aee4e71d21fbe5cf8b01ff0e069b9275f58929596ceb00d14d90e3e16cd6"
   }
  }
 },
 "nbformat": 4,
 "nbformat_minor": 5
}
