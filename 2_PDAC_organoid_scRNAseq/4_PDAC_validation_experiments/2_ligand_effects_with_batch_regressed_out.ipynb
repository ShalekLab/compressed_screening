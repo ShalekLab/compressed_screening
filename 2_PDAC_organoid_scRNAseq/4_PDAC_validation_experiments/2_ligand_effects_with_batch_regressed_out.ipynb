{
 "cells": [
  {
   "cell_type": "markdown",
   "metadata": {
    "vscode": {
     "languageId": "r"
    }
   },
   "source": [
    "# Identifying ligand effects in PDAC validation with batch effects regressed out\n",
    "#### _CK 2022_\n",
    "\n",
    "### What this does:\n",
    "- run_module_lm_by_ligand_and_day: function to identify ligand effects on cNMF modules with batch effects regressed out\n",
    "- Runs on all single-ligands for the validation cNMF modules and saves results in a csv file"
   ]
  },
  {
   "cell_type": "code",
   "execution_count": null,
   "metadata": {
    "vscode": {
     "languageId": "r"
    }
   },
   "outputs": [],
   "source": [
    "library(mltools)\n",
    "library(data.table)\n",
    "library(Seurat)\n",
    "library(tidyverse)\n",
    "library(SeuratDisk)"
   ]
  },
  {
   "cell_type": "code",
   "execution_count": null,
   "metadata": {
    "vscode": {
     "languageId": "r"
    }
   },
   "outputs": [],
   "source": [
    "# Function to assess validation ligand effects while regressing out the effect batch\n",
    "\n",
    "run_module_lm_by_ligand_and_day = function(sobj_meta, cols_to_predict,threshold){\n",
    "  design_matrix = one_hot(as.data.table(data.frame(as.factor(sobj_meta$sample))))\n",
    "  colnames(design_matrix) = gsub(\"as.factor.sobj_meta.sample._\",\"\",colnames(design_matrix))\n",
    "  design_matrix = design_matrix %>% select(-Control)\n",
    "  \n",
    "  \n",
    "  days = one_hot(as.data.table(data.frame(as.factor(sobj_meta$day))))\n",
    "  colnames(days) = gsub(\"as.factor.sobj_meta.day._\",\"\",colnames(days))\n",
    "  # will remove the cs column since everythign needs to be relative to something\n",
    "  days = days %>% select(-cs)\n",
    "  design_matrix = cbind(design_matrix, days)\n",
    "  \n",
    "  \n",
    "  # initial matrix of 0s with covariates as rows and prediction variables as columns\n",
    "  coefs = matrix(0,nrow = ncol(design_matrix)+1,ncol=length(cols_to_predict))\n",
    "  pvals = matrix(0,nrow = ncol(design_matrix)+1,ncol=length(cols_to_predict))\n",
    "  for(j in 1:length(cols_to_predict)){\n",
    "    data = cbind(sobj_meta[,cols_to_predict[j]],design_matrix)\n",
    "    colnames(data)[1] = \"y\"\n",
    "    model = lm(y ~ . , data=data)\n",
    "    x = summary(model)\n",
    "    df_coefs = data.frame(x$coefficients)\n",
    "    coefs[,j] = df_coefs$Estimate\n",
    "    pvals[,j] = df_coefs$Pr...t..\n",
    "  }\n",
    "  \n",
    "  \n",
    "  \n",
    "  coefs = data.frame(coefs)\n",
    "  colnames(coefs) = cols_to_predict\n",
    "  coefs = cbind(rownames(df_coefs),coefs)\n",
    "  colnames(coefs)[1] = \"ligand\"\n",
    "  coefs = as_tibble(coefs)\n",
    "  \n",
    "  pvals = data.frame(pvals)\n",
    "  colnames(pvals) = cols_to_predict\n",
    "  pvals = cbind(rownames(df_coefs),pvals)\n",
    "  colnames(pvals)[1] = \"ligand\"\n",
    "  pvals = as_tibble(pvals)\n",
    "  \n",
    "  ligand = pvals$ligand\n",
    "  adjusted_pvals = pvals[,2:ncol(pvals)]\n",
    "  for(i in 1:nrow(pvals)){\n",
    "    adjusted_pvals[i,] = as.list(p.adjust(adjusted_pvals[i,],method=\"bonferroni\"))\n",
    "  }\n",
    "  adjusted_pvals = cbind(ligand,adjusted_pvals)\n",
    "  \n",
    "  sig_coefs = coefs\n",
    "  threshold = 0.001\n",
    "  for(i in 1:nrow(coefs)){\n",
    "    for(j in 2:ncol(coefs)){\n",
    "      if(adjusted_pvals[i,j]> threshold){\n",
    "        sig_coefs[i,j] = 0\n",
    "      }\n",
    "    }\n",
    "  }\n",
    "  return(list(coefs=coefs,pvals=pvals,adjusted_pvals=adjusted_pvals,sig_coefs=sig_coefs))\n",
    "}\n",
    "\n"
   ]
  },
  {
   "cell_type": "markdown",
   "metadata": {},
   "source": [
    "Identifying ligand effects while regressing out batch in the validation dataset"
   ]
  },
  {
   "cell_type": "code",
   "execution_count": null,
   "metadata": {
    "vscode": {
     "languageId": "r"
    }
   },
   "outputs": [],
   "source": [
    "k = 26\n",
    "timepoint= 7\n",
    "sobj_meta = read.csv(paste0(\"single_ligand_meta_and_cNMF_usages_k\",k,\".csv\"))\n",
    "sobj_meta = sobj_meta %>% filter(time==timepoint)\n",
    "rownames(sobj_meta) = sobj_meta$X\n",
    "sobj_meta = sobj_meta[,-1]\n",
    "cols_to_predict = paste0(\"GEP_Module_\",1:k)\n",
    "\n",
    "cnmf_reg_results = run_module_lm_by_ligand_and_day(sobj_meta,cols_to_predict,1e-5)\n",
    "cnmf_coefs = cnmf_reg_results$sig_coefs\n",
    "\n",
    "saveRDS(cnmf_reg_results,paste0(\"cnmf_regression_results_d\",timepoint,\"_k\",k,\".rds\"))\n",
    "write.csv(cnmf_coefs,paste0(\"cnmf_linear_model_coeficients_d\",timepoint,\"_k\",k,\".csv\"))"
   ]
  }
 ],
 "metadata": {
  "kernelspec": {
   "display_name": "R",
   "language": "R",
   "name": "ir"
  },
  "language_info": {
   "name": "R"
  },
  "orig_nbformat": 4
 },
 "nbformat": 4,
 "nbformat_minor": 2
}
