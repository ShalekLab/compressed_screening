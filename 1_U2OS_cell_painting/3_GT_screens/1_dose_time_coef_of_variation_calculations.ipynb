{
 "cells": [
  {
   "cell_type": "markdown",
   "metadata": {},
   "source": [
    "# Comp Screening - cell painting GT (dose time) analysis\n",
    "## FOR COMPLTETE (datalock) cell painting dataset\n",
    "#### CK, BEM 1-19-2022_\n",
    "\n",
    "### What this does:\n",
    "- Analysis of the 2 replicates 3 doses (0.1,1, 10 uM) X 3 time points (6 hours, 24 hours, 48 hours) dataset\n",
    "- For each time point\n",
    "    - calculates the effect of compounds relative to DMSO (measured by Mahalanobis distance\n",
    "    - calcualtes the coeficient of variation of the effects across compounds\n",
    "    - Largest coef of variation at 24 hour timepoint\n",
    "- For each dose in the 24 hour timepoint\n",
    "    - Calcualte coef of variation of mahalanobis distances to access best dose to screen at"
   ]
  },
  {
   "cell_type": "code",
   "execution_count": 1,
   "metadata": {},
   "outputs": [],
   "source": [
    "import os\n",
    "import sys\n",
    "import warnings\n",
    "import random\n",
    "import pandas as pd\n",
    "import numpy as np\n",
    "import scanpy as sc\n",
    "import seaborn as sns\n",
    "import matplotlib.pyplot as plt\n",
    "import matplotlib as mpl\n",
    "import anndata\n",
    "import multiprocess as mp\n",
    "from itertools import repeat\n",
    "from scipy.stats import mode\n",
    "from scipy.stats import fisher_exact\n",
    "from sklearn.metrics import silhouette_samples, silhouette_score, auc\n",
    "from sklearn.covariance import EmpiricalCovariance\n",
    "from statsmodels.stats.weightstats import ttest_ind\n",
    "from statsmodels.stats.multitest import multipletests\n",
    "\n",
    "pd.set_option('mode.chained_assignment', None)\n",
    "data_path = '../1_Data/'\n",
    "\n",
    "plt.rcParams['pdf.fonttype'] = 42\n",
    "plt.rcParams[\"font.family\"] = \"Helvetica\""
   ]
  },
  {
   "cell_type": "markdown",
   "metadata": {},
   "source": [
    "## Define Functions"
   ]
  },
  {
   "cell_type": "markdown",
   "metadata": {},
   "source": [
    "#### Mahalanobis calcs"
   ]
  },
  {
   "cell_type": "code",
   "execution_count": 2,
   "metadata": {
    "jupyter": {
     "source_hidden": true
    },
    "tags": []
   },
   "outputs": [],
   "source": [
    "def mahala_dist(adata, use_rep='X', mahala_cutoff=7, n_sample=int(1e6), assume_centered=False, num_pcs=None):\n",
    "    \"\"\"\n",
    "    Calculates the mahalanobis disance of the pert. avg and provides a standard deviation cutoff based on DMSO null dist\n",
    "    in adata using MCD robust estimator trained on DMSO + avg Pert., stores values as metadata\n",
    "    \"\"\"\n",
    "    \n",
    "    # weight PCs by variance explained\n",
    "    adata.obsm['X_pca_weighted'] = np.multiply(adata.obsm['X_pca'],adata.uns['pca']['variance_ratio'])\n",
    "    adata.obsm['X_pca_harmony_weighted'] = np.multiply(adata.obsm['X_pca_harmony'],adata.uns['pca']['variance_ratio'])\n",
    "    \n",
    "    # select data\n",
    "    adata_DMSO = adata[adata.obs.Metadata_perturbation=='DMSO',:]\n",
    "    adata_pert = adata[~(adata.obs.Metadata_perturbation=='DMSO'),:]\n",
    "    \n",
    "    if use_rep == 'X':\n",
    "        X_DMSO = adata_DMSO.X\n",
    "        X_pert = pd.DataFrame(adata_pert.X, \n",
    "                              index=adata_pert.obs['Metadata_perturbation'])\n",
    "\n",
    "    elif use_rep == 'X_pca':\n",
    "        if num_pcs == None:\n",
    "            print('speficy num_pcs')\n",
    "            return\n",
    "        else:\n",
    "            X_DMSO = adata_DMSO.obsm['X_pca_weighted'][:,0:num_pcs]\n",
    "            X_pert = pd.DataFrame(adata_pert.obsm['X_pca_weighted'][:,0:num_pcs], \n",
    "                                  index=adata_pert.obs['Metadata_perturbation'])\n",
    "            \n",
    "    elif use_rep == 'X_pca_harmony':\n",
    "        if num_pcs == None:\n",
    "            print('speficy num_pcs')\n",
    "            return\n",
    "        else:\n",
    "            X_DMSO = adata_DMSO.obsm['X_pca_harmony_weighted'][:,0:num_pcs]\n",
    "            X_pert = pd.DataFrame(adata_pert.obsm['X_pca_harmony_weighted'][:,0:num_pcs], \n",
    "                                  index=adata_pert.obs['Metadata_perturbation'])\n",
    "    \n",
    "    else:\n",
    "        print('use_rep is not valid option')\n",
    "        return\n",
    "    \n",
    "    # average by perturbation\n",
    "    X_avg_pert = X_pert.groupby('Metadata_perturbation').mean()\n",
    "\n",
    "    # fit covariance estimator to control + avg. pert. sample\n",
    "    cov = EmpiricalCovariance(assume_centered=assume_centered).fit(X_DMSO)\n",
    "    \n",
    "    # calclute perturbation mahalanois distances\n",
    "    if assume_centered:\n",
    "        pert_mahal = np.sqrt(cov.mahalanobis(X_avg_pert))\n",
    "    else:\n",
    "        pert_mahal = np.sqrt(cov.mahalanobis(X_avg_pert-cov.location_))\n",
    "    \n",
    "    # sample DMSO null distribution\n",
    "    n_rep = mode(X_pert.iloc[:,0].groupby('Metadata_perturbation').count()).mode[0]\n",
    "    n_DMSO = len(X_DMSO)\n",
    "    DMSO_null = np.mean(X_DMSO[np.random.randint(0,n_DMSO,size=(n_sample,n_rep))], axis=1)\n",
    "    \n",
    "    #calc DMSO null mahalanobis\n",
    "    if assume_centered:\n",
    "        DMSO_mahal = np.sqrt(cov.mahalanobis(DMSO_null))\n",
    "    else:\n",
    "        DMSO_mahal = np.sqrt(cov.mahalanobis(DMSO_null-cov.location_))\n",
    "            \n",
    "    # build pert table\n",
    "    # get cutoff based on multiples of DMSO stdev\n",
    "    mahala_cutoff = (mahala_cutoff*np.std(DMSO_mahal))+np.mean(DMSO_mahal)\n",
    "    \n",
    "    mahala_table = pd.DataFrame(pert_mahal, \n",
    "                                index=X_avg_pert.index,\n",
    "                                columns=['mahalanobis'])\n",
    "    mahala_table['signif_mahala'] = (pert_mahal > mahala_cutoff)\n",
    "    mahala_table.reset_index(inplace=True)\n",
    "    \n",
    "    # add back to adata\n",
    "    merge_table = pd.DataFrame(adata.obs.Metadata_perturbation).merge(mahala_table, \n",
    "                                                                      on='Metadata_perturbation', \n",
    "                                                                      how='left')\n",
    "    merge_table = merge_table.set_index('Metadata_perturbation').reset_index(drop=True)\n",
    "    \n",
    "\n",
    "    adata.obs['mahalanobis'] = merge_table.mahalanobis.values\n",
    "    adata.obs['signif_mahala'] = merge_table.signif_mahala.values\n",
    "    \n",
    "    # make mahala table for plotting    \n",
    "    dmso_table = pd.DataFrame(np.random.choice(DMSO_mahal, size=n_DMSO*2, replace=False),\n",
    "                              columns=['mahalanobis'])\n",
    "    dmso_table['Metadata_perturbation'] = 'DMSO'\n",
    "    dmso_table['signif_mahala'] = 'DMSO'\n",
    "    \n",
    "    mahala_table = pd.concat([mahala_table, dmso_table])\n",
    "    \n",
    "    return adata, mahala_table"
   ]
  },
  {
   "cell_type": "markdown",
   "metadata": {},
   "source": [
    "## Analysis"
   ]
  },
  {
   "cell_type": "markdown",
   "metadata": {},
   "source": [
    "### Load in anndata"
   ]
  },
  {
   "cell_type": "code",
   "execution_count": 3,
   "metadata": {},
   "outputs": [
    {
     "name": "stderr",
     "output_type": "stream",
     "text": [
      "/opt/miniconda3/envs/drug_opt/lib/python3.7/site-packages/anndata/_core/anndata.py:119: ImplicitModificationWarning: Transforming to str index.\n",
      "  warnings.warn(\"Transforming to str index.\", ImplicitModificationWarning)\n"
     ]
    }
   ],
   "source": [
    "# PCA harmony data\n",
    "DT = anndata.read_h5ad(data_path+'09272021_PCH_rd_DT_table.h5ad')\n",
    "\n",
    "# filter to only ground truth data of 316 compounds\n",
    "DT = DT[~DT.obs.Metadata_perturbation.isin(['Auranofin', 'Bortezomib', 'Paclitaxel (Taxol)', 'Vincristine Sulfate']),:]\n",
    "DT = DT[DT.obs.Metadata_run.isin(['GT_run1_batch1', 'GT_run1_batch2']),:]"
   ]
  },
  {
   "cell_type": "markdown",
   "metadata": {},
   "source": [
    "### Determine num_PCs, neighbors, UMAP"
   ]
  },
  {
   "cell_type": "code",
   "execution_count": 4,
   "metadata": {},
   "outputs": [
    {
     "name": "stderr",
     "output_type": "stream",
     "text": [
      "2022-05-25 08:46:43,739 - harmonypy - INFO - Iteration 1 of 25\n",
      "2022-05-25 08:46:45,152 - harmonypy - INFO - Iteration 2 of 25\n",
      "2022-05-25 08:46:46,566 - harmonypy - INFO - Iteration 3 of 25\n",
      "2022-05-25 08:46:47,894 - harmonypy - INFO - Iteration 4 of 25\n",
      "2022-05-25 08:46:49,286 - harmonypy - INFO - Iteration 5 of 25\n",
      "2022-05-25 08:46:50,843 - harmonypy - INFO - Iteration 6 of 25\n",
      "2022-05-25 08:46:52,351 - harmonypy - INFO - Iteration 7 of 25\n",
      "2022-05-25 08:46:53,877 - harmonypy - INFO - Iteration 8 of 25\n",
      "2022-05-25 08:46:55,587 - harmonypy - INFO - Iteration 9 of 25\n",
      "2022-05-25 08:46:57,299 - harmonypy - INFO - Iteration 10 of 25\n",
      "2022-05-25 08:46:58,848 - harmonypy - INFO - Iteration 11 of 25\n",
      "2022-05-25 08:47:00,408 - harmonypy - INFO - Iteration 12 of 25\n",
      "2022-05-25 08:47:02,018 - harmonypy - INFO - Converged after 12 iterations\n"
     ]
    },
    {
     "data": {
      "image/png": "[encoded data removed]",
      "text/plain": [
       "<Figure size 432x288 with 1 Axes>"
      ]
     },
     "metadata": {
      "needs_background": "light"
     },
     "output_type": "display_data"
    },
    {
     "name": "stdout",
     "output_type": "stream",
     "text": [
      "90% of variance explained by 20 PCs\n"
     ]
    }
   ],
   "source": [
    "# recalc PC's for dataset\n",
    "sc.pp.pca(DT)\n",
    "\n",
    "sc.external.pp.harmony_integrate(DT, 'Metadata_run', max_iter_harmony = 25)\n",
    "\n",
    "# get num of PCs to use (up to 90% var explained)\n",
    "sc.pl.pca_variance_ratio(DT, n_pcs = 50, log=False)\n",
    "num_pcs = sum(np.cumsum(DT.uns['pca']['variance_ratio']) < 0.9)+1\n",
    "\n",
    "print('90% of variance explained by '+str(num_pcs)+' PCs')"
   ]
  },
  {
   "cell_type": "markdown",
   "metadata": {},
   "source": [
    "### Determine Signif Pertrubs by Mahalnobis Dist"
   ]
  },
  {
   "cell_type": "code",
   "execution_count": 5,
   "metadata": {},
   "outputs": [],
   "source": [
    "DT.obs['Metadata_time_conc'] = DT.obs.Metadata_time_hr.map(str)+\"_\"+DT.obs.Metadata_conc_uM.map(str)"
   ]
  },
  {
   "cell_type": "code",
   "execution_count": 6,
   "metadata": {
    "collapsed": true,
    "jupyter": {
     "outputs_hidden": true
    },
    "tags": []
   },
   "outputs": [
    {
     "name": "stderr",
     "output_type": "stream",
     "text": [
      "/opt/miniconda3/envs/drug_opt/lib/python3.7/site-packages/ipykernel_launcher.py:91: FutureWarning: Sorting because non-concatenation axis is not aligned. A future version\n",
      "of pandas will change to not sort by default.\n",
      "\n",
      "To accept the future behavior, pass 'sort=False'.\n",
      "\n",
      "To retain the current behavior and silence the warning, pass 'sort=True'.\n",
      "\n",
      "/opt/miniconda3/envs/drug_opt/lib/python3.7/site-packages/ipykernel_launcher.py:91: FutureWarning: Sorting because non-concatenation axis is not aligned. A future version\n",
      "of pandas will change to not sort by default.\n",
      "\n",
      "To accept the future behavior, pass 'sort=False'.\n",
      "\n",
      "To retain the current behavior and silence the warning, pass 'sort=True'.\n",
      "\n",
      "/opt/miniconda3/envs/drug_opt/lib/python3.7/site-packages/ipykernel_launcher.py:91: FutureWarning: Sorting because non-concatenation axis is not aligned. A future version\n",
      "of pandas will change to not sort by default.\n",
      "\n",
      "To accept the future behavior, pass 'sort=False'.\n",
      "\n",
      "To retain the current behavior and silence the warning, pass 'sort=True'.\n",
      "\n",
      "/opt/miniconda3/envs/drug_opt/lib/python3.7/site-packages/ipykernel_launcher.py:91: FutureWarning: Sorting because non-concatenation axis is not aligned. A future version\n",
      "of pandas will change to not sort by default.\n",
      "\n",
      "To accept the future behavior, pass 'sort=False'.\n",
      "\n",
      "To retain the current behavior and silence the warning, pass 'sort=True'.\n",
      "\n",
      "/opt/miniconda3/envs/drug_opt/lib/python3.7/site-packages/ipykernel_launcher.py:91: FutureWarning: Sorting because non-concatenation axis is not aligned. A future version\n",
      "of pandas will change to not sort by default.\n",
      "\n",
      "To accept the future behavior, pass 'sort=False'.\n",
      "\n",
      "To retain the current behavior and silence the warning, pass 'sort=True'.\n",
      "\n",
      "/opt/miniconda3/envs/drug_opt/lib/python3.7/site-packages/ipykernel_launcher.py:91: FutureWarning: Sorting because non-concatenation axis is not aligned. A future version\n",
      "of pandas will change to not sort by default.\n",
      "\n",
      "To accept the future behavior, pass 'sort=False'.\n",
      "\n",
      "To retain the current behavior and silence the warning, pass 'sort=True'.\n",
      "\n",
      "/opt/miniconda3/envs/drug_opt/lib/python3.7/site-packages/ipykernel_launcher.py:91: FutureWarning: Sorting because non-concatenation axis is not aligned. A future version\n",
      "of pandas will change to not sort by default.\n",
      "\n",
      "To accept the future behavior, pass 'sort=False'.\n",
      "\n",
      "To retain the current behavior and silence the warning, pass 'sort=True'.\n",
      "\n",
      "/opt/miniconda3/envs/drug_opt/lib/python3.7/site-packages/ipykernel_launcher.py:91: FutureWarning: Sorting because non-concatenation axis is not aligned. A future version\n",
      "of pandas will change to not sort by default.\n",
      "\n",
      "To accept the future behavior, pass 'sort=False'.\n",
      "\n",
      "To retain the current behavior and silence the warning, pass 'sort=True'.\n",
      "\n",
      "/opt/miniconda3/envs/drug_opt/lib/python3.7/site-packages/ipykernel_launcher.py:91: FutureWarning: Sorting because non-concatenation axis is not aligned. A future version\n",
      "of pandas will change to not sort by default.\n",
      "\n",
      "To accept the future behavior, pass 'sort=False'.\n",
      "\n",
      "To retain the current behavior and silence the warning, pass 'sort=True'.\n",
      "\n"
     ]
    }
   ],
   "source": [
    "mahala_table = pd.DataFrame()\n",
    "\n",
    "for tc in list(set(DT.obs.Metadata_time_conc)):\n",
    "    \n",
    "    DT_tc = DT[DT.obs.Metadata_time_conc == tc,:]\n",
    "    mahala_table_tc = mahala_dist(DT_tc, mahala_cutoff=2,\n",
    "                                  use_rep='X_pca_harmony',\n",
    "                                  num_pcs=num_pcs)[1]\n",
    "    \n",
    "    mahala_table_tc['dose']= list(set(DT_tc.obs.Metadata_conc_uM))[0]\n",
    "    mahala_table_tc['time']= list(set(DT_tc.obs.Metadata_time_hr))[0]\n",
    "    \n",
    "    mahala_table = pd.concat([mahala_table, mahala_table_tc])"
   ]
  },
  {
   "cell_type": "code",
   "execution_count": 7,
   "metadata": {},
   "outputs": [
    {
     "data": {
      "text/html": [
       "<div>\n",
       "<style scoped>\n",
       "    .dataframe tbody tr th:only-of-type {\n",
       "        vertical-align: middle;\n",
       "    }\n",
       "\n",
       "    .dataframe tbody tr th {\n",
       "        vertical-align: top;\n",
       "    }\n",
       "\n",
       "    .dataframe thead th {\n",
       "        text-align: right;\n",
       "    }\n",
       "</style>\n",
       "<table border=\"1\" class=\"dataframe\">\n",
       "  <thead>\n",
       "    <tr style=\"text-align: right;\">\n",
       "      <th></th>\n",
       "      <th>Metadata_perturbation</th>\n",
       "      <th>mahalanobis</th>\n",
       "      <th>signif_mahala</th>\n",
       "      <th>dose</th>\n",
       "      <th>time</th>\n",
       "    </tr>\n",
       "  </thead>\n",
       "  <tbody>\n",
       "    <tr>\n",
       "      <th>0</th>\n",
       "      <td>4-Aminosalicylic Acid</td>\n",
       "      <td>21.376626</td>\n",
       "      <td>True</td>\n",
       "      <td>10.0</td>\n",
       "      <td>24</td>\n",
       "    </tr>\n",
       "    <tr>\n",
       "      <th>1</th>\n",
       "      <td>(S)-Timolol Maleate</td>\n",
       "      <td>8.811748</td>\n",
       "      <td>False</td>\n",
       "      <td>10.0</td>\n",
       "      <td>24</td>\n",
       "    </tr>\n",
       "    <tr>\n",
       "      <th>2</th>\n",
       "      <td>(±) Isoproterenol</td>\n",
       "      <td>10.902448</td>\n",
       "      <td>True</td>\n",
       "      <td>10.0</td>\n",
       "      <td>24</td>\n",
       "    </tr>\n",
       "    <tr>\n",
       "      <th>3</th>\n",
       "      <td>(±)-Atenolol</td>\n",
       "      <td>13.430576</td>\n",
       "      <td>True</td>\n",
       "      <td>10.0</td>\n",
       "      <td>24</td>\n",
       "    </tr>\n",
       "    <tr>\n",
       "      <th>4</th>\n",
       "      <td>Acetylcholine Chloride</td>\n",
       "      <td>11.761060</td>\n",
       "      <td>True</td>\n",
       "      <td>10.0</td>\n",
       "      <td>24</td>\n",
       "    </tr>\n",
       "    <tr>\n",
       "      <th>...</th>\n",
       "      <td>...</td>\n",
       "      <td>...</td>\n",
       "      <td>...</td>\n",
       "      <td>...</td>\n",
       "      <td>...</td>\n",
       "    </tr>\n",
       "    <tr>\n",
       "      <th>123</th>\n",
       "      <td>DMSO</td>\n",
       "      <td>4.306024</td>\n",
       "      <td>DMSO</td>\n",
       "      <td>1.0</td>\n",
       "      <td>6</td>\n",
       "    </tr>\n",
       "    <tr>\n",
       "      <th>124</th>\n",
       "      <td>DMSO</td>\n",
       "      <td>5.397362</td>\n",
       "      <td>DMSO</td>\n",
       "      <td>1.0</td>\n",
       "      <td>6</td>\n",
       "    </tr>\n",
       "    <tr>\n",
       "      <th>125</th>\n",
       "      <td>DMSO</td>\n",
       "      <td>4.687648</td>\n",
       "      <td>DMSO</td>\n",
       "      <td>1.0</td>\n",
       "      <td>6</td>\n",
       "    </tr>\n",
       "    <tr>\n",
       "      <th>126</th>\n",
       "      <td>DMSO</td>\n",
       "      <td>4.155460</td>\n",
       "      <td>DMSO</td>\n",
       "      <td>1.0</td>\n",
       "      <td>6</td>\n",
       "    </tr>\n",
       "    <tr>\n",
       "      <th>127</th>\n",
       "      <td>DMSO</td>\n",
       "      <td>5.504122</td>\n",
       "      <td>DMSO</td>\n",
       "      <td>1.0</td>\n",
       "      <td>6</td>\n",
       "    </tr>\n",
       "  </tbody>\n",
       "</table>\n",
       "<p>4184 rows × 5 columns</p>\n",
       "</div>"
      ],
      "text/plain": [
       "      Metadata_perturbation  mahalanobis signif_mahala  dose  time\n",
       "0     4-Aminosalicylic Acid    21.376626          True  10.0    24\n",
       "1       (S)-Timolol Maleate     8.811748         False  10.0    24\n",
       "2         (±) Isoproterenol    10.902448          True  10.0    24\n",
       "3              (±)-Atenolol    13.430576          True  10.0    24\n",
       "4    Acetylcholine Chloride    11.761060          True  10.0    24\n",
       "..                      ...          ...           ...   ...   ...\n",
       "123                    DMSO     4.306024          DMSO   1.0     6\n",
       "124                    DMSO     5.397362          DMSO   1.0     6\n",
       "125                    DMSO     4.687648          DMSO   1.0     6\n",
       "126                    DMSO     4.155460          DMSO   1.0     6\n",
       "127                    DMSO     5.504122          DMSO   1.0     6\n",
       "\n",
       "[4184 rows x 5 columns]"
      ]
     },
     "execution_count": 7,
     "metadata": {},
     "output_type": "execute_result"
    }
   ],
   "source": [
    "mahala_table"
   ]
  },
  {
   "cell_type": "markdown",
   "metadata": {},
   "source": [
    "#### Calculate Area Under Curve (auc) for mahala-dose realtionships @ each time"
   ]
  },
  {
   "cell_type": "code",
   "execution_count": 8,
   "metadata": {},
   "outputs": [],
   "source": [
    "auc_table = mahala_table.sort_values(by=['dose'])\n",
    "\n",
    "auc_DMSO = auc_table.loc[auc_table.Metadata_perturbation=='DMSO',:]\n",
    "auc_DMSO = auc_DMSO.groupby(['time','dose']).mean()\n",
    "\n",
    "auc_table = auc_table.loc[auc_table.Metadata_perturbation!='DMSO',:]\n",
    "mahala_pert_table = auc_table\n",
    "\n",
    "auc_grouped =  auc_table.groupby(['time','Metadata_perturbation'])"
   ]
  },
  {
   "cell_type": "code",
   "execution_count": 16,
   "metadata": {},
   "outputs": [
    {
     "data": {
      "text/plain": [
       "array([ 0.1,  1. , 10. ])"
      ]
     },
     "execution_count": 16,
     "metadata": {},
     "output_type": "execute_result"
    }
   ],
   "source": [
    "xx"
   ]
  },
  {
   "cell_type": "code",
   "execution_count": 17,
   "metadata": {},
   "outputs": [
    {
     "data": {
      "text/plain": [
       "array([ 5.72790723, 10.9997723 , 15.29516069])"
      ]
     },
     "execution_count": 17,
     "metadata": {},
     "output_type": "execute_result"
    }
   ],
   "source": [
    "yy"
   ]
  },
  {
   "cell_type": "code",
   "execution_count": 9,
   "metadata": {},
   "outputs": [],
   "source": [
    "auc_table = list()\n",
    "for t in [6,24,48]:\n",
    "    xx=auc_DMSO.loc[t].index.values\n",
    "    yy=auc_DMSO.loc[t].mahalanobis.values\n",
    "    auc_table.append([t,auc(xx,yy)])\n",
    "\n",
    "auc_DMSO = pd.DataFrame(auc_table)\n",
    "auc_DMSO.columns = ['time', 'auc']\n",
    "auc_DMSO['log_auc'] = np.log10(auc_DMSO.auc)"
   ]
  },
  {
   "cell_type": "code",
   "execution_count": 10,
   "metadata": {},
   "outputs": [
    {
     "data": {
      "text/html": [
       "<div>\n",
       "<style scoped>\n",
       "    .dataframe tbody tr th:only-of-type {\n",
       "        vertical-align: middle;\n",
       "    }\n",
       "\n",
       "    .dataframe tbody tr th {\n",
       "        vertical-align: top;\n",
       "    }\n",
       "\n",
       "    .dataframe thead th {\n",
       "        text-align: right;\n",
       "    }\n",
       "</style>\n",
       "<table border=\"1\" class=\"dataframe\">\n",
       "  <thead>\n",
       "    <tr style=\"text-align: right;\">\n",
       "      <th></th>\n",
       "      <th>time</th>\n",
       "      <th>auc</th>\n",
       "      <th>log_auc</th>\n",
       "    </tr>\n",
       "  </thead>\n",
       "  <tbody>\n",
       "    <tr>\n",
       "      <th>0</th>\n",
       "      <td>6</td>\n",
       "      <td>49.493291</td>\n",
       "      <td>1.694546</td>\n",
       "    </tr>\n",
       "    <tr>\n",
       "      <th>1</th>\n",
       "      <td>24</td>\n",
       "      <td>62.285939</td>\n",
       "      <td>1.794390</td>\n",
       "    </tr>\n",
       "    <tr>\n",
       "      <th>2</th>\n",
       "      <td>48</td>\n",
       "      <td>68.559480</td>\n",
       "      <td>1.836068</td>\n",
       "    </tr>\n",
       "  </tbody>\n",
       "</table>\n",
       "</div>"
      ],
      "text/plain": [
       "   time        auc   log_auc\n",
       "0     6  49.493291  1.694546\n",
       "1    24  62.285939  1.794390\n",
       "2    48  68.559480  1.836068"
      ]
     },
     "execution_count": 10,
     "metadata": {},
     "output_type": "execute_result"
    }
   ],
   "source": [
    "auc_DMSO"
   ]
  },
  {
   "cell_type": "code",
   "execution_count": 11,
   "metadata": {},
   "outputs": [],
   "source": [
    "auc_table = list()\n",
    "for name, group in auc_grouped:\n",
    "    if len(group)==3:\n",
    "        xx=group.dose.values \n",
    "        yy=group.mahalanobis.values\n",
    "        auc_table.append([name[0],name[1],auc(xx,yy)])"
   ]
  },
  {
   "cell_type": "code",
   "execution_count": 12,
   "metadata": {},
   "outputs": [],
   "source": [
    "auc_table = pd.DataFrame(auc_table)\n",
    "auc_table.columns = ['time', 'perturbation', 'auc']"
   ]
  },
  {
   "cell_type": "code",
   "execution_count": 13,
   "metadata": {},
   "outputs": [
    {
     "data": {
      "text/html": [
       "<div>\n",
       "<style scoped>\n",
       "    .dataframe tbody tr th:only-of-type {\n",
       "        vertical-align: middle;\n",
       "    }\n",
       "\n",
       "    .dataframe tbody tr th {\n",
       "        vertical-align: top;\n",
       "    }\n",
       "\n",
       "    .dataframe thead th {\n",
       "        text-align: right;\n",
       "    }\n",
       "</style>\n",
       "<table border=\"1\" class=\"dataframe\">\n",
       "  <thead>\n",
       "    <tr style=\"text-align: right;\">\n",
       "      <th></th>\n",
       "      <th>time</th>\n",
       "      <th>perturbation</th>\n",
       "      <th>auc</th>\n",
       "    </tr>\n",
       "  </thead>\n",
       "  <tbody>\n",
       "    <tr>\n",
       "      <th>0</th>\n",
       "      <td>6</td>\n",
       "      <td>(S)-Timolol Maleate</td>\n",
       "      <td>59.046233</td>\n",
       "    </tr>\n",
       "    <tr>\n",
       "      <th>1</th>\n",
       "      <td>6</td>\n",
       "      <td>(±) Isoproterenol</td>\n",
       "      <td>81.196049</td>\n",
       "    </tr>\n",
       "    <tr>\n",
       "      <th>2</th>\n",
       "      <td>6</td>\n",
       "      <td>(±)-Atenolol</td>\n",
       "      <td>90.286901</td>\n",
       "    </tr>\n",
       "    <tr>\n",
       "      <th>3</th>\n",
       "      <td>6</td>\n",
       "      <td>4-Aminosalicylic Acid</td>\n",
       "      <td>96.168631</td>\n",
       "    </tr>\n",
       "    <tr>\n",
       "      <th>4</th>\n",
       "      <td>6</td>\n",
       "      <td>Acetylcholine Chloride</td>\n",
       "      <td>75.394582</td>\n",
       "    </tr>\n",
       "    <tr>\n",
       "      <th>...</th>\n",
       "      <td>...</td>\n",
       "      <td>...</td>\n",
       "      <td>...</td>\n",
       "    </tr>\n",
       "    <tr>\n",
       "      <th>925</th>\n",
       "      <td>48</td>\n",
       "      <td>Zidovudine (3'-Azido-3'-Deoxythymidine)</td>\n",
       "      <td>146.423181</td>\n",
       "    </tr>\n",
       "    <tr>\n",
       "      <th>926</th>\n",
       "      <td>48</td>\n",
       "      <td>Zileuton</td>\n",
       "      <td>74.046438</td>\n",
       "    </tr>\n",
       "    <tr>\n",
       "      <th>927</th>\n",
       "      <td>48</td>\n",
       "      <td>Zoledronic Acid Monohydrate</td>\n",
       "      <td>123.707916</td>\n",
       "    </tr>\n",
       "    <tr>\n",
       "      <th>928</th>\n",
       "      <td>48</td>\n",
       "      <td>Zolmitriptan</td>\n",
       "      <td>144.016636</td>\n",
       "    </tr>\n",
       "    <tr>\n",
       "      <th>929</th>\n",
       "      <td>48</td>\n",
       "      <td>Zonisamide</td>\n",
       "      <td>125.854654</td>\n",
       "    </tr>\n",
       "  </tbody>\n",
       "</table>\n",
       "<p>930 rows × 3 columns</p>\n",
       "</div>"
      ],
      "text/plain": [
       "     time                             perturbation         auc\n",
       "0       6                      (S)-Timolol Maleate   59.046233\n",
       "1       6                        (±) Isoproterenol   81.196049\n",
       "2       6                             (±)-Atenolol   90.286901\n",
       "3       6                    4-Aminosalicylic Acid   96.168631\n",
       "4       6                   Acetylcholine Chloride   75.394582\n",
       "..    ...                                      ...         ...\n",
       "925    48  Zidovudine (3'-Azido-3'-Deoxythymidine)  146.423181\n",
       "926    48                                 Zileuton   74.046438\n",
       "927    48              Zoledronic Acid Monohydrate  123.707916\n",
       "928    48                             Zolmitriptan  144.016636\n",
       "929    48                               Zonisamide  125.854654\n",
       "\n",
       "[930 rows x 3 columns]"
      ]
     },
     "execution_count": 13,
     "metadata": {},
     "output_type": "execute_result"
    }
   ],
   "source": [
    "auc_table"
   ]
  },
  {
   "cell_type": "code",
   "execution_count": 46,
   "metadata": {},
   "outputs": [
    {
     "data": {
      "text/plain": [
       "0.1771924677275529"
      ]
     },
     "execution_count": 46,
     "metadata": {},
     "output_type": "execute_result"
    }
   ],
   "source": [
    "x = np.log(mahala_table['mahalanobis'].loc[mahala_table.time==6])\n",
    "np.std(x)/np.mean(x)"
   ]
  },
  {
   "cell_type": "code",
   "execution_count": 48,
   "metadata": {},
   "outputs": [
    {
     "data": {
      "text/plain": [
       "0.258910999344151"
      ]
     },
     "execution_count": 48,
     "metadata": {},
     "output_type": "execute_result"
    }
   ],
   "source": [
    "x = np.log(mahala_table['mahalanobis'].loc[mahala_table.time==24])\n",
    "np.std(x)/np.mean(x)"
   ]
  },
  {
   "cell_type": "code",
   "execution_count": 50,
   "metadata": {},
   "outputs": [
    {
     "data": {
      "text/plain": [
       "0.24325859853784548"
      ]
     },
     "execution_count": 50,
     "metadata": {},
     "output_type": "execute_result"
    }
   ],
   "source": [
    "x = np.log(mahala_table['mahalanobis'].loc[mahala_table.time==48])\n",
    "np.std(x)/np.mean(x)"
   ]
  },
  {
   "cell_type": "code",
   "execution_count": 52,
   "metadata": {},
   "outputs": [],
   "source": [
    "mahala_table['log_mahala'] = np.log(mahala_table['mahalanobis'])"
   ]
  },
  {
   "cell_type": "code",
   "execution_count": 62,
   "metadata": {},
   "outputs": [
    {
     "data": {
      "image/png": "[encoded data removed]",
      "text/plain": [
       "<Figure size 299.25x126 with 1 Axes>"
      ]
     },
     "metadata": {
      "needs_background": "light"
     },
     "output_type": "display_data"
    }
   ],
   "source": [
    "#plot AUC by time\n",
    "g = sns.displot(\n",
    "    mahala_table, x='log_mahala', log_scale=False,\n",
    "    hue=\"time\", kind='hist',\n",
    "    element=\"step\",\n",
    "    height=1.75, aspect=2, palette=['orange','firebrick', 'mediumvioletred']);\n",
    "\n",
    "g.savefig(\"figures/DT_mahala_hist_by_time.pdf\");"
   ]
  },
  {
   "cell_type": "markdown",
   "metadata": {},
   "source": [
    "#### Within 24 hours determine dose-auc correlations"
   ]
  },
  {
   "cell_type": "code",
   "execution_count": 18,
   "metadata": {},
   "outputs": [],
   "source": [
    "mahala_pert_table_24 = mahala_pert_table.loc[mahala_pert_table.time == 24,:].drop(['signif_mahala', 'time'], axis=1)\n",
    "auc_table_24 = auc_table.loc[auc_table.time == 24,:].drop(['time'], axis=1)"
   ]
  },
  {
   "cell_type": "code",
   "execution_count": 40,
   "metadata": {},
   "outputs": [
    {
     "data": {
      "text/plain": [
       "0.15652248844273967"
      ]
     },
     "execution_count": 40,
     "metadata": {},
     "output_type": "execute_result"
    }
   ],
   "source": [
    "x = np.log(mahala_pert_table_24['mahalanobis'].loc[mahala_pert_table_24.dose==0.1])\n",
    "np.std(x)/np.mean(x)"
   ]
  },
  {
   "cell_type": "code",
   "execution_count": 41,
   "metadata": {},
   "outputs": [
    {
     "data": {
      "text/plain": [
       "0.1571539533677682"
      ]
     },
     "execution_count": 41,
     "metadata": {},
     "output_type": "execute_result"
    }
   ],
   "source": [
    "x = np.log(mahala_pert_table_24['mahalanobis'].loc[mahala_pert_table_24.dose==1.0])\n",
    "np.std(x)/np.mean(x)"
   ]
  },
  {
   "cell_type": "code",
   "execution_count": 42,
   "metadata": {},
   "outputs": [
    {
     "data": {
      "text/plain": [
       "0.15045144557216505"
      ]
     },
     "execution_count": 42,
     "metadata": {},
     "output_type": "execute_result"
    }
   ],
   "source": [
    "x = np.log(mahala_pert_table_24['mahalanobis'].loc[mahala_pert_table_24.dose==10])\n",
    "np.std(x)/np.mean(x)"
   ]
  },
  {
   "cell_type": "code",
   "execution_count": 56,
   "metadata": {},
   "outputs": [],
   "source": [
    "mahala_pert_table_24['log_mahala'] = np.log(mahala_pert_table_24['mahalanobis'])"
   ]
  },
  {
   "cell_type": "code",
   "execution_count": 61,
   "metadata": {},
   "outputs": [
    {
     "data": {
      "image/png": "[encoded data removed]",
      "text/plain": [
       "<Figure size 307.25x126 with 1 Axes>"
      ]
     },
     "metadata": {
      "needs_background": "light"
     },
     "output_type": "display_data"
    }
   ],
   "source": [
    "g = sns.displot(\n",
    "    mahala_pert_table_24, x='log_mahala', log_scale=False,\n",
    "    hue=\"dose\", kind='hist',\n",
    "    element=\"step\",\n",
    "    height=1.75, aspect=2, palette=['yellowgreen','limegreen','lightseagreen']);\n",
    "g.savefig(\"figures/DT_log_mahala_24.pdf\");"
   ]
  },
  {
   "cell_type": "code",
   "execution_count": null,
   "metadata": {},
   "outputs": [],
   "source": []
  }
 ],
 "metadata": {
  "kernelspec": {
   "display_name": "Python 3.7.3 64-bit",
   "language": "python",
   "name": "python3"
  },
  "language_info": {
   "codemirror_mode": {
    "name": "ipython",
    "version": 3
   },
   "file_extension": ".py",
   "mimetype": "text/x-python",
   "name": "python",
   "nbconvert_exporter": "python",
   "pygments_lexer": "ipython3",
   "version": "3.7.3"
  },
  "toc-autonumbering": false,
  "vscode": {
   "interpreter": {
    "hash": "31f2aee4e71d21fbe5cf8b01ff0e069b9275f58929596ceb00d14d90e3e16cd6"
   }
  }
 },
 "nbformat": 4,
 "nbformat_minor": 4
}
