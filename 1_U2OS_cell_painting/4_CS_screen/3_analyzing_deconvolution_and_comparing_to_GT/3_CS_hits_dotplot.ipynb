{
 "cells": [
  {
   "cell_type": "markdown",
   "metadata": {},
   "source": [
    "# CS hits dotplot\n",
    "\n",
    "CK 2022\n",
    "\n",
    "### What this does?\n",
    "Makes the dot plot summarizing which drugs were consistent hits across CS screens"
   ]
  },
  {
   "cell_type": "code",
   "execution_count": null,
   "metadata": {},
   "outputs": [],
   "source": [
    "library(tidyverse)\n",
    "library(ggrepel)\n",
    "library(cowplot)\n",
    "library(viridis)\n",
    "library(scico)\n",
    "library(RColorBrewer)"
   ]
  },
  {
   "cell_type": "markdown",
   "metadata": {},
   "source": [
    "Formatting the deconvolution data for dotplot"
   ]
  },
  {
   "cell_type": "code",
   "execution_count": null,
   "metadata": {},
   "outputs": [],
   "source": [
    "```{r}\n",
    "drug_cluster_colors = c('#EFAD81','#EF6F18',\n",
    "                       '#844E27','#6153A3','#C5E2BC','#437548',\n",
    "                       '#8F9E35',\n",
    "                       '#7AC4B9','#12544D',\n",
    "                       '#CCA754')\n",
    "all_gt_leiden_phenotypes = c(\"2-lo\", \"2-hi\",\"3\",\"4\",\"5\",\"6\",\"6-8\", \"7-lo\", \"7-hi\",   \"8\" )\n",
    "\n",
    "top_drugs = read.csv(\"regression_summary_stats/regression_metrics_permute_0.01_Dec102021.csv\")\n",
    "top_drugs$Metadata_perturbation[top_drugs$Metadata_perturbation==\"Methyldopa Sesquihydrate (L-_-Methyl-Dopa Sesquihyrate)\"] = \"Methyldopa Sesquihydrate\"\n",
    "\n",
    "top_drugs = top_drugs %>% filter(permute_reg_l1_norm > 0)\n",
    "top_drugs$num_drugs_per_pool = top_drugs$Metadata_compresion/2 * top_drugs$Metadata_replicates\n",
    "\n",
    "# Normalize the l1 norms\n",
    "\n",
    "top_l1_data = top_drugs %>% group_by(Metadata_run,Metadata_compresion,Metadata_replicates) %>% summarize(max_l1 =max(permute_reg_l1_norm))\n",
    "\n",
    "top_drugs$normalized_l1_norm = top_drugs$permute_reg_l1_norm\n",
    "for(i in 1:nrow(top_drugs)){\n",
    "  run = top_drugs$Metadata_run[i]\n",
    "  compression = top_drugs$Metadata_compresion[i]\n",
    "  replicate = top_drugs$Metadata_replicates[i]\n",
    "  \n",
    "  temp=top_l1_data %>% filter(Metadata_run==run) %>%\n",
    "  filter(Metadata_compresion ==compression) %>%\n",
    "  filter(Metadata_replicates==replicate)\n",
    "  max_l1 = temp$max_l1\n",
    "  \n",
    "  top_drugs$normalized_l1_norm[i] = top_drugs$normalized_l1_norm[i]/max_l1\n",
    "  \n",
    "}\n",
    "\n",
    "# Find the drugs that are hits for both replicates\n",
    "counts_by_drug_and_scheme = top_drugs %>% group_by(Metadata_perturbation,num_drugs_per_pool) %>% summarize(n=n())\n",
    "drugs_hit_at_both_reps = unique(counts_by_drug_and_scheme$Metadata_perturbation[counts_by_drug_and_scheme$n > 1])\n",
    "\n",
    "top_drugs = top_drugs %>% filter(Metadata_perturbation %in% drugs_hit_at_both_reps)\n",
    "\n",
    "# Finding the drug counts\n",
    "temp = top_drugs %>% group_by(Metadata_perturbation) %>% summarize(n=n(),mean_l1=mean(normalized_l1_norm))%>% arrange(desc(n),desc(mean_l1))\n",
    "# temp = top_drugs %>% group_by(Metadata_perturbation) %>% summarize(n=n(),mean_l1=mean(normalized_l1_norm))%>% arrange(desc(mean_l1))\n",
    "drug_count_order = temp$Metadata_perturbation\n",
    "top_drugs$Metadata_perturbation  = factor(top_drugs$Metadata_perturbation,levels=rev(drug_count_order))\n",
    "\n",
    "drug_cluster_colors = drug_cluster_colors[all_gt_leiden_phenotypes %in% top_drugs$gt_leiden]\n",
    "use_gt = all_gt_leiden_phenotypes[all_gt_leiden_phenotypes %in% top_drugs$gt_leiden]\n",
    "use_gt = c(\"\",use_gt)\n",
    "drug_cluster_colors = c(\"grey\",drug_cluster_colors)\n",
    "top_drugs$gt_leiden  = factor(top_drugs$gt_leiden,levels=use_gt)\n",
    "\n",
    "pool_order = as.character(sort(unique(top_drugs$num_drugs_per_pool)))\n",
    "top_drugs$num_drugs_per_pool = as.character(top_drugs$num_drugs_per_pool)\n",
    "top_drugs$num_drugs_per_pool = factor(top_drugs$num_drugs_per_pool,levels=pool_order)\n",
    "\n",
    "\n",
    "```"
   ]
  },
  {
   "cell_type": "markdown",
   "metadata": {},
   "source": [
    "Making the dotplot (three plots to generate the data points and values, layout later reformatted in Adobe illustrator)"
   ]
  },
  {
   "cell_type": "code",
   "execution_count": null,
   "metadata": {},
   "outputs": [],
   "source": [
    "height_val = 5.25\n",
    "width_val = 4.5\n",
    "\n",
    "# use this plot as the main thing to show\n",
    "top_drugs$Metadata_perturbation  = factor(top_drugs$Metadata_perturbation,levels=rev(drug_count_order))\n",
    "bblah = top_drugs %>% group_by(Metadata_perturbation,Metadata_compresion,Metadata_replicates,num_drugs_per_pool) %>% summarize(mean_l1 = mean(normalized_l1_norm))\n",
    "\n",
    "pdf(\"~/Dropbox (MIT)/Compressed Screening/Latest Draft/FIGURES/Fig3/drugs_hits_in_both_reps_dotplot_permute_reg_squares_legend.pdf\",height=height_val,\n",
    "    width=width_val,useDingbats = F)\n",
    "ggplot(bblah,aes(x=num_drugs_per_pool,y=Metadata_perturbation,fill=mean_l1)) +\n",
    "  geom_point(pch=21,size=3)  + \n",
    "  ylab(\"\") + xlab(\"Pool size\") + scale_fill_gradient(low=\"white\",high=\"red\") +\n",
    "  theme_classic() +\n",
    "  theme(axis.text.x = element_text(size=10),axis.text.y = element_text(size=6),panel.grid.minor.x = element_blank(),panel.grid.minor.y = element_blank(),axis.title.x=element_text(size=12))\n",
    "dev.off()\n",
    "\n",
    "\n",
    "# This plot generates the Mahalanobis distance colors\n",
    "pdf(\"~/Dropbox (MIT)/Compressed Screening/Latest Draft/FIGURES/Fig3/drugs_hits_in_both_reps_dotplot_log_mahal_squares_legend.pdf\",height=height_val,\n",
    "    width=width_val,useDingbats = F)\n",
    "ggplot(top_drugs,aes(x=num_drugs_per_pool,y=Metadata_perturbation,color=gt_mahalanobis)) +\n",
    "  geom_point(shape=15,size=3)  + \n",
    "  ylab(\"\") + xlab(\"Pool size\") + scale_color_viridis(option=\"magma\") +\n",
    "    # ylab(\"\") + xlab(\"Pool size\") + scale_color_distiller(direction=0) +\n",
    "  theme_classic() +\n",
    "  theme(axis.text.x = element_text(size=10),axis.text.y = element_text(size=6),panel.grid.minor.x = element_blank(),panel.grid.minor.y = element_blank(),axis.title.x=element_text(size=12))\n",
    "dev.off()\n",
    "\n",
    "# This plot generates the GT drug cluster colors\n",
    "pdf(\"~/Dropbox (MIT)/Compressed Screening/Latest Draft/FIGURES/Fig3/drugs_hits_in_both_reps_dotplot_log_pheno_squares_legend.pdf\",height=height_val,\n",
    "    width=width_val,useDingbats = F)\n",
    "ggplot(top_drugs,aes(x=num_drugs_per_pool,y=Metadata_perturbation,color=gt_leiden,)) +\n",
    "  geom_point(size=3)  + \n",
    "  ylab(\"\") + xlab(\"Pool size\") + scale_color_manual(values=drug_cluster_colors) +\n",
    "    # ylab(\"\") + xlab(\"Pool size\") + scale_color_distiller(direction=0) +\n",
    "  theme_classic() +\n",
    "  theme(axis.text.x = element_text(size=10),axis.text.y = element_text(size=6),panel.grid.minor.x = element_blank(),panel.grid.minor.y = element_blank(),axis.title.x=element_text(size=12))\n",
    "dev.off()\n"
   ]
  }
 ],
 "metadata": {
  "kernelspec": {
   "display_name": "Python 3.7.3 64-bit",
   "language": "python",
   "name": "python3"
  },
  "language_info": {
   "name": "python",
   "version": "3.7.3"
  },
  "orig_nbformat": 4,
  "vscode": {
   "interpreter": {
    "hash": "31f2aee4e71d21fbe5cf8b01ff0e069b9275f58929596ceb00d14d90e3e16cd6"
   }
  }
 },
 "nbformat": 4,
 "nbformat_minor": 2
}
