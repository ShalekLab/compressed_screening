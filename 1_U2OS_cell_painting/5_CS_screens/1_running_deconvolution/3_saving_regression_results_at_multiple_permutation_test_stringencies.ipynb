{
 "cells": [
  {
   "cell_type": "markdown",
   "id": "1d9d7de9",
   "metadata": {},
   "source": [
    "# Saving regression results at multiple permutation test stringencies\n",
    "\n",
    "### What this does:\n",
    "Loads in the results from liner model deconvolution and saves a coeficient matrix at a range of p vlaue thresholds in order to generate daata for latter assessment of the impact of the permutation test on the results"
   ]
  },
  {
   "cell_type": "code",
   "execution_count": 5,
   "id": "460a6285-646e-43e2-8b07-6ea5fe0629b4",
   "metadata": {},
   "outputs": [],
   "source": [
    "import numpy as np\n",
    "import pandas as pd\n",
    "import glob"
   ]
  },
  {
   "cell_type": "code",
   "execution_count": 11,
   "id": "93e6f30d-db3a-4e1a-bcbf-8e87273f6c9e",
   "metadata": {},
   "outputs": [],
   "source": [
    "model_coef_files = glob.glob(\"decon_out/raw_rd_OG316_raw_decon_out/*random_model_coef.csv\")\n",
    "model_coef_files1 = glob.glob(\"decon_out/raw_rd_OG316_raw_decon_out/*random1_model_coef.csv\")\n",
    "model_coef_files2 = glob.glob(\"decon_out/raw_rd_OG316_raw_decon_out/*random2_model_coef.csv\")\n",
    "model_coef_files = model_coef_files + model_coef_files1 + model_coef_files2\n",
    "\n",
    "for model_coef_file in model_coef_files:\n",
    "    \n",
    "    # Load in the no permute model coefs and the pvals tables\n",
    "    no_permute_model_coef = pd.read_csv(model_coef_file,index_col=0)\n",
    "    pval_table_file = model_coef_file.split(\"model_coef.csv\")[0]+\"pval_table.csv\"\n",
    "    pval_table = pd.read_csv(pval_table_file,index_col=0)\n",
    "    \n",
    "    # Filter on three stringency levels\n",
    "    for threshold in np.arange(0.0,1.01,step=0.01):\n",
    "            permute_model_coef = no_permute_model_coef*(pval_table < threshold)\n",
    "            permute_model_coef.to_csv(model_coef_file.split(\"model_coef.csv\")[0]+\"permute_\"+str(np.round(threshold,4))+\"_model_coef.csv\")\n",
    "    "
   ]
  },
  {
   "cell_type": "code",
   "execution_count": null,
   "id": "796dffb1",
   "metadata": {},
   "outputs": [],
   "source": []
  }
 ],
 "metadata": {
  "kernelspec": {
   "display_name": "Python 3.10.6 ('scanpy_env')",
   "language": "python",
   "name": "python3"
  },
  "language_info": {
   "codemirror_mode": {
    "name": "ipython",
    "version": 3
   },
   "file_extension": ".py",
   "mimetype": "text/x-python",
   "name": "python",
   "nbconvert_exporter": "python",
   "pygments_lexer": "ipython3",
   "version": "3.10.6"
  },
  "vscode": {
   "interpreter": {
    "hash": "951104f273996f7bfa89fdbd503ca95d9b243b7715de6ddb3925b5dc1ebd6ab4"
   }
  }
 },
 "nbformat": 4,
 "nbformat_minor": 5
}
