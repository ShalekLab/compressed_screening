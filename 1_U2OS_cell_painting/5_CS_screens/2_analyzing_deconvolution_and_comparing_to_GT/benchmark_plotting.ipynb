{
 "cells": [
  {
   "cell_type": "markdown",
   "metadata": {},
   "source": [
    "# Plotting Pearson correlations between GT & CS for all deconvolution approaches\n",
    "\n",
    "### What this does:\n",
    "- Loads in data across all CS screens on the pearson correlation between GT & CS for\n",
    "    - Linear model deconvolution\n",
    "    - Mahalanobis distance deconvolution\n",
    "    - Boostrapped mahalanobis distance deconvolution\n",
    "- Formats data for plotting\n",
    "- Generates a plot comparing the methods"
   ]
  },
  {
   "cell_type": "code",
   "execution_count": 1,
   "metadata": {
    "vscode": {
     "languageId": "r"
    }
   },
   "outputs": [],
   "source": [
    "library(tidyverse)\n",
    "library(ggrepel)\n",
    "library(cowplot)\n",
    "library(reshape2)"
   ]
  },
  {
   "cell_type": "code",
   "execution_count": null,
   "metadata": {
    "vscode": {
     "languageId": "r"
    }
   },
   "outputs": [],
   "source": [
    "# Load in the data on correlation between CS & GT across screens\n",
    "cs_pearson = read.csv(\"CS_all_pearsons_gt_mahala_vs_mahala_mahalaBoot_regL1_empiricalcov_with_permute_raw_reg.csv\")\n",
    "cs_pearson = cs_pearson %>% filter(!(Metadata_run%in%c(\"CS_run1\",\"CS_run2\")&Metadata_compression==2&Metadata_replicates==7)) # remove screens that had technical failure and were redone in CSrun3"
   ]
  },
  {
   "cell_type": "code",
   "execution_count": null,
   "metadata": {
    "vscode": {
     "languageId": "r"
    }
   },
   "outputs": [],
   "source": [
    "# Reformat the data for plotting\n",
    "\n",
    "cs_pearson$num_drugs_per_pool = (cs_pearson$Metadata_compression/2) * cs_pearson$Metadata_replicates\n",
    "cs_pearson$Metadata_replicates_factor = factor(cs_pearson$Metadata_replicates,levels=c(3,5,7))\n",
    "\n",
    "# Melting the data groups\n",
    "pearson_values = cs_pearson[,c(6,7,8)]\n",
    "non_pearson_values = cs_pearson[,-c(6,7,8)]\n",
    "for(j in 1:ncol(non_pearson_values)){\n",
    "  non_pearson_values[,j] = factor(non_pearson_values[,j])\n",
    "}\n",
    "new_cs_pearson = cbind(non_pearson_values,pearson_values)\n",
    "melted_cs_pearson = melt(new_cs_pearson,variable.name ='comparison',value.name='pearson')\n"
   ]
  },
  {
   "cell_type": "code",
   "execution_count": null,
   "metadata": {
    "vscode": {
     "languageId": "r"
    }
   },
   "outputs": [],
   "source": [
    "# Plot the reformatted data\n",
    "\n",
    "melted_cs_pearson$num_drugs_per_pool = as.numeric(as.character(melted_cs_pearson$num_drugs_per_pool))\n",
    "\n",
    "pdf(\"pearson_plots/pearson_comparison_empiricalcov_lm.pdf\",useDingbats = F,width=4,height=2.5)\n",
    "ggplot(melted_cs_pearson, aes(x =num_drugs_per_pool,y=pearson,color=comparison)) + geom_smooth(aes(group=comparison),method=\"lm\") + geom_point()  + theme_classic() + ylim(0,1)  +theme(legend.text = element_blank()) +\n",
    "    theme(axis.text.x = element_text(size=8),axis.text.y = element_text(size=8),axis.title = element_text(size=8),plot.title=element_text(size=10))+ scale_x_continuous(trans='log2') +\n",
    "  ylab(\"Pearson correlation\") + xlab(\"Number of drugs in each pool\")\n",
    "dev.off()"
   ]
  }
 ],
 "metadata": {
  "kernelspec": {
   "display_name": "R",
   "language": "R",
   "name": "ir"
  },
  "language_info": {
   "codemirror_mode": "r",
   "file_extension": ".r",
   "mimetype": "text/x-r-source",
   "name": "R",
   "pygments_lexer": "r",
   "version": "3.5.1"
  },
  "orig_nbformat": 4
 },
 "nbformat": 4,
 "nbformat_minor": 2
}
