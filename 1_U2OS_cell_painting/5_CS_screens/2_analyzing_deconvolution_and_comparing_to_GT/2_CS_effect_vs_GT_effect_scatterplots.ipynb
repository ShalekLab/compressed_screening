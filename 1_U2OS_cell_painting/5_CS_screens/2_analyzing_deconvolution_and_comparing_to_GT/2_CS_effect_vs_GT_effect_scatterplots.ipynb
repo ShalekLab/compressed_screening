{
 "cells": [
  {
   "cell_type": "markdown",
   "metadata": {},
   "source": [
    "# CS effect vs GT effect scatterplots\n",
    "\n",
    "### What this does:\n",
    "Reads in data from 1_summarizing_deconvolution_effects.ipynb and for each screen and three permutation test pvalues, makes a scatterplot of CS effect (scaled L1 norm) vs GT effect (Mahalanobis distane) with drugs that are a hit in both colored by the GT drug cluster"
   ]
  },
  {
   "cell_type": "code",
   "execution_count": null,
   "metadata": {
    "vscode": {
     "languageId": "r"
    }
   },
   "outputs": [],
   "source": [
    "library(tidyverse)\n",
    "library(cowplot)"
   ]
  },
  {
   "cell_type": "code",
   "execution_count": null,
   "metadata": {
    "vscode": {
     "languageId": "r"
    }
   },
   "outputs": [],
   "source": [
    "\n",
    "for(permute in c(0.05,0.01,0.001)){\n",
    "  drug_cluster_colors = c('#EFAD81','#EF6F18',\n",
    "                   '#844E27','#6153A3','#C5E2BC','#437548',\n",
    "                   '#8F9E35',\n",
    "                   '#7AC4B9','#12544D',\n",
    "                   '#CCA754')\n",
    "\n",
    "  combined_metrics = read.csv(paste0(\"regression_summary_stats/regression_metrics_permute_\",permute,\"_Dec102021.csv\"))\n",
    "  summary_stats = read.csv(paste0(\"regression_summary_stats/summary_stats_from_all_reg_sig_coef_permute_\",permute,\"_Dec102021.csv\"))\n",
    "  \n",
    "  \n",
    "  runs = c(\"CS_run1\",'CS_run2','CS_run3')\n",
    "  for(run in runs){\n",
    "    compression_methods = read.csv(paste0(run,\"_compression_methods.csv\"))\n",
    "    for(i in 1:nrow(compression_methods)){\n",
    "    \n",
    "      compression = compression_methods$Metadata_compression[i]\n",
    "      replicates = compression_methods$Metadata_replicates[i]\n",
    "      scheme = compression_methods$Metadata_perturbation[i]\n",
    "      \n",
    "      cs_metrics = combined_metrics %>% filter(Metadata_run==run) %>% \n",
    "          filter(Metadata_compresion==compression) %>% \n",
    "          filter(Metadata_replicates==replicates) %>%\n",
    "          filter(Metadata_scheme == scheme)\n",
    "      cs_metrics$gt_leiden[cs_metrics$gt_leiden==\"\"] = \"Not sig\"\n",
    "      \n",
    "      cs_summary = summary_stats %>% filter(Metadata_run==run) %>% \n",
    "          filter(Metadata_compression==compression) %>% \n",
    "          filter(Metadata_replicates==replicates) %>%\n",
    "          filter(Metadata_scheme == scheme)\n",
    "      \n",
    "      ordered_gt_leiden = c(\"Not sig\",\"2-lo\", \"2-hi\",\"3\",\"4\",\"5\",\"6\",\"6-8\", \"7-lo\", \"7-hi\",   \"8\" )\n",
    "      cs_metrics$gt_leiden = factor(cs_metrics$gt_leiden,\n",
    "                                    levels=ordered_gt_leiden)\n",
    "      cs_metrics_sig_both = cs_metrics[(cs_metrics$gt_leiden!=\"Not sig\")&(cs_metrics$permute_reg_l1_norm > 0),]\n",
    "      cs_metrics_not_sig_CS_sig_GT = cs_metrics[(cs_metrics$gt_leiden!=\"Not sig\")&(cs_metrics$permute_reg_l1_norm == 0),]\n",
    "      cs_metrics_not_sig_CS_not_GT = cs_metrics[(cs_metrics$gt_leiden==\"Not sig\")&(cs_metrics$permute_reg_l1_norm == 0),]\n",
    "      cs_metrics_sig_CS_not_GT = cs_metrics[(cs_metrics$gt_leiden==\"Not sig\")&(cs_metrics$permute_reg_l1_norm > 0),]\n",
    "      \n",
    "      temp_colors = drug_cluster_colors[ordered_gt_leiden[2:length(ordered_gt_leiden)] %in% cs_metrics_sig_both$gt_leiden]\n",
    "      \n",
    "      pdf(paste0(\"~/Dropbox (MIT)/Compressed Screening/Latest Draft/FIGURES/scatterplots/permute_\",permute,\"/\",\n",
    "      run,\"_\",compression,\"X_\",replicates,\"r_\",scheme,\"_reg_permute_\",permute,\"_mahala_l1_scatter.pdf\"),\n",
    "      useDingbats = F,width = 1.75,height=1.75)\n",
    "      print(ggplot(cs_metrics_sig_both,aes(x=gt_mahalanobis,y=permute_reg_l1_scaled,color=gt_leiden)) +\n",
    "        geom_point(data=cs_metrics_not_sig_CS_not_GT,aes(x=gt_mahalanobis,y=permute_reg_l1_scaled),color=\"grey\")+\n",
    "          geom_point(data=cs_metrics_not_sig_CS_sig_GT,aes(x=gt_mahalanobis,y=permute_reg_l1_scaled),color=\"red\")+\n",
    "          geom_point(data=cs_metrics_sig_CS_not_GT,aes(x=gt_mahalanobis,y=permute_reg_l1_scaled),color=\"black\")+\n",
    "          geom_point(data=cs_metrics_sig_both,aes(x=gt_mahalanobis,y=permute_reg_l1_scaled,color=gt_leiden),size=2)+\n",
    "          scale_color_manual(values=temp_colors) +\n",
    "          theme_cowplot() +ylim(0,1)+\n",
    "          labs(color=\"Ground truth\\nperturbation\\ncluster\") +\n",
    "          xlab(\"GT: Mahalanobis\")+\n",
    "          ylab(\"CS: L1 norm\") +\n",
    "          theme(axis.title = element_text(size=10),axis.text = element_text(size=8),\n",
    "                legend.title = element_text(size=10),legend.text = element_text(size=8))+\n",
    "        geom_hline(yintercept = cs_summary$top_hit_threshold,linetype=\"dashed\",color=\"grey\")) \n",
    "    dev.off()\n",
    "    \n",
    "        pdf(paste0(\"~/Dropbox (MIT)/Compressed Screening/Latest Draft/FIGURES/Fig2/Fig2_old/scatterplots/permute_\",permute,\"/\",\n",
    "      run,\"_\",compression,\"X_\",replicates,\"r_\",scheme,\"_reg_permute_\",permute,\"_mahala_l1_scatter_no_legend.pdf\"),\n",
    "      useDingbats = F,width = 1.75,height=1.75)\n",
    "      print(ggplot(cs_metrics_sig_both,aes(x=gt_mahalanobis,y=permute_reg_l1_scaled,color=gt_leiden)) +\n",
    "        geom_point(data=cs_metrics_not_sig_CS_not_GT,aes(x=gt_mahalanobis,y=permute_reg_l1_scaled),color=\"grey\")+\n",
    "          geom_point(data=cs_metrics_not_sig_CS_sig_GT,aes(x=gt_mahalanobis,y=permute_reg_l1_scaled),color=\"#1c75bc\")+\n",
    "          geom_point(data=cs_metrics_sig_CS_not_GT,aes(x=gt_mahalanobis,y=permute_reg_l1_scaled),color=\"black\")+\n",
    "          geom_point(data=cs_metrics_sig_both,aes(x=gt_mahalanobis,y=permute_reg_l1_scaled,color=gt_leiden),size=2)+\n",
    "          scale_color_manual(values=temp_colors) +\n",
    "          theme_cowplot() +ylim(0,1)+\n",
    "          labs(color=\"Ground truth\\nperturbation\\ncluster\") +\n",
    "          xlab(\"GT: Mahalanobis\")+\n",
    "          ylab(\"CS: L1 norm\") +\n",
    "          theme(axis.title = element_text(size=10),axis.text = element_text(size=8),\n",
    "                legend.title = element_text(size=10),legend.text = element_text(size=8),legend.position = \"None\")+\n",
    "        geom_hline(yintercept = cs_summary$top_hit_threshold,linetype=\"dashed\",color=\"grey\")) \n",
    "    dev.off()\n",
    "      }\n",
    "  }\n",
    "\n",
    "}\n"
   ]
  }
 ],
 "metadata": {
  "kernelspec": {
   "display_name": "R",
   "language": "R",
   "name": "ir"
  },
  "language_info": {
   "name": "R",
   "version": "3.7.3"
  },
  "orig_nbformat": 4,
  "vscode": {
   "interpreter": {
    "hash": "31f2aee4e71d21fbe5cf8b01ff0e069b9275f58929596ceb00d14d90e3e16cd6"
   }
  }
 },
 "nbformat": 4,
 "nbformat_minor": 2
}
