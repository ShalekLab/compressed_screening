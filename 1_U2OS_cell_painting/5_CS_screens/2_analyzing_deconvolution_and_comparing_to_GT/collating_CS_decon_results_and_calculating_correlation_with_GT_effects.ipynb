{
 "cells": [
  {
   "cell_type": "markdown",
   "id": "ae1fa53c",
   "metadata": {},
   "source": [
    "# Collating the inferred CS effects for all 3 deconvolution approaches & calculating Pearson correlation with GT effects\n",
    "\n",
    "### What this does:\n",
    "- Loads in data across all CS screens on the pearson correlation between GT & CS for\n",
    "    - Linear model deconvolution\n",
    "    - Mahalanobis distance deconvolution\n",
    "    - Boostrapped mahalanobis distance deconvolution\n",
    "- Formats data for plotting\n",
    "- Generates a plot comparing the methods"
   ]
  },
  {
   "cell_type": "code",
   "execution_count": 6,
   "id": "fa7a8cfe-cf1b-494d-b398-09c424da7df4",
   "metadata": {},
   "outputs": [],
   "source": [
    "import numpy as np\n",
    "import pandas as pd\n",
    "from sklearn.metrics import precision_recall_curve,roc_curve, roc_auc_score, RocCurveDisplay, auc,average_precision_score,PrecisionRecallDisplay,precision_score,recall_score\n",
    "import matplotlib.pyplot as plt\n",
    "import seaborn as sns\n",
    "from scipy.stats import pearsonr\n",
    "\n",
    "import matplotlib\n",
    "matplotlib.rcParams['pdf.fonttype'] = 42\n",
    "plt.rcParams[\"font.family\"] = \"Helvetica\""
   ]
  },
  {
   "cell_type": "markdown",
   "id": "dd85351e-4982-4177-8421-d3ee962990a6",
   "metadata": {},
   "source": [
    "# Part one: Making a table summarizing, GT, Mahala, Mahala Boot, and regression L1 for all run, scheme,etc"
   ]
  },
  {
   "cell_type": "code",
   "execution_count": 7,
   "id": "376e093c-62fb-48d8-9e2e-5e0550b8b786",
   "metadata": {},
   "outputs": [],
   "source": [
    "data_read_path = \"../../../../cell_painting_data_lock/4_CS_OBJECTS_median_aggregated/\"\n",
    "data_read_suffix = \"_PCH_rd_OG316\"\n",
    "save_path = \"data_tables/\"\n",
    "\n",
    "regression_read_path = \"../../regression_deconvolution_December2021/decon_out/raw_rd_OG316_raw_decon_out/\""
   ]
  },
  {
   "cell_type": "markdown",
   "id": "fe6ccb6b-2901-4a48-a151-3ea2e6c57f75",
   "metadata": {},
   "source": [
    "### GT"
   ]
  },
  {
   "cell_type": "code",
   "execution_count": 8,
   "id": "dbe3fc7d-0a7e-490b-98e9-828d06190161",
   "metadata": {},
   "outputs": [],
   "source": [
    "# Load in the set of 316 drugs used in the screens\n",
    "cs_drugs = pd.read_csv(\"../mahalanobis_calcs_on_compressed_15Nov2021/mahala_calculations/CS_run1_2.0x5.0r_randommahala_table.csv\").Metadata_perturbation.values\n",
    "\n",
    "gt_mahala = pd.read_csv(\"../../../../BEM/Manu_analysis/2_OG316_analysis/GT316_mahala_empirical_table.csv\")\n",
    "\n",
    "# Need to update the name of one drug with a weird name that got annotated in two ways\n",
    "gt_mahala.Metadata_perturbation.values[gt_mahala.Metadata_perturbation.values=='Methyldopa Sesquihydrate (L-A-Methyl-Dopa Sesquihyrate)']='Methyldopa Sesquihydrate (L-_-Methyl-Dopa Sesquihyrate)'\n",
    "\n",
    "# Filter down to OG 316 and remove the DMSO wells\n",
    "gt_mahala = gt_mahala.loc[gt_mahala.Metadata_perturbation.isin(cs_drugs)]\n",
    "gt_mahala = gt_mahala.loc[gt_mahala.Metadata_perturbation!=\"DMSO\"]\n",
    "\n",
    "# rename columns where necesseary\n",
    "gt_mahala.columns = ['Metadata_perturbation','gt_mahalanobis','gt_signif_mahala']\n",
    "gt_mahala.index = gt_mahala.Metadata_perturbation.values\n",
    "gt_mahala.sort_index(inplace=True)\n"
   ]
  },
  {
   "cell_type": "markdown",
   "id": "e4e236be-bcfd-40e1-8683-69fdd25d2fd7",
   "metadata": {},
   "source": [
    "### CS"
   ]
  },
  {
   "cell_type": "code",
   "execution_count": 9,
   "id": "7cf463c6-8dc3-4040-8a9b-bd1e51d8c730",
   "metadata": {},
   "outputs": [],
   "source": [
    "bootstrap_percentile = 5 # using the 5th percentile of the adjust mahalanobis value as the \"adjusted mahalanobis\"\n",
    "\n",
    "for run in ['CS_run1','CS_run2','CS_run3']:\n",
    "\n",
    "    metadata = pd.read_csv(data_read_path+run+data_read_suffix+\"_metadata.csv\",index_col=0)\n",
    "     # Layout all of the compression schemes\n",
    "    compression_methods = metadata.groupby(['Metadata_compression','Metadata_replicates','Metadata_perturbation','Metadata_Plate']).size().reset_index().rename(columns={0:''})\n",
    "    compression_methods = compression_methods.loc[np.isin(compression_methods['Metadata_perturbation'],['random','random1','random2'])]\n",
    "    compression_methods.to_csv(run+\"_compression_methods.csv\",index=False)\n",
    "\n",
    "    for i in range(compression_methods.shape[0]):\n",
    "\n",
    "        compression = compression_methods['Metadata_compression'].iloc[i]\n",
    "        replicates = compression_methods['Metadata_replicates'].iloc[i]\n",
    "        scheme = compression_methods['Metadata_perturbation'].iloc[i]\n",
    "        \n",
    "        if run =='CS_run3' and compression == 32.0:\n",
    "            compression = 32\n",
    "            replicates = 5\n",
    "\n",
    "        cs_mahala = pd.read_csv(\"../mahalanobis_calcs_on_compressed_15Nov2021/mahala_calculations/\"+run+\"_\"+str(compression)+\"x\"+str(replicates)+\"r\"+\"_\"+scheme+\"mahala_table_DMSO_1e7_samples_17Nov2021_empiricalcov.csv\",index_col=0)\n",
    "        cs_mahala = cs_mahala.iloc[:,0:3]\n",
    "        cs_mahala.columns = ['Metadata_perturbation','cs_mahalanobis','cs_signif_mahala',]\n",
    "        cs_mahala = cs_mahala[cs_mahala.Metadata_perturbation!=\"DMSO\"]\n",
    "        cs_mahala.index = cs_mahala.Metadata_perturbation.values\n",
    "\n",
    "\n",
    "        bootstrap_values = np.load(\"../mahalanobis_calcs_on_compressed_15Nov2021/mahala_calculations/\"+run+\"_\"+str(compression)+\"x\"+str(replicates)+\"r\"+\"_\"+scheme+\"mahalas_resampled_DMSO_1e7_samples_17Nov2021_empiricalcov.npy\")\n",
    "        mahalas_boot = np.zeros(bootstrap_values.shape[0])\n",
    "        for m in range(bootstrap_values.shape[0]):\n",
    "            mahalas_boot[m] = np.percentile(bootstrap_values[m,:],bootstrap_percentile)\n",
    "        cs_mahala['cs_mahalanobis_bootstrap'] = mahalas_boot\n",
    "\n",
    "\n",
    "        if run =='CS_run3' and compression == 32:\n",
    "            compression = 32.0\n",
    "            replicates = 5.0\n",
    "        \n",
    "        model_coef = pd.read_csv(regression_read_path +run+\"_\"+str(compression)+\"x_\"+str(replicates)+\"r\"+\"_\"+scheme+\"_permute_model_coef.csv\",index_col=0)\n",
    "        model_coef.index.rename('Metadata_perturbation',inplace=True)\n",
    "        model_coef = model_coef.loc[model_coef.index.values!=\"DMSO\"]\n",
    "        model_coef.sort_index(inplace=True)\n",
    "        model_coef['regression_l1_norm'] = np.abs(model_coef).sum(1)\n",
    "\n",
    "\n",
    "        if i ==0 and run =='CS_run1':\n",
    "            mahalanobis_regression_comparison = pd.concat([gt_mahala,cs_mahala,model_coef.regression_l1_norm],axis=1,sort=True)\n",
    "            mahalanobis_regression_comparison['Metadata_run'] = run\n",
    "            mahalanobis_regression_comparison['Metadata_compression'] = compression\n",
    "            mahalanobis_regression_comparison['Metadata_replicates'] = replicates\n",
    "            mahalanobis_regression_comparison['Metadata_optimization'] = scheme\n",
    "        else:\n",
    "            temp = pd.concat([gt_mahala,cs_mahala,model_coef.regression_l1_norm],axis=1,sort=True)\n",
    "            temp['Metadata_run'] = run\n",
    "            temp['Metadata_compression'] = compression\n",
    "            temp['Metadata_replicates'] = replicates\n",
    "            temp['Metadata_optimization'] = scheme\n",
    "            mahalanobis_regression_comparison = pd.concat([mahalanobis_regression_comparison,temp])\n",
    "\n",
    "\n",
    "\n",
    "mahalanobis_regression_comparison.drop(labels=[\"Metadata_perturbation\"],axis=1,inplace=True)\n",
    "mahalanobis_regression_comparison.to_csv(\"mahalanobis_plusMinus_bootstrap_and_regressionL1_empiricalcov_with_permute_raw_reg.csv\")\n",
    "\n"
   ]
  },
  {
   "cell_type": "code",
   "execution_count": null,
   "id": "f90e5543",
   "metadata": {},
   "outputs": [],
   "source": [
    "all_compression_methods = mahalanobis_regression_comparison.groupby(['Metadata_run','Metadata_compression','Metadata_replicates','Metadata_optimization']).size().reset_index().rename(columns={0:''})\n",
    "\n",
    "gt_cs_naive_mahala_cor = []\n",
    "gt_cs_boot_mahala_cor = []\n",
    "gt_mahala_cs_reg_corr = []\n",
    "gt_mahala_cs_no_permute_corr = []\n",
    "for i in range(all_compression_methods.shape[0]):\n",
    "    run = all_compression_methods.Metadata_run.iloc[i]\n",
    "    compression = all_compression_methods.Metadata_compression.iloc[i]\n",
    "    replicates = all_compression_methods.Metadata_replicates.iloc[i]\n",
    "    scheme = all_compression_methods.Metadata_optimization.iloc[i]\n",
    "    data =mahalanobis_regression_comparison.loc[(mahalanobis_regression_comparison.Metadata_run==run)&\n",
    "                                         (mahalanobis_regression_comparison.Metadata_compression==compression)&\n",
    "                                         (mahalanobis_regression_comparison.Metadata_replicates==replicates)&\n",
    "                                         (mahalanobis_regression_comparison.Metadata_optimization==scheme)]\n",
    "\n",
    "    gt_cs_naive_mahala_cor.append(pearsonr(data.gt_mahalanobis,data.cs_mahalanobis)[0])\n",
    "    gt_cs_boot_mahala_cor.append(pearsonr(data.gt_mahalanobis,data.cs_mahalanobis_bootstrap)[0])\n",
    "    gt_mahala_cs_reg_corr.append(pearsonr(data.gt_mahalanobis,data.regression_l1_norm)[0])\n",
    "    gt_mahala_cs_no_permute_corr.append(pearsonr(data.gt_mahalanobis,data.no_permute_regression_l1_norm)[0])\n",
    "\n",
    "all_compression_methods['gt_mahala_vs_cs_mahala_pearson'] = gt_cs_naive_mahala_cor\n",
    "all_compression_methods['gt_mahala_vs_cs_boot_mahala_pearson'] = gt_cs_boot_mahala_cor \n",
    "all_compression_methods['gt_mahala_vs_cs_regression_l1_norm'] = gt_mahala_cs_reg_corr\n",
    "all_compression_methods['gt_mahala_vs_cs_no_permute_regression_l1_norm'] = gt_mahala_cs_no_permute_corr\n",
    "all_compression_methods.to_csv(\"CS_all_pearsons_gt_mahala_vs_mahala_mahalaBoot_regL1_empiricalcov_with_permute_raw_reg.csv\",index=False)"
   ]
  }
 ],
 "metadata": {
  "kernelspec": {
   "display_name": "Python 3.7.3 64-bit",
   "language": "python",
   "name": "python3"
  },
  "language_info": {
   "codemirror_mode": {
    "name": "ipython",
    "version": 3
   },
   "file_extension": ".py",
   "mimetype": "text/x-python",
   "name": "python",
   "nbconvert_exporter": "python",
   "pygments_lexer": "ipython3",
   "version": "3.7.3"
  },
  "vscode": {
   "interpreter": {
    "hash": "31f2aee4e71d21fbe5cf8b01ff0e069b9275f58929596ceb00d14d90e3e16cd6"
   }
  }
 },
 "nbformat": 4,
 "nbformat_minor": 5
}
