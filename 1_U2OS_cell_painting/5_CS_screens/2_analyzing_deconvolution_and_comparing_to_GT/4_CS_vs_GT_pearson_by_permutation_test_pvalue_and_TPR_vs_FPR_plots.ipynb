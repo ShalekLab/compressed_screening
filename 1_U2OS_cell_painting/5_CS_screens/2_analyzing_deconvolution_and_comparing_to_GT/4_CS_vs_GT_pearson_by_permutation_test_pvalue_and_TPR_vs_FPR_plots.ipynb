{
 "cells": [
  {
   "cell_type": "markdown",
   "metadata": {},
   "source": [
    "# Making plots for CS vs GT pearson correlation at different permutation test p values and the TPR/FPR plots across perumtation testing p vlaues\n",
    "\n",
    "### What this does\n",
    "- Loads in results from applying different permutation testing pvalues (0.01 to 1 by steps of 0.01) to deconvolution of each screen\n",
    "- Makes Pearson and Spearman correlation plots for pvalue thresholds at 0.001, 0.01, and 0.05\n",
    "- Makes TPR vs FPR plots"
   ]
  },
  {
   "cell_type": "code",
   "execution_count": 1,
   "metadata": {
    "vscode": {
     "languageId": "r"
    }
   },
   "outputs": [
    {
     "name": "stderr",
     "output_type": "stream",
     "text": [
      "── \u001b[1mAttaching packages\u001b[22m ─────────────────────────────────────── tidyverse 1.2.1 ──\n",
      "\u001b[32m✔\u001b[39m \u001b[34mggplot2\u001b[39m 3.2.1     \u001b[32m✔\u001b[39m \u001b[34mpurrr  \u001b[39m 0.3.3\n",
      "\u001b[32m✔\u001b[39m \u001b[34mtibble \u001b[39m 2.1.3     \u001b[32m✔\u001b[39m \u001b[34mdplyr  \u001b[39m 0.8.5\n",
      "\u001b[32m✔\u001b[39m \u001b[34mtidyr  \u001b[39m 1.0.0     \u001b[32m✔\u001b[39m \u001b[34mstringr\u001b[39m 1.4.0\n",
      "\u001b[32m✔\u001b[39m \u001b[34mreadr  \u001b[39m 1.3.1     \u001b[32m✔\u001b[39m \u001b[34mforcats\u001b[39m 0.4.0\n",
      "── \u001b[1mConflicts\u001b[22m ────────────────────────────────────────── tidyverse_conflicts() ──\n",
      "\u001b[31m✖\u001b[39m \u001b[34mdplyr\u001b[39m::\u001b[32mfilter()\u001b[39m masks \u001b[34mstats\u001b[39m::filter()\n",
      "\u001b[31m✖\u001b[39m \u001b[34mdplyr\u001b[39m::\u001b[32mlag()\u001b[39m    masks \u001b[34mstats\u001b[39m::lag()\n",
      "\n",
      "********************************************************\n",
      "Note: As of version 1.0.0, cowplot does not change the\n",
      "  default ggplot2 theme anymore. To recover the previous\n",
      "  behavior, execute:\n",
      "  theme_set(theme_cowplot())\n",
      "********************************************************\n",
      "\n",
      "Loading required package: viridisLite\n"
     ]
    }
   ],
   "source": [
    "library(tidyverse)\n",
    "library(cowplot)\n",
    "library(viridis)"
   ]
  },
  {
   "cell_type": "markdown",
   "metadata": {},
   "source": [
    "Loading in results from applying different permutation testing pvalues (0.01 to 1 by steps of 0.01) to deconvolution of each screen"
   ]
  },
  {
   "cell_type": "code",
   "execution_count": null,
   "metadata": {
    "vscode": {
     "languageId": "r"
    }
   },
   "outputs": [],
   "source": [
    "sig_levels = seq(0.0,0.99,by=0.01)\n",
    "\n",
    "i = 1\n",
    "threshold = sig_levels[i]\n",
    "reg_hit_stats = read.csv(paste0(\"regression_summary_stats/summary_stats_from_all_reg_sig_coef_permute_0.0_Dec102021.csv\"))\n",
    "reg_hit_stats = reg_hit_stats %>%filter(!((Metadata_run%in%c(\"CS_run3\"))&Metadata_compression==2&Metadata_replicates==7))\n",
    "reg_hit_stats$pool_size =(reg_hit_stats$Metadata_compression/2)*reg_hit_stats$Metadata_replicates\n",
    "reg_hit_stats$Metadata_compression_fctr = factor(reg_hit_stats$Metadata_compression,levels=c(2.0,4.0,8.0,16.0,32.0))\n",
    "reg_hit_stats$Metadata_replicates_fctr = factor(reg_hit_stats$Metadata_replicates,levels=c(3,5,7))\n",
    "reg_hit_stats$permute_threshold = threshold\n",
    "\n",
    "for(i in 2:length(sig_levels)){\n",
    "  threshold = sig_levels[i]\n",
    "  temp = read.csv(paste0(\"regression_summary_stats/summary_stats_from_all_reg_sig_coef_permute_\",threshold,\"_Dec102021.csv\"))\n",
    "  temp = temp %>%filter(!((Metadata_run%in%c(\"CS_run3\"))&Metadata_compression==2&Metadata_replicates==7))\n",
    "  temp$pool_size =(temp$Metadata_compression/2)*temp$Metadata_replicates\n",
    "  temp$Metadata_compression_fctr = factor(temp$Metadata_compression,levels=c(2.0,4.0,8.0,16.0,32.0))\n",
    "  temp$Metadata_replicates_fctr = factor(temp$Metadata_replicates,levels=c(3,5,7))\n",
    "  temp$permute_threshold = threshold\n",
    "  \n",
    "  reg_hit_stats = rbind(reg_hit_stats,temp)\n",
    "  \n",
    "}\n",
    "\n",
    "reg_hit_stats$pool_size = factor(reg_hit_stats$pool_size)"
   ]
  },
  {
   "cell_type": "markdown",
   "metadata": {},
   "source": [
    "Making Pearson and Spearman correlation plots for pvalue thresholds at 0.001, 0.01, and 0.05"
   ]
  },
  {
   "cell_type": "code",
   "execution_count": null,
   "metadata": {
    "vscode": {
     "languageId": "r"
    }
   },
   "outputs": [],
   "source": [
    "data = reg_hit_stats %>% filter(permute_threshold %in% c(0.001,0.01, 0.05))\n",
    "\n",
    "pdf(\"regression_summary_stats/pearson_by_stringency.pdf\",width = 2.75,height = 2.5,useDingbats = F)\n",
    "ggplot(data,aes(x=num_drugs_per_pool,y=pearson_gt_mahala_cs_perm_reg_l1_norm,color=permute_threshold)) +\n",
    "  geom_point() + scale_x_continuous(trans='log2') + ylab('Pearson correlation') +\n",
    "  xlab(\"Number of perturbations in pool\") + theme_cowplot() + geom_smooth() + ylim(-0.1,1) +\n",
    "  ggtitle(\"Pearson correlation between the GT Mahalanobis distances &\\nthe L1 norms of regression coeficients \")+\n",
    "  theme(plot.title = element_text(size=10,face=\"plain\"),axis.title = element_text(size=10),axis.text = element_text(size=8),legend.position = \"None\")\n",
    "dev.off()\n",
    "\n",
    "pdf(\"regression_summary_stats/spearman_by_stringency.pdf\",width = 2.75,height = 2.75,useDingbats = F)\n",
    "ggplot(data,aes(x=num_drugs_per_pool,y=spearman_gt_mahala_cs_perm_reg_l1_norm,color=permute_threshold)) +\n",
    "  geom_point() + scale_x_continuous(trans='log2') + ylab('Spearman correlation') +\n",
    "  xlab(\"Number of perturbations in pool\") + theme_cowplot() + geom_smooth() + ylim(-0.1,1) +\n",
    "  ggtitle(\"Spearman correlation between the GT Mahalanobis distances &\\nthe L1 norms of regression coeficients \")+\n",
    "  theme(plot.title = element_text(size=10,face=\"plain\"),axis.title = element_text(size=10),axis.text = element_text(size=8),legend.position = \"None\")\n",
    "dev.off()"
   ]
  },
  {
   "cell_type": "markdown",
   "metadata": {},
   "source": [
    "Making TPR/FPR plots"
   ]
  },
  {
   "cell_type": "code",
   "execution_count": null,
   "metadata": {
    "vscode": {
     "languageId": "r"
    }
   },
   "outputs": [],
   "source": [
    "pdf(\"regression_summary_stats/tpr_fpr_roc_curves_run1.pdf\",width = 3.5,height = 3.5,useDingbats = F)\n",
    "partA = reg_hit_stats %>% filter(Metadata_run ==\"CS_run1\")\n",
    "partB = reg_hit_stats %>% filter(Metadata_run ==\"CS_run3\") %>% filter(Metadata_scheme==\"random1\")\n",
    "data = rbind(partA,partB) %>% filter()\n",
    "data$pool_color = as.numeric(as.character(data$pool_size))\n",
    "ggplot(data,aes(y=tpr,x= fpr,color=pool_color)) +geom_line(aes(group=pool_size))+ theme_classic() + ylim(0,1) + xlim(0,0.65) +\n",
    "  ggtitle(\"Run 1\") + scale_color_viridis(discrete = F,trans=\"log2\") +labs(color=\"Pool size\") + geom_abline(linetype = \"dashed\")\n",
    "dev.off()\n",
    "\n",
    "pdf(\"regression_summary_stats/tpr_fpr_roc_curves_run2.pdf\",width = 3.5,height = 3.5,useDingbats = F)\n",
    "partA = reg_hit_stats %>% filter(Metadata_run ==\"CS_run2\")\n",
    "partB = reg_hit_stats %>% filter(Metadata_run ==\"CS_run3\") %>% filter(Metadata_scheme==\"random2\")\n",
    "data = rbind(partA,partB) %>% filter()\n",
    "data$pool_color = as.numeric(as.character(data$pool_size))\n",
    "ggplot(data,aes(y=tpr,x= fpr,color=pool_color)) +geom_line(aes(group=pool_size))+ theme_classic() + ylim(0,1) + xlim(0,0.65) +\n",
    "  ggtitle(\"Run 2\") + scale_color_viridis(discrete = F,trans=\"log2\") +labs(color=\"Pool size\")+ geom_abline(linetype = \"dashed\")\n",
    "dev.off()"
   ]
  }
 ],
 "metadata": {
  "kernelspec": {
   "display_name": "R",
   "language": "R",
   "name": "ir"
  },
  "language_info": {
   "codemirror_mode": "r",
   "file_extension": ".r",
   "mimetype": "text/x-r-source",
   "name": "R",
   "pygments_lexer": "r",
   "version": "3.6.1"
  },
  "orig_nbformat": 4
 },
 "nbformat": 4,
 "nbformat_minor": 2
}
