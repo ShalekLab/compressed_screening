{
 "cells": [
  {
   "cell_type": "markdown",
   "metadata": {},
   "source": [
    "# Comp Screening - cell painting perform PCA reduction + batch correction\n",
    "## FOR COMPLTETE (datalock) cell painting dataset\n",
    "#### _BEM 09-27-2021_\n",
    "\n",
    "\n",
    "### Metadata\n",
    "* U2OS cells screened with single / full plate(s) of KI FDA library\n",
    "* 57 plates\n",
    "* 9x fields captured per well @ 20X magnification\n",
    "\n",
    "### What this does\n",
    "Performs PCA reductions (keeping PCs accounting for 95% variance exp.), and also saves a harmony batch-corrected PCA space"
   ]
  },
  {
   "cell_type": "code",
   "execution_count": 1,
   "metadata": {},
   "outputs": [],
   "source": [
    "import os\n",
    "import sys\n",
    "import pandas as pd\n",
    "import numpy as np\n",
    "import scanpy as sc\n",
    "import anndata\n",
    "\n",
    "pd.set_option('mode.chained_assignment', None)\n",
    "data_path = '../2_DENOISED_median_aggregated/'"
   ]
  },
  {
   "cell_type": "markdown",
   "metadata": {},
   "source": [
    "## Define Functions"
   ]
  },
  {
   "cell_type": "markdown",
   "metadata": {},
   "source": [
    "#### AnnData ingest"
   ]
  },
  {
   "cell_type": "code",
   "execution_count": 2,
   "metadata": {},
   "outputs": [],
   "source": [
    "def df_anndata(df):\n",
    "\n",
    "    # convert pandas comp screen df to scanpy anndata\n",
    "    \n",
    "    features = [col for col in \\\n",
    "                    df.columns if 'Metadata' not in col and \\\n",
    "                    'Number_of_Cells' not in col]\n",
    "\n",
    "    metadata = [col for col in \\\n",
    "                    df.columns if 'Metadata' in col \\\n",
    "                    or 'Number_of_Cells' in col]  \n",
    "\n",
    "    adata = anndata.AnnData(X = df[features])\n",
    "    adata.obs = df[metadata]\n",
    "\n",
    " \n",
    "    return adata"
   ]
  },
  {
   "cell_type": "markdown",
   "metadata": {},
   "source": [
    "#### PCA and harmony"
   ]
  },
  {
   "cell_type": "code",
   "execution_count": 3,
   "metadata": {},
   "outputs": [],
   "source": [
    "def PCA_harmony(adata, batch_var):\n",
    "\n",
    "    #run PCA\n",
    "    sc.tl.pca(adata)\n",
    "\n",
    "    # get num of PCs to use (up to 95% var explained)\n",
    "    num_pcs = sum(np.cumsum(adata.uns['pca']['variance_ratio']) < 0.95)+1\n",
    "    print('95% of variance explained by '+str(num_pcs)+' PCs')\n",
    "    \n",
    "    # run harmony\n",
    "    sc.external.pp.harmony_integrate(adata, batch_var, max_iter_harmony = 25)\n",
    " \n",
    "    return adata"
   ]
  },
  {
   "cell_type": "markdown",
   "metadata": {},
   "source": [
    "## Ingest, PCA, harmony, and save datasets"
   ]
  },
  {
   "cell_type": "markdown",
   "metadata": {},
   "source": [
    "#### Robust DMSO scale"
   ]
  },
  {
   "cell_type": "code",
   "execution_count": 9,
   "metadata": {},
   "outputs": [
    {
     "name": "stderr",
     "output_type": "stream",
     "text": [
      "/Users/bemead/anaconda3/envs/comp_screening/lib/python3.8/site-packages/anndata/_core/anndata.py:120: ImplicitModificationWarning: Transforming to str index.\n",
      "  warnings.warn(\"Transforming to str index.\", ImplicitModificationWarning)\n"
     ]
    },
    {
     "name": "stdout",
     "output_type": "stream",
     "text": [
      "95% of variance explained by 39 PCs\n"
     ]
    },
    {
     "name": "stderr",
     "output_type": "stream",
     "text": [
      "2021-09-27 12:22:03,588 - harmonypy - INFO - Iteration 1 of 25\n",
      "2021-09-27 12:22:04,985 - harmonypy - INFO - Iteration 2 of 25\n",
      "2021-09-27 12:22:06,422 - harmonypy - INFO - Iteration 3 of 25\n",
      "2021-09-27 12:22:08,102 - harmonypy - INFO - Iteration 4 of 25\n",
      "2021-09-27 12:22:09,737 - harmonypy - INFO - Iteration 5 of 25\n",
      "2021-09-27 12:22:11,281 - harmonypy - INFO - Iteration 6 of 25\n",
      "2021-09-27 12:22:12,765 - harmonypy - INFO - Iteration 7 of 25\n",
      "2021-09-27 12:22:14,236 - harmonypy - INFO - Iteration 8 of 25\n",
      "2021-09-27 12:22:15,656 - harmonypy - INFO - Iteration 9 of 25\n",
      "2021-09-27 12:22:17,076 - harmonypy - INFO - Iteration 10 of 25\n",
      "2021-09-27 12:22:18,535 - harmonypy - INFO - Iteration 11 of 25\n",
      "2021-09-27 12:22:20,039 - harmonypy - INFO - Converged after 11 iterations\n",
      "... storing 'Metadata_run' as categorical\n",
      "... storing 'Metadata_Well' as categorical\n",
      "... storing 'Metadata_perturbation' as categorical\n",
      "... storing 'Metadata_Plate' as categorical\n",
      "... storing 'Metadata_KI_ID' as categorical\n"
     ]
    }
   ],
   "source": [
    "# DT\n",
    "data = pd.read_csv(data_path+'09242021_QC_both_rd_DT_feature_table.gz', low_memory = False)\n",
    "\n",
    "# convert to anndata, run PCA + harmony, save as anndata\n",
    "adata = df_anndata(data)\n",
    "adata = PCA_harmony(adata, batch_var='Metadata_run')\n",
    "adata.write(filename='09272021_PCH_rd_DT_table.h5ad', compression='gzip')"
   ]
  },
  {
   "cell_type": "code",
   "execution_count": 4,
   "metadata": {},
   "outputs": [
    {
     "name": "stderr",
     "output_type": "stream",
     "text": [
      "/Users/Ben/anaconda3/envs/comp_screen/lib/python3.8/site-packages/anndata/_core/anndata.py:120: ImplicitModificationWarning: Transforming to str index.\n",
      "  warnings.warn(\"Transforming to str index.\", ImplicitModificationWarning)\n"
     ]
    },
    {
     "name": "stdout",
     "output_type": "stream",
     "text": [
      "95% of variance explained by 32 PCs\n"
     ]
    },
    {
     "name": "stderr",
     "output_type": "stream",
     "text": [
      "2021-10-01 08:10:01,532 - harmonypy - INFO - Iteration 1 of 25\n",
      "2021-10-01 08:10:03,076 - harmonypy - INFO - Iteration 2 of 25\n",
      "2021-10-01 08:10:05,238 - harmonypy - INFO - Iteration 3 of 25\n",
      "2021-10-01 08:10:07,307 - harmonypy - INFO - Iteration 4 of 25\n",
      "2021-10-01 08:10:09,020 - harmonypy - INFO - Iteration 5 of 25\n",
      "2021-10-01 08:10:11,563 - harmonypy - INFO - Iteration 6 of 25\n",
      "2021-10-01 08:10:13,412 - harmonypy - INFO - Iteration 7 of 25\n",
      "2021-10-01 08:10:15,443 - harmonypy - INFO - Iteration 8 of 25\n",
      "2021-10-01 08:10:17,088 - harmonypy - INFO - Iteration 9 of 25\n",
      "2021-10-01 08:10:18,737 - harmonypy - INFO - Converged after 9 iterations\n",
      "... storing 'Metadata_run' as categorical\n",
      "... storing 'Metadata_Well' as categorical\n",
      "... storing 'Metadata_perturbation' as categorical\n",
      "... storing 'Metadata_Plate' as categorical\n",
      "... storing 'Metadata_KI_ID' as categorical\n"
     ]
    }
   ],
   "source": [
    "# FL\n",
    "data = pd.read_csv(data_path+'09242021_QC_both_rd_FL_feature_table.gz', low_memory = False)\n",
    "\n",
    "# convert to anndata, run PCA + harmony, save as anndata\n",
    "adata = df_anndata(data)\n",
    "adata = PCA_harmony(adata, batch_var='Metadata_run')\n",
    "adata.write(filename='09272021_PCH_rd_FL_table.h5ad', compression='gzip')"
   ]
  },
  {
   "cell_type": "code",
   "execution_count": 11,
   "metadata": {},
   "outputs": [
    {
     "name": "stderr",
     "output_type": "stream",
     "text": [
      "/Users/bemead/anaconda3/envs/comp_screening/lib/python3.8/site-packages/anndata/_core/anndata.py:120: ImplicitModificationWarning: Transforming to str index.\n",
      "  warnings.warn(\"Transforming to str index.\", ImplicitModificationWarning)\n"
     ]
    },
    {
     "name": "stdout",
     "output_type": "stream",
     "text": [
      "95% of variance explained by 30 PCs\n"
     ]
    },
    {
     "name": "stderr",
     "output_type": "stream",
     "text": [
      "2021-09-27 12:22:37,101 - harmonypy - INFO - Iteration 1 of 25\n",
      "2021-09-27 12:22:39,094 - harmonypy - INFO - Iteration 2 of 25\n",
      "2021-09-27 12:22:41,281 - harmonypy - INFO - Iteration 3 of 25\n",
      "2021-09-27 12:22:43,492 - harmonypy - INFO - Iteration 4 of 25\n",
      "2021-09-27 12:22:45,686 - harmonypy - INFO - Iteration 5 of 25\n",
      "2021-09-27 12:22:47,742 - harmonypy - INFO - Iteration 6 of 25\n",
      "2021-09-27 12:22:49,677 - harmonypy - INFO - Iteration 7 of 25\n",
      "2021-09-27 12:22:51,756 - harmonypy - INFO - Iteration 8 of 25\n",
      "2021-09-27 12:22:53,158 - harmonypy - INFO - Converged after 8 iterations\n",
      "... storing 'Metadata_run' as categorical\n",
      "... storing 'Metadata_Well' as categorical\n",
      "... storing 'Metadata_perturbation' as categorical\n",
      "... storing 'Metadata_Plate' as categorical\n",
      "... storing 'Metadata_KI_ID' as categorical\n"
     ]
    }
   ],
   "source": [
    "# OG316\n",
    "data = pd.read_csv(data_path+'09242021_QC_both_rd_OG316_feature_table.gz', low_memory = False)\n",
    "\n",
    "# convert to anndata, run PCA + harmony, save as anndata\n",
    "adata = df_anndata(data)\n",
    "adata = PCA_harmony(adata, batch_var='Metadata_run')\n",
    "adata.write(filename='09272021_PCH_rd_OG316_table.h5ad', compression='gzip')"
   ]
  },
  {
   "cell_type": "markdown",
   "metadata": {},
   "source": [
    "#### mRMR Robust DMSO scale"
   ]
  },
  {
   "cell_type": "code",
   "execution_count": 5,
   "metadata": {},
   "outputs": [
    {
     "name": "stderr",
     "output_type": "stream",
     "text": [
      "/Users/Ben/anaconda3/envs/comp_screen/lib/python3.8/site-packages/anndata/_core/anndata.py:120: ImplicitModificationWarning: Transforming to str index.\n",
      "  warnings.warn(\"Transforming to str index.\", ImplicitModificationWarning)\n"
     ]
    },
    {
     "name": "stdout",
     "output_type": "stream",
     "text": [
      "95% of variance explained by 45 PCs\n"
     ]
    },
    {
     "name": "stderr",
     "output_type": "stream",
     "text": [
      "2021-10-01 08:10:24,544 - harmonypy - INFO - Iteration 1 of 25\n",
      "2021-10-01 08:10:26,251 - harmonypy - INFO - Iteration 2 of 25\n",
      "2021-10-01 08:10:28,707 - harmonypy - INFO - Iteration 3 of 25\n",
      "2021-10-01 08:10:30,355 - harmonypy - INFO - Iteration 4 of 25\n",
      "2021-10-01 08:10:31,931 - harmonypy - INFO - Iteration 5 of 25\n",
      "2021-10-01 08:10:33,564 - harmonypy - INFO - Iteration 6 of 25\n",
      "2021-10-01 08:10:35,658 - harmonypy - INFO - Iteration 7 of 25\n",
      "2021-10-01 08:10:38,283 - harmonypy - INFO - Iteration 8 of 25\n",
      "2021-10-01 08:10:41,067 - harmonypy - INFO - Iteration 9 of 25\n",
      "2021-10-01 08:10:44,235 - harmonypy - INFO - Converged after 9 iterations\n",
      "... storing 'Metadata_run' as categorical\n",
      "... storing 'Metadata_Well' as categorical\n",
      "... storing 'Metadata_perturbation' as categorical\n",
      "... storing 'Metadata_Plate' as categorical\n",
      "... storing 'Metadata_KI_ID' as categorical\n"
     ]
    }
   ],
   "source": [
    "# FL\n",
    "data = pd.read_csv(data_path+'09252021_QC_mrmr_rd_FL_feature_table.gz', low_memory = False)\n",
    "\n",
    "# convert to anndata, run PCA + harmony, save as anndata\n",
    "adata = df_anndata(data)\n",
    "adata = PCA_harmony(adata, batch_var='Metadata_run')\n",
    "adata.write(filename='09272021_PCH_mrmr_rd_FL_table.h5ad', compression='gzip')"
   ]
  },
  {
   "cell_type": "code",
   "execution_count": 14,
   "metadata": {},
   "outputs": [
    {
     "name": "stderr",
     "output_type": "stream",
     "text": [
      "/Users/bemead/anaconda3/envs/comp_screening/lib/python3.8/site-packages/anndata/_core/anndata.py:120: ImplicitModificationWarning: Transforming to str index.\n",
      "  warnings.warn(\"Transforming to str index.\", ImplicitModificationWarning)\n"
     ]
    },
    {
     "name": "stdout",
     "output_type": "stream",
     "text": [
      "95% of variance explained by 43 PCs\n"
     ]
    },
    {
     "name": "stderr",
     "output_type": "stream",
     "text": [
      "2021-09-27 12:24:30,967 - harmonypy - INFO - Iteration 1 of 25\n",
      "2021-09-27 12:24:33,003 - harmonypy - INFO - Iteration 2 of 25\n",
      "2021-09-27 12:24:35,070 - harmonypy - INFO - Iteration 3 of 25\n",
      "2021-09-27 12:24:37,069 - harmonypy - INFO - Iteration 4 of 25\n",
      "2021-09-27 12:24:38,699 - harmonypy - INFO - Iteration 5 of 25\n",
      "2021-09-27 12:24:40,304 - harmonypy - INFO - Iteration 6 of 25\n",
      "2021-09-27 12:24:41,696 - harmonypy - INFO - Iteration 7 of 25\n",
      "2021-09-27 12:24:42,845 - harmonypy - INFO - Iteration 8 of 25\n",
      "2021-09-27 12:24:43,924 - harmonypy - INFO - Iteration 9 of 25\n",
      "2021-09-27 12:24:44,913 - harmonypy - INFO - Iteration 10 of 25\n",
      "2021-09-27 12:24:45,931 - harmonypy - INFO - Iteration 11 of 25\n",
      "2021-09-27 12:24:46,843 - harmonypy - INFO - Iteration 12 of 25\n",
      "2021-09-27 12:24:47,745 - harmonypy - INFO - Converged after 12 iterations\n",
      "... storing 'Metadata_run' as categorical\n",
      "... storing 'Metadata_Well' as categorical\n",
      "... storing 'Metadata_perturbation' as categorical\n",
      "... storing 'Metadata_Plate' as categorical\n",
      "... storing 'Metadata_KI_ID' as categorical\n"
     ]
    }
   ],
   "source": [
    "# OG316\n",
    "data = pd.read_csv(data_path+'09252021_QC_mrmr_rd_OG316_feature_table.gz', low_memory = False)\n",
    "\n",
    "# convert to anndata, run PCA + harmony, save as anndata\n",
    "adata = df_anndata(data)\n",
    "adata = PCA_harmony(adata, batch_var='Metadata_run')\n",
    "adata.write(filename='09272021_PCH_mrmr_rd_OG316_table.h5ad', compression='gzip')"
   ]
  }
 ],
 "metadata": {
  "kernelspec": {
   "display_name": "Python 3.7.3 64-bit",
   "language": "python",
   "name": "python3"
  },
  "language_info": {
   "codemirror_mode": {
    "name": "ipython",
    "version": 3
   },
   "file_extension": ".py",
   "mimetype": "text/x-python",
   "name": "python",
   "nbconvert_exporter": "python",
   "pygments_lexer": "ipython3",
   "version": "3.7.3"
  },
  "vscode": {
   "interpreter": {
    "hash": "31f2aee4e71d21fbe5cf8b01ff0e069b9275f58929596ceb00d14d90e3e16cd6"
   }
  }
 },
 "nbformat": 4,
 "nbformat_minor": 4
}
