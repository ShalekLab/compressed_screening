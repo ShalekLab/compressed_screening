{
 "cells": [
  {
   "cell_type": "markdown",
   "metadata": {},
   "source": [
    "# Comp Screening - cell painting select variable features\n",
    "## FOR COMPLTETE (datalock) cell painting dataset\n",
    "#### _BEM 09-24-2021_\n",
    "\n",
    "\n",
    "### Metadata\n",
    "* U2OS cells screened with single / full plate(s) of KI FDA library\n",
    "* 57 plates\n",
    "* 9x fields captured per well @ 20X magnification\n",
    "\n",
    "### Preprocessing\n",
    "Cell profiler used to image correct, capture QC metrics, segment, and feature extract (AWS), cytominer used to aggregate\n",
    "\n",
    "Adapting per-image QC appraoch per Caldera et al Nature Comm.\n",
    "\n",
    "### What this does\n",
    "Aim is to select features with minimal noise (control variance) and maximal information (treat variance) regardless of imaging batch \n",
    "\n",
    "* divide the dataset into the 2 analyses:\n",
    "    * 1) Dose-time GT data of 316 compounds (DT)\n",
    "    * 2) 1uM & 24hr GT & CS of 316 compounds (OG316)\n",
    "\n",
    "\n",
    "* On a per-dataset basis:\n",
    "    * 1) Calculate per plate ratio of non-DMSO to DMSO well dispersion (MAD)\n",
    "    * 2) Record features with dispersion ratio > 66th pctl\n",
    "    * 3) Retain features which pass above condition in > 50% of plates\n",
    "    * 4) Run mRMR feature selection (retain top 150)\n",
    "    "
   ]
  },
  {
   "cell_type": "code",
   "execution_count": 6,
   "metadata": {},
   "outputs": [],
   "source": [
    "import os\n",
    "import pandas as pd\n",
    "import numpy as np\n",
    "import matplotlib.pyplot as plt\n",
    "import seaborn as sns\n",
    "import multiprocess as mp\n",
    "\n",
    "from pymrmr import mRMR\n",
    "from collections import Counter\n",
    "from itertools import repeat\n",
    "from scipy import special\n",
    "from sklearn.cross_decomposition import CCA\n",
    "\n",
    "np.seterr(invalid='ignore')\n",
    "pd.set_option('mode.chained_assignment', None)\n",
    "\n",
    "batch_data = '../1_SCALED_median_aggregated/'"
   ]
  },
  {
   "cell_type": "markdown",
   "metadata": {},
   "source": [
    "## Define Functions"
   ]
  },
  {
   "cell_type": "markdown",
   "metadata": {},
   "source": [
    "#### MAD calculation"
   ]
  },
  {
   "cell_type": "code",
   "execution_count": 2,
   "metadata": {},
   "outputs": [],
   "source": [
    "def calc_disp(table, table_name, ratio_cutoff):\n",
    "    \n",
    "    #Calculate disp, should be < cutoff > 0        \n",
    "    # load all features\n",
    "    features = [col for col in \\\n",
    "                    table.columns if 'Metadata' not in col and \\\n",
    "                    'Number_of_Cells' not in col]\n",
    "\n",
    "    CVs = pd.DataFrame()\n",
    "    \n",
    "    # initailize null disp table\n",
    "    CVs = pd.DataFrame(np.zeros(len(features)),\n",
    "                                       columns=['CV'], \n",
    "                                       index=features)\n",
    "    \n",
    "    # Calculate disp for each feature\n",
    "    for f in features:\n",
    "\n",
    "        # calculate the disp (MAD)\n",
    "        DMSO_results = table.loc[(table.Metadata_perturbation == 'DMSO'),f].values\n",
    "        med_DMSO = np.median(DMSO_results)\n",
    "        DMSO_MAD = np.median(np.absolute(DMSO_results - med_DMSO))\n",
    "        \n",
    "        treat_results = table.loc[~(table.Metadata_perturbation == 'DMSO'),f].values\n",
    "        treat_MAD = np.median(np.absolute(treat_results - med_DMSO))\n",
    "        \n",
    "        # store the ratio in table\n",
    "        if DMSO_MAD != 0:\n",
    "            CVs.at[f,'CV'] = treat_MAD / DMSO_MAD\n",
    "\n",
    "    cutoff = np.quantile([x for x in CVs.CV.values if x != 0], ratio_cutoff)\n",
    "    passing_feats = CVs.loc[(CVs.CV > cutoff)].index.to_list()\n",
    "    \n",
    "    hist, bins = np.histogram((CVs.CV.values + 0.5), bins=100)\n",
    "    logbins = np.logspace(np.log10(bins[0]),np.log10(bins[-1]),len(bins))\n",
    "    plt.hist((CVs.CV.values + 0.5), bins=logbins, color='grey')\n",
    "    plt.xscale('log')\n",
    "    plt.axvline((cutoff + 0.5), ls='--', c='red')\n",
    "    plt.legend(['Rejected Features: %d' % len([x for x in CVs.CV.values if x < cutoff])])\n",
    "    plt.savefig('plots/MADratio_'+ table_name + '_CV.pdf')\n",
    "    plt.close()\n",
    "            \n",
    "    return passing_feats\n"
   ]
  },
  {
   "cell_type": "code",
   "execution_count": 3,
   "metadata": {},
   "outputs": [],
   "source": [
    "def pass_disp(table, batch, ratio_cutoff, freq_cutoff, condition = 'fraction'):\n",
    "    # Create list of features which PASS intraplate cv < cutoff\n",
    "    ## Condition MUST BE either 'fraction' or 'quantile'\n",
    "    \n",
    "    # list all plates and features in batch\n",
    "    plates = list(set(table.Metadata_Plate.values))\n",
    "    features = [col for col in \\\n",
    "                    table.columns if 'Metadata' not in col and \\\n",
    "                    'Number_of_Cells' not in col]\n",
    "    \n",
    "    # Calc disp ratio on per-plate basis & build table of freq passing features\n",
    "    \n",
    "    # initailize null passing features table\n",
    "    passing_count_table = pd.DataFrame(np.zeros(len(features)),\n",
    "                                       columns=['counts'], \n",
    "                                       index=features)\n",
    "\n",
    "    # run for each plate and append to passing features table    \n",
    "    for p in plates:\n",
    "\n",
    "        #filter table to plate and return features passing disp condition\n",
    "        plate = table.loc[(table.Metadata_Plate==p),:]\n",
    "        plate_passing_feat = calc_disp(plate, (batch+'_'+p), ratio_cutoff)   \n",
    "        \n",
    "        #if passing feature present add 1\n",
    "        for f in plate_passing_feat:\n",
    "            passing_count_table.at[f,'counts'] += 1\n",
    "        \n",
    "    # Create final passing feature list\n",
    "    print('Calculating final passing feature list')\n",
    "    \n",
    "    # for DMSO cutoff is % of passing plates\n",
    "    if condition == 'fraction':\n",
    "        freq_cutoff = freq_cutoff*len(plates)\n",
    "    # for treat cutoff is quantile of passing plates\n",
    "    elif condition == 'quantile':\n",
    "        freq_cutoff = np.quantile(passing_count_table.counts.values, freq_cutoff)\n",
    "    \n",
    "    CV_passing = passing_count_table.loc[(passing_count_table.counts > freq_cutoff)].index.to_list()\n",
    "\n",
    "    plt.hist(passing_count_table.counts.values, bins='auto', color='grey')\n",
    "    plt.axvline(freq_cutoff, ls='--', c='red')\n",
    "    plt.legend(['Rejected Features: %d' % len([x for x in passing_count_table.counts.values if x < freq_cutoff])])\n",
    "    plt.savefig('plots/' + batch + '_dratio_merge.pdf')\n",
    "    plt.close()\n",
    "    \n",
    "    # print out some metrics\n",
    "    print('# features passing for:')\n",
    "    print(batch+' ratio: %d' %len(CV_passing))\n",
    "    \n",
    "    return CV_passing"
   ]
  },
  {
   "cell_type": "markdown",
   "metadata": {},
   "source": [
    "#### Heatmap fn"
   ]
  },
  {
   "cell_type": "code",
   "execution_count": 4,
   "metadata": {},
   "outputs": [],
   "source": [
    "def corr_heatmap(data, features, plotname):\n",
    "\n",
    "    feature_all_values = {} # Dict with keys as features and values as ALL well values\n",
    "    for f in features:\n",
    "        feature_all_values[f] = data[f].values\n",
    "\n",
    "    heatmap_data = []\n",
    "    for f in feature_all_values.keys():\n",
    "        feature1 = feature_all_values[f]\n",
    "\n",
    "        tmp = []\n",
    "        for f2 in feature_all_values.keys():\n",
    "            feature2 = feature_all_values[f2]\n",
    "            cor = np.corrcoef(feature1, feature2)[0, 1]\n",
    "            tmp.append(cor)\n",
    "        heatmap_data.append(tmp)\n",
    "\n",
    "    sns.clustermap(data=heatmap_data, cmap=\"RdBu\")\n",
    "    plt.savefig('plots/'+ plotname +'_feature_CorrelationHeatMap.jpg')\n",
    "    plt.close()"
   ]
  },
  {
   "cell_type": "markdown",
   "metadata": {},
   "source": [
    "## Filter Datasets"
   ]
  },
  {
   "cell_type": "code",
   "execution_count": 11,
   "metadata": {
    "jupyter": {
     "source_hidden": true
    }
   },
   "outputs": [],
   "source": [
    "# Dose-time plates\n",
    "DT_plates = ['GT_run1_batch1_KI-CAS1_200211160001',\n",
    "             'GT_run1_batch1_KI-CAS1_200211200001',\n",
    "             'GT_run1_batch1_KI-CAS1_200211230001',\n",
    "             'GT_run1_batch1_KI-CAS1_200212030001',\n",
    "             'GT_run1_batch1_KI-CAS1_200212060001',\n",
    "             'GT_run1_batch1_KI-CAS1_200212100001',\n",
    "             'GT_run1_batch1_KI-CAS1_200212140001',\n",
    "             'GT_run1_batch1_KI-CAS1_200212170001',\n",
    "             'GT_run1_batch1_KI-CAS1_200212210001',\n",
    "             'GT_run1_batch1_KI-CAS1_200213000001',\n",
    "             'GT_run1_batch1_KI-CAS1_200213030001',\n",
    "             'GT_run1_batch1_KI-CAS1_200213070001',\n",
    "             'GT_run1_batch1_KI-CAS1_200213120001',\n",
    "             'GT_run1_batch1_KI-CAS1_200213150001',\n",
    "             'GT_run1_batch1_KI-CAS1_200213180001',\n",
    "             'GT_run1_batch1_KI-CAS1_200213210001',\n",
    "             'GT_run1_batch1_KI-CAS1_200214000001',\n",
    "             'GT_run1_batch1_KI-CAS1_200214040001',\n",
    "             'GT_run1_batch2_KI-CAS1_200721140001',\n",
    "             'GT_run1_batch2_KI-CAS1_200721170001',\n",
    "             'GT_run1_batch2_KI-CAS1_200722120001',\n",
    "             'GT_run1_batch2_KI-CAS1_200724100001',\n",
    "             'GT_run2_FDA_plate1_1',\n",
    "             'GT_run2_FDA_plate1_2',\n",
    "             'GT_run2_FDA_plate1_3',\n",
    "             'GT_run2_FDA_plate1_4']\n"
   ]
  },
  {
   "cell_type": "markdown",
   "metadata": {},
   "source": [
    "#### Robust (non DMSO) scale"
   ]
  },
  {
   "cell_type": "code",
   "execution_count": 12,
   "metadata": {},
   "outputs": [],
   "source": [
    "data = pd.read_csv(batch_data+'0920201_robscale_QC_median_all_feature_table.gz', low_memory = False)"
   ]
  },
  {
   "cell_type": "code",
   "execution_count": 13,
   "metadata": {},
   "outputs": [],
   "source": [
    "# DT\n",
    "r_DT_data = data.loc[data.Metadata_Plate.isin(DT_plates)]\n",
    "\n",
    "# OG316\n",
    "r_OG316_data = data.loc[(data.Metadata_time_hr == 24)&(data.Metadata_conc_uM == 1)]\n",
    "\n",
    "del data"
   ]
  },
  {
   "cell_type": "markdown",
   "metadata": {},
   "source": [
    "#### Robust DMSO scale"
   ]
  },
  {
   "cell_type": "code",
   "execution_count": 16,
   "metadata": {},
   "outputs": [],
   "source": [
    "data = pd.read_csv(batch_data+'0920201_robscaleDMSO_QC_median_all_feature_table.gz', low_memory = False)"
   ]
  },
  {
   "cell_type": "code",
   "execution_count": 17,
   "metadata": {},
   "outputs": [],
   "source": [
    "# DT\n",
    "rd_DT_data = data.loc[data.Metadata_Plate.isin(DT_plates)]\n",
    "\n",
    "# OG316\n",
    "rd_OG316_data = data.loc[(data.Metadata_time_hr == 24)&(data.Metadata_conc_uM == 1)]\n",
    "\n",
    "\n",
    "del data"
   ]
  },
  {
   "cell_type": "markdown",
   "metadata": {},
   "source": [
    "## Run Feature Selection"
   ]
  },
  {
   "cell_type": "markdown",
   "metadata": {},
   "source": [
    "#### Robust (non DMSO) scale"
   ]
  },
  {
   "cell_type": "code",
   "execution_count": 21,
   "metadata": {},
   "outputs": [
    {
     "name": "stdout",
     "output_type": "stream",
     "text": [
      "Calculating final passing feature list\n",
      "# features passing for:\n",
      "r_DT_low_noise ratio: 1859\n",
      "Calculating final passing feature list\n",
      "# features passing for:\n",
      "r_DT_high_singal ratio: 1254\n",
      "# of features passing noise & signal: 861\n"
     ]
    }
   ],
   "source": [
    "data = r_DT_data\n",
    "metadata_all = ['Number_of_Cells']+[col for col in data.columns if 'Metadata' in col]\n",
    "\n",
    "ratio_pass_noise = pass_disp(data, batch = 'r_DT_low_noise', \n",
    "                             ratio_cutoff = 0.10, \n",
    "                             freq_cutoff = 0.90)\n",
    "\n",
    "ratio_pass_signal = pass_disp(data, batch = 'r_DT_high_singal', \n",
    "                              ratio_cutoff = 0.90, \n",
    "                              freq_cutoff = 0.10)\n",
    "\n",
    "ratio_pass_both = list(set(ratio_pass_signal).intersection(set(ratio_pass_noise)))\n",
    "\n",
    "print('# of features passing noise & signal: %d' %len(ratio_pass_both))\n",
    "\n",
    "data_both = data[list(ratio_pass_both)+metadata_all]\n",
    "\n",
    "data_both.to_csv('09242021_QC_both_r_DT_feature_table.gz', index=False, compression='gzip')\n",
    "\n",
    "corr_heatmap(data, ratio_pass_both, '09242021_r_DT_data_both')"
   ]
  },
  {
   "cell_type": "code",
   "execution_count": 22,
   "metadata": {},
   "outputs": [
    {
     "name": "stdout",
     "output_type": "stream",
     "text": [
      "Calculating final passing feature list\n",
      "# features passing for:\n",
      "r_OG316_low_noise ratio: 2117\n",
      "Calculating final passing feature list\n",
      "# features passing for:\n",
      "r_OG316_high_singal ratio: 1054\n",
      "# of features passing noise & signal: 886\n"
     ]
    }
   ],
   "source": [
    "data = r_OG316_data\n",
    "metadata_all = ['Number_of_Cells']+[col for col in data.columns if 'Metadata' in col]\n",
    "\n",
    "ratio_pass_noise = pass_disp(data, batch = 'r_OG316_low_noise', \n",
    "                             ratio_cutoff = 0.10, \n",
    "                             freq_cutoff = 0.90)\n",
    "\n",
    "ratio_pass_signal = pass_disp(data, batch = 'r_OG316_high_singal', \n",
    "                              ratio_cutoff = 0.90, \n",
    "                              freq_cutoff = 0.10)\n",
    "\n",
    "ratio_pass_both = list(set(ratio_pass_signal).intersection(set(ratio_pass_noise)))\n",
    "\n",
    "print('# of features passing noise & signal: %d' %len(ratio_pass_both))\n",
    "\n",
    "data_both = data[list(ratio_pass_both)+metadata_all]\n",
    "\n",
    "data_both.to_csv('09242021_QC_both_r_OG316_feature_table.gz', index=False, compression='gzip')\n",
    "\n",
    "corr_heatmap(data, ratio_pass_both, '09242021_r_OG316_data_both')"
   ]
  },
  {
   "cell_type": "markdown",
   "metadata": {},
   "source": [
    "#### Robust DMSO scale"
   ]
  },
  {
   "cell_type": "code",
   "execution_count": 24,
   "metadata": {},
   "outputs": [
    {
     "name": "stdout",
     "output_type": "stream",
     "text": [
      "Calculating final passing feature list\n",
      "# features passing for:\n",
      "rd_DT_low_noise ratio: 1859\n",
      "Calculating final passing feature list\n",
      "# features passing for:\n",
      "rd_DT_high_singal ratio: 1254\n",
      "# of features passing noise & signal: 861\n"
     ]
    }
   ],
   "source": [
    "data = rd_DT_data\n",
    "metadata_all = ['Number_of_Cells']+[col for col in data.columns if 'Metadata' in col]\n",
    "\n",
    "ratio_pass_noise = pass_disp(data, batch = 'rd_DT_low_noise', \n",
    "                             ratio_cutoff = 0.10, \n",
    "                             freq_cutoff = 0.90)\n",
    "\n",
    "ratio_pass_signal = pass_disp(data, batch = 'rd_DT_high_singal', \n",
    "                              ratio_cutoff = 0.90, \n",
    "                              freq_cutoff = 0.10)\n",
    "\n",
    "ratio_pass_both = list(set(ratio_pass_signal).intersection(set(ratio_pass_noise)))\n",
    "\n",
    "print('# of features passing noise & signal: %d' %len(ratio_pass_both))\n",
    "\n",
    "data_both = data[list(ratio_pass_both)+metadata_all]\n",
    "\n",
    "data_both.to_csv('09242021_QC_both_rd_DT_feature_table.gz', index=False, compression='gzip')\n",
    "\n",
    "corr_heatmap(data, ratio_pass_both, '09242021_rd_DT_data_both')"
   ]
  },
  {
   "cell_type": "code",
   "execution_count": 25,
   "metadata": {},
   "outputs": [
    {
     "name": "stdout",
     "output_type": "stream",
     "text": [
      "Calculating final passing feature list\n",
      "# features passing for:\n",
      "rd_OG316_low_noise ratio: 2117\n",
      "Calculating final passing feature list\n",
      "# features passing for:\n",
      "rd_OG316_high_singal ratio: 1054\n",
      "# of features passing noise & signal: 886\n"
     ]
    }
   ],
   "source": [
    "data = rd_OG316_data\n",
    "metadata_all = ['Number_of_Cells']+[col for col in data.columns if 'Metadata' in col]\n",
    "\n",
    "ratio_pass_noise = pass_disp(data, batch = 'rd_OG316_low_noise', \n",
    "                             ratio_cutoff = 0.10, \n",
    "                             freq_cutoff = 0.90)\n",
    "\n",
    "ratio_pass_signal = pass_disp(data, batch = 'rd_OG316_high_singal', \n",
    "                              ratio_cutoff = 0.90, \n",
    "                              freq_cutoff = 0.10)\n",
    "\n",
    "ratio_pass_both = list(set(ratio_pass_signal).intersection(set(ratio_pass_noise)))\n",
    "\n",
    "print('# of features passing noise & signal: %d' %len(ratio_pass_both))\n",
    "\n",
    "data_both = data[list(ratio_pass_both)+metadata_all]\n",
    "\n",
    "data_both.to_csv('09242021_QC_both_rd_OG316_feature_table.gz', index=False, compression='gzip')\n",
    "\n",
    "corr_heatmap(data, ratio_pass_both, '09242021_rd_OG316_data_both')"
   ]
  },
  {
   "cell_type": "markdown",
   "metadata": {},
   "source": [
    "## mRMR filtering"
   ]
  },
  {
   "cell_type": "markdown",
   "metadata": {},
   "source": [
    "#### Robust DMSO scale"
   ]
  },
  {
   "cell_type": "markdown",
   "metadata": {},
   "source": [
    "all run on AWS C5 instance - refer to mRMR_batch.py"
   ]
  }
 ],
 "metadata": {
  "kernelspec": {
   "display_name": "Python 3.7.3 64-bit",
   "language": "python",
   "name": "python3"
  },
  "language_info": {
   "codemirror_mode": {
    "name": "ipython",
    "version": 3
   },
   "file_extension": ".py",
   "mimetype": "text/x-python",
   "name": "python",
   "nbconvert_exporter": "python",
   "pygments_lexer": "ipython3",
   "version": "3.7.3"
  },
  "vscode": {
   "interpreter": {
    "hash": "31f2aee4e71d21fbe5cf8b01ff0e069b9275f58929596ceb00d14d90e3e16cd6"
   }
  }
 },
 "nbformat": 4,
 "nbformat_minor": 4
}
